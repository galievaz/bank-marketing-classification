{
 "cells": [
  {
   "attachments": {},
   "cell_type": "markdown",
   "metadata": {},
   "source": [
    "# 1. Install and import dependencies"
   ]
  },
  {
   "cell_type": "code",
   "execution_count": 2,
   "metadata": {},
   "outputs": [],
   "source": [
    "#!pip install pycaret"
   ]
  },
  {
   "cell_type": "code",
   "execution_count": 3,
   "metadata": {},
   "outputs": [],
   "source": [
    "import pandas as pd\n",
    "from pycaret.classification import *"
   ]
  },
  {
   "attachments": {},
   "cell_type": "markdown",
   "metadata": {},
   "source": [
    "# 2. Load data"
   ]
  },
  {
   "cell_type": "code",
   "execution_count": 4,
   "metadata": {},
   "outputs": [],
   "source": [
    "df = pd.read_csv('../bank-additional-full.csv')"
   ]
  },
  {
   "cell_type": "code",
   "execution_count": null,
   "metadata": {},
   "outputs": [],
   "source": []
  },
  {
   "cell_type": "code",
   "execution_count": 5,
   "metadata": {},
   "outputs": [
    {
     "data": {
      "text/html": [
       "<div>\n",
       "<style scoped>\n",
       "    .dataframe tbody tr th:only-of-type {\n",
       "        vertical-align: middle;\n",
       "    }\n",
       "\n",
       "    .dataframe tbody tr th {\n",
       "        vertical-align: top;\n",
       "    }\n",
       "\n",
       "    .dataframe thead th {\n",
       "        text-align: right;\n",
       "    }\n",
       "</style>\n",
       "<table border=\"1\" class=\"dataframe\">\n",
       "  <thead>\n",
       "    <tr style=\"text-align: right;\">\n",
       "      <th></th>\n",
       "      <th>age</th>\n",
       "      <th>job</th>\n",
       "      <th>marital</th>\n",
       "      <th>education</th>\n",
       "      <th>default</th>\n",
       "      <th>housing</th>\n",
       "      <th>loan</th>\n",
       "      <th>contact</th>\n",
       "      <th>month</th>\n",
       "      <th>day_of_week</th>\n",
       "      <th>duration</th>\n",
       "      <th>campaign</th>\n",
       "      <th>pdays</th>\n",
       "      <th>previous</th>\n",
       "      <th>poutcome</th>\n",
       "      <th>emp.var.rate</th>\n",
       "      <th>cons.price.idx</th>\n",
       "      <th>cons.conf.idx</th>\n",
       "      <th>euribor3m</th>\n",
       "      <th>nr.employed</th>\n",
       "      <th>y</th>\n",
       "    </tr>\n",
       "  </thead>\n",
       "  <tbody>\n",
       "    <tr>\n",
       "      <th>0</th>\n",
       "      <td>56</td>\n",
       "      <td>housemaid</td>\n",
       "      <td>married</td>\n",
       "      <td>basic.4y</td>\n",
       "      <td>no</td>\n",
       "      <td>no</td>\n",
       "      <td>no</td>\n",
       "      <td>telephone</td>\n",
       "      <td>may</td>\n",
       "      <td>mon</td>\n",
       "      <td>261</td>\n",
       "      <td>1</td>\n",
       "      <td>999</td>\n",
       "      <td>0</td>\n",
       "      <td>nonexistent</td>\n",
       "      <td>1.1</td>\n",
       "      <td>93.994</td>\n",
       "      <td>-36.4</td>\n",
       "      <td>4.857</td>\n",
       "      <td>5191.0</td>\n",
       "      <td>no</td>\n",
       "    </tr>\n",
       "    <tr>\n",
       "      <th>1</th>\n",
       "      <td>57</td>\n",
       "      <td>services</td>\n",
       "      <td>married</td>\n",
       "      <td>high.school</td>\n",
       "      <td>unknown</td>\n",
       "      <td>no</td>\n",
       "      <td>no</td>\n",
       "      <td>telephone</td>\n",
       "      <td>may</td>\n",
       "      <td>mon</td>\n",
       "      <td>149</td>\n",
       "      <td>1</td>\n",
       "      <td>999</td>\n",
       "      <td>0</td>\n",
       "      <td>nonexistent</td>\n",
       "      <td>1.1</td>\n",
       "      <td>93.994</td>\n",
       "      <td>-36.4</td>\n",
       "      <td>4.857</td>\n",
       "      <td>5191.0</td>\n",
       "      <td>no</td>\n",
       "    </tr>\n",
       "    <tr>\n",
       "      <th>2</th>\n",
       "      <td>37</td>\n",
       "      <td>services</td>\n",
       "      <td>married</td>\n",
       "      <td>high.school</td>\n",
       "      <td>no</td>\n",
       "      <td>yes</td>\n",
       "      <td>no</td>\n",
       "      <td>telephone</td>\n",
       "      <td>may</td>\n",
       "      <td>mon</td>\n",
       "      <td>226</td>\n",
       "      <td>1</td>\n",
       "      <td>999</td>\n",
       "      <td>0</td>\n",
       "      <td>nonexistent</td>\n",
       "      <td>1.1</td>\n",
       "      <td>93.994</td>\n",
       "      <td>-36.4</td>\n",
       "      <td>4.857</td>\n",
       "      <td>5191.0</td>\n",
       "      <td>no</td>\n",
       "    </tr>\n",
       "    <tr>\n",
       "      <th>3</th>\n",
       "      <td>40</td>\n",
       "      <td>admin.</td>\n",
       "      <td>married</td>\n",
       "      <td>basic.6y</td>\n",
       "      <td>no</td>\n",
       "      <td>no</td>\n",
       "      <td>no</td>\n",
       "      <td>telephone</td>\n",
       "      <td>may</td>\n",
       "      <td>mon</td>\n",
       "      <td>151</td>\n",
       "      <td>1</td>\n",
       "      <td>999</td>\n",
       "      <td>0</td>\n",
       "      <td>nonexistent</td>\n",
       "      <td>1.1</td>\n",
       "      <td>93.994</td>\n",
       "      <td>-36.4</td>\n",
       "      <td>4.857</td>\n",
       "      <td>5191.0</td>\n",
       "      <td>no</td>\n",
       "    </tr>\n",
       "    <tr>\n",
       "      <th>4</th>\n",
       "      <td>56</td>\n",
       "      <td>services</td>\n",
       "      <td>married</td>\n",
       "      <td>high.school</td>\n",
       "      <td>no</td>\n",
       "      <td>no</td>\n",
       "      <td>yes</td>\n",
       "      <td>telephone</td>\n",
       "      <td>may</td>\n",
       "      <td>mon</td>\n",
       "      <td>307</td>\n",
       "      <td>1</td>\n",
       "      <td>999</td>\n",
       "      <td>0</td>\n",
       "      <td>nonexistent</td>\n",
       "      <td>1.1</td>\n",
       "      <td>93.994</td>\n",
       "      <td>-36.4</td>\n",
       "      <td>4.857</td>\n",
       "      <td>5191.0</td>\n",
       "      <td>no</td>\n",
       "    </tr>\n",
       "  </tbody>\n",
       "</table>\n",
       "</div>"
      ],
      "text/plain": [
       "   age        job  marital    education  default housing loan    contact  \\\n",
       "0   56  housemaid  married     basic.4y       no      no   no  telephone   \n",
       "1   57   services  married  high.school  unknown      no   no  telephone   \n",
       "2   37   services  married  high.school       no     yes   no  telephone   \n",
       "3   40     admin.  married     basic.6y       no      no   no  telephone   \n",
       "4   56   services  married  high.school       no      no  yes  telephone   \n",
       "\n",
       "  month day_of_week  duration  campaign  pdays  previous     poutcome  \\\n",
       "0   may         mon       261         1    999         0  nonexistent   \n",
       "1   may         mon       149         1    999         0  nonexistent   \n",
       "2   may         mon       226         1    999         0  nonexistent   \n",
       "3   may         mon       151         1    999         0  nonexistent   \n",
       "4   may         mon       307         1    999         0  nonexistent   \n",
       "\n",
       "   emp.var.rate  cons.price.idx  cons.conf.idx  euribor3m  nr.employed   y  \n",
       "0           1.1          93.994          -36.4      4.857       5191.0  no  \n",
       "1           1.1          93.994          -36.4      4.857       5191.0  no  \n",
       "2           1.1          93.994          -36.4      4.857       5191.0  no  \n",
       "3           1.1          93.994          -36.4      4.857       5191.0  no  \n",
       "4           1.1          93.994          -36.4      4.857       5191.0  no  "
      ]
     },
     "execution_count": 5,
     "metadata": {},
     "output_type": "execute_result"
    }
   ],
   "source": [
    "df.head()"
   ]
  },
  {
   "cell_type": "code",
   "execution_count": 6,
   "metadata": {},
   "outputs": [
    {
     "data": {
      "text/plain": [
       "age                 int64\n",
       "job                object\n",
       "marital            object\n",
       "education          object\n",
       "default            object\n",
       "housing            object\n",
       "loan               object\n",
       "contact            object\n",
       "month              object\n",
       "day_of_week        object\n",
       "duration            int64\n",
       "campaign            int64\n",
       "pdays               int64\n",
       "previous            int64\n",
       "poutcome           object\n",
       "emp.var.rate      float64\n",
       "cons.price.idx    float64\n",
       "cons.conf.idx     float64\n",
       "euribor3m         float64\n",
       "nr.employed       float64\n",
       "y                  object\n",
       "dtype: object"
      ]
     },
     "execution_count": 6,
     "metadata": {},
     "output_type": "execute_result"
    }
   ],
   "source": [
    "df.dtypes"
   ]
  },
  {
   "cell_type": "code",
   "execution_count": 7,
   "metadata": {},
   "outputs": [
    {
     "data": {
      "text/plain": [
       "Index(['age', 'job', 'marital', 'education', 'default', 'housing', 'loan',\n",
       "       'contact', 'month', 'day_of_week', 'duration', 'campaign', 'pdays',\n",
       "       'previous', 'poutcome', 'emp.var.rate', 'cons.price.idx',\n",
       "       'cons.conf.idx', 'euribor3m', 'nr.employed', 'y'],\n",
       "      dtype='object')"
      ]
     },
     "execution_count": 7,
     "metadata": {},
     "output_type": "execute_result"
    }
   ],
   "source": [
    "df.columns"
   ]
  },
  {
   "attachments": {},
   "cell_type": "markdown",
   "metadata": {},
   "source": [
    "# 3. Train and evaluate model"
   ]
  },
  {
   "cell_type": "code",
   "execution_count": 8,
   "metadata": {},
   "outputs": [],
   "source": [
    "cat_features =[ 'job', 'marital', 'education', 'default', 'housing',\n",
    "       'loan', 'contact',  'month', 'poutcome']"
   ]
  },
  {
   "cell_type": "code",
   "execution_count": 17,
   "metadata": {},
   "outputs": [
    {
     "data": {
      "text/html": [
       "<style type=\"text/css\">\n",
       "#T_c9464_row44_col1, #T_c9464_row58_col1 {\n",
       "  background-color: lightgreen;\n",
       "}\n",
       "</style>\n",
       "<table id=\"T_c9464\">\n",
       "  <thead>\n",
       "    <tr>\n",
       "      <th class=\"blank level0\" >&nbsp;</th>\n",
       "      <th id=\"T_c9464_level0_col0\" class=\"col_heading level0 col0\" >Description</th>\n",
       "      <th id=\"T_c9464_level0_col1\" class=\"col_heading level0 col1\" >Value</th>\n",
       "    </tr>\n",
       "  </thead>\n",
       "  <tbody>\n",
       "    <tr>\n",
       "      <th id=\"T_c9464_level0_row0\" class=\"row_heading level0 row0\" >0</th>\n",
       "      <td id=\"T_c9464_row0_col0\" class=\"data row0 col0\" >session_id</td>\n",
       "      <td id=\"T_c9464_row0_col1\" class=\"data row0 col1\" >4921</td>\n",
       "    </tr>\n",
       "    <tr>\n",
       "      <th id=\"T_c9464_level0_row1\" class=\"row_heading level0 row1\" >1</th>\n",
       "      <td id=\"T_c9464_row1_col0\" class=\"data row1 col0\" >Target</td>\n",
       "      <td id=\"T_c9464_row1_col1\" class=\"data row1 col1\" >y</td>\n",
       "    </tr>\n",
       "    <tr>\n",
       "      <th id=\"T_c9464_level0_row2\" class=\"row_heading level0 row2\" >2</th>\n",
       "      <td id=\"T_c9464_row2_col0\" class=\"data row2 col0\" >Target Type</td>\n",
       "      <td id=\"T_c9464_row2_col1\" class=\"data row2 col1\" >Binary</td>\n",
       "    </tr>\n",
       "    <tr>\n",
       "      <th id=\"T_c9464_level0_row3\" class=\"row_heading level0 row3\" >3</th>\n",
       "      <td id=\"T_c9464_row3_col0\" class=\"data row3 col0\" >Label Encoded</td>\n",
       "      <td id=\"T_c9464_row3_col1\" class=\"data row3 col1\" >no: 0, yes: 1</td>\n",
       "    </tr>\n",
       "    <tr>\n",
       "      <th id=\"T_c9464_level0_row4\" class=\"row_heading level0 row4\" >4</th>\n",
       "      <td id=\"T_c9464_row4_col0\" class=\"data row4 col0\" >Original Data</td>\n",
       "      <td id=\"T_c9464_row4_col1\" class=\"data row4 col1\" >(41188, 21)</td>\n",
       "    </tr>\n",
       "    <tr>\n",
       "      <th id=\"T_c9464_level0_row5\" class=\"row_heading level0 row5\" >5</th>\n",
       "      <td id=\"T_c9464_row5_col0\" class=\"data row5 col0\" >Missing Values</td>\n",
       "      <td id=\"T_c9464_row5_col1\" class=\"data row5 col1\" >False</td>\n",
       "    </tr>\n",
       "    <tr>\n",
       "      <th id=\"T_c9464_level0_row6\" class=\"row_heading level0 row6\" >6</th>\n",
       "      <td id=\"T_c9464_row6_col0\" class=\"data row6 col0\" >Numeric Features</td>\n",
       "      <td id=\"T_c9464_row6_col1\" class=\"data row6 col1\" >9</td>\n",
       "    </tr>\n",
       "    <tr>\n",
       "      <th id=\"T_c9464_level0_row7\" class=\"row_heading level0 row7\" >7</th>\n",
       "      <td id=\"T_c9464_row7_col0\" class=\"data row7 col0\" >Categorical Features</td>\n",
       "      <td id=\"T_c9464_row7_col1\" class=\"data row7 col1\" >11</td>\n",
       "    </tr>\n",
       "    <tr>\n",
       "      <th id=\"T_c9464_level0_row8\" class=\"row_heading level0 row8\" >8</th>\n",
       "      <td id=\"T_c9464_row8_col0\" class=\"data row8 col0\" >Ordinal Features</td>\n",
       "      <td id=\"T_c9464_row8_col1\" class=\"data row8 col1\" >False</td>\n",
       "    </tr>\n",
       "    <tr>\n",
       "      <th id=\"T_c9464_level0_row9\" class=\"row_heading level0 row9\" >9</th>\n",
       "      <td id=\"T_c9464_row9_col0\" class=\"data row9 col0\" >High Cardinality Features</td>\n",
       "      <td id=\"T_c9464_row9_col1\" class=\"data row9 col1\" >False</td>\n",
       "    </tr>\n",
       "    <tr>\n",
       "      <th id=\"T_c9464_level0_row10\" class=\"row_heading level0 row10\" >10</th>\n",
       "      <td id=\"T_c9464_row10_col0\" class=\"data row10 col0\" >High Cardinality Method</td>\n",
       "      <td id=\"T_c9464_row10_col1\" class=\"data row10 col1\" >None</td>\n",
       "    </tr>\n",
       "    <tr>\n",
       "      <th id=\"T_c9464_level0_row11\" class=\"row_heading level0 row11\" >11</th>\n",
       "      <td id=\"T_c9464_row11_col0\" class=\"data row11 col0\" >Transformed Train Set</td>\n",
       "      <td id=\"T_c9464_row11_col1\" class=\"data row11 col1\" >(28831, 66)</td>\n",
       "    </tr>\n",
       "    <tr>\n",
       "      <th id=\"T_c9464_level0_row12\" class=\"row_heading level0 row12\" >12</th>\n",
       "      <td id=\"T_c9464_row12_col0\" class=\"data row12 col0\" >Transformed Test Set</td>\n",
       "      <td id=\"T_c9464_row12_col1\" class=\"data row12 col1\" >(12357, 66)</td>\n",
       "    </tr>\n",
       "    <tr>\n",
       "      <th id=\"T_c9464_level0_row13\" class=\"row_heading level0 row13\" >13</th>\n",
       "      <td id=\"T_c9464_row13_col0\" class=\"data row13 col0\" >Shuffle Train-Test</td>\n",
       "      <td id=\"T_c9464_row13_col1\" class=\"data row13 col1\" >True</td>\n",
       "    </tr>\n",
       "    <tr>\n",
       "      <th id=\"T_c9464_level0_row14\" class=\"row_heading level0 row14\" >14</th>\n",
       "      <td id=\"T_c9464_row14_col0\" class=\"data row14 col0\" >Stratify Train-Test</td>\n",
       "      <td id=\"T_c9464_row14_col1\" class=\"data row14 col1\" >False</td>\n",
       "    </tr>\n",
       "    <tr>\n",
       "      <th id=\"T_c9464_level0_row15\" class=\"row_heading level0 row15\" >15</th>\n",
       "      <td id=\"T_c9464_row15_col0\" class=\"data row15 col0\" >Fold Generator</td>\n",
       "      <td id=\"T_c9464_row15_col1\" class=\"data row15 col1\" >StratifiedKFold</td>\n",
       "    </tr>\n",
       "    <tr>\n",
       "      <th id=\"T_c9464_level0_row16\" class=\"row_heading level0 row16\" >16</th>\n",
       "      <td id=\"T_c9464_row16_col0\" class=\"data row16 col0\" >Fold Number</td>\n",
       "      <td id=\"T_c9464_row16_col1\" class=\"data row16 col1\" >10</td>\n",
       "    </tr>\n",
       "    <tr>\n",
       "      <th id=\"T_c9464_level0_row17\" class=\"row_heading level0 row17\" >17</th>\n",
       "      <td id=\"T_c9464_row17_col0\" class=\"data row17 col0\" >CPU Jobs</td>\n",
       "      <td id=\"T_c9464_row17_col1\" class=\"data row17 col1\" >-1</td>\n",
       "    </tr>\n",
       "    <tr>\n",
       "      <th id=\"T_c9464_level0_row18\" class=\"row_heading level0 row18\" >18</th>\n",
       "      <td id=\"T_c9464_row18_col0\" class=\"data row18 col0\" >Use GPU</td>\n",
       "      <td id=\"T_c9464_row18_col1\" class=\"data row18 col1\" >False</td>\n",
       "    </tr>\n",
       "    <tr>\n",
       "      <th id=\"T_c9464_level0_row19\" class=\"row_heading level0 row19\" >19</th>\n",
       "      <td id=\"T_c9464_row19_col0\" class=\"data row19 col0\" >Log Experiment</td>\n",
       "      <td id=\"T_c9464_row19_col1\" class=\"data row19 col1\" >False</td>\n",
       "    </tr>\n",
       "    <tr>\n",
       "      <th id=\"T_c9464_level0_row20\" class=\"row_heading level0 row20\" >20</th>\n",
       "      <td id=\"T_c9464_row20_col0\" class=\"data row20 col0\" >Experiment Name</td>\n",
       "      <td id=\"T_c9464_row20_col1\" class=\"data row20 col1\" >clf-default-name</td>\n",
       "    </tr>\n",
       "    <tr>\n",
       "      <th id=\"T_c9464_level0_row21\" class=\"row_heading level0 row21\" >21</th>\n",
       "      <td id=\"T_c9464_row21_col0\" class=\"data row21 col0\" >USI</td>\n",
       "      <td id=\"T_c9464_row21_col1\" class=\"data row21 col1\" >43ff</td>\n",
       "    </tr>\n",
       "    <tr>\n",
       "      <th id=\"T_c9464_level0_row22\" class=\"row_heading level0 row22\" >22</th>\n",
       "      <td id=\"T_c9464_row22_col0\" class=\"data row22 col0\" >Imputation Type</td>\n",
       "      <td id=\"T_c9464_row22_col1\" class=\"data row22 col1\" >simple</td>\n",
       "    </tr>\n",
       "    <tr>\n",
       "      <th id=\"T_c9464_level0_row23\" class=\"row_heading level0 row23\" >23</th>\n",
       "      <td id=\"T_c9464_row23_col0\" class=\"data row23 col0\" >Iterative Imputation Iteration</td>\n",
       "      <td id=\"T_c9464_row23_col1\" class=\"data row23 col1\" >None</td>\n",
       "    </tr>\n",
       "    <tr>\n",
       "      <th id=\"T_c9464_level0_row24\" class=\"row_heading level0 row24\" >24</th>\n",
       "      <td id=\"T_c9464_row24_col0\" class=\"data row24 col0\" >Numeric Imputer</td>\n",
       "      <td id=\"T_c9464_row24_col1\" class=\"data row24 col1\" >mean</td>\n",
       "    </tr>\n",
       "    <tr>\n",
       "      <th id=\"T_c9464_level0_row25\" class=\"row_heading level0 row25\" >25</th>\n",
       "      <td id=\"T_c9464_row25_col0\" class=\"data row25 col0\" >Iterative Imputation Numeric Model</td>\n",
       "      <td id=\"T_c9464_row25_col1\" class=\"data row25 col1\" >None</td>\n",
       "    </tr>\n",
       "    <tr>\n",
       "      <th id=\"T_c9464_level0_row26\" class=\"row_heading level0 row26\" >26</th>\n",
       "      <td id=\"T_c9464_row26_col0\" class=\"data row26 col0\" >Categorical Imputer</td>\n",
       "      <td id=\"T_c9464_row26_col1\" class=\"data row26 col1\" >constant</td>\n",
       "    </tr>\n",
       "    <tr>\n",
       "      <th id=\"T_c9464_level0_row27\" class=\"row_heading level0 row27\" >27</th>\n",
       "      <td id=\"T_c9464_row27_col0\" class=\"data row27 col0\" >Iterative Imputation Categorical Model</td>\n",
       "      <td id=\"T_c9464_row27_col1\" class=\"data row27 col1\" >None</td>\n",
       "    </tr>\n",
       "    <tr>\n",
       "      <th id=\"T_c9464_level0_row28\" class=\"row_heading level0 row28\" >28</th>\n",
       "      <td id=\"T_c9464_row28_col0\" class=\"data row28 col0\" >Unknown Categoricals Handling</td>\n",
       "      <td id=\"T_c9464_row28_col1\" class=\"data row28 col1\" >least_frequent</td>\n",
       "    </tr>\n",
       "    <tr>\n",
       "      <th id=\"T_c9464_level0_row29\" class=\"row_heading level0 row29\" >29</th>\n",
       "      <td id=\"T_c9464_row29_col0\" class=\"data row29 col0\" >Normalize</td>\n",
       "      <td id=\"T_c9464_row29_col1\" class=\"data row29 col1\" >False</td>\n",
       "    </tr>\n",
       "    <tr>\n",
       "      <th id=\"T_c9464_level0_row30\" class=\"row_heading level0 row30\" >30</th>\n",
       "      <td id=\"T_c9464_row30_col0\" class=\"data row30 col0\" >Normalize Method</td>\n",
       "      <td id=\"T_c9464_row30_col1\" class=\"data row30 col1\" >None</td>\n",
       "    </tr>\n",
       "    <tr>\n",
       "      <th id=\"T_c9464_level0_row31\" class=\"row_heading level0 row31\" >31</th>\n",
       "      <td id=\"T_c9464_row31_col0\" class=\"data row31 col0\" >Transformation</td>\n",
       "      <td id=\"T_c9464_row31_col1\" class=\"data row31 col1\" >False</td>\n",
       "    </tr>\n",
       "    <tr>\n",
       "      <th id=\"T_c9464_level0_row32\" class=\"row_heading level0 row32\" >32</th>\n",
       "      <td id=\"T_c9464_row32_col0\" class=\"data row32 col0\" >Transformation Method</td>\n",
       "      <td id=\"T_c9464_row32_col1\" class=\"data row32 col1\" >None</td>\n",
       "    </tr>\n",
       "    <tr>\n",
       "      <th id=\"T_c9464_level0_row33\" class=\"row_heading level0 row33\" >33</th>\n",
       "      <td id=\"T_c9464_row33_col0\" class=\"data row33 col0\" >PCA</td>\n",
       "      <td id=\"T_c9464_row33_col1\" class=\"data row33 col1\" >False</td>\n",
       "    </tr>\n",
       "    <tr>\n",
       "      <th id=\"T_c9464_level0_row34\" class=\"row_heading level0 row34\" >34</th>\n",
       "      <td id=\"T_c9464_row34_col0\" class=\"data row34 col0\" >PCA Method</td>\n",
       "      <td id=\"T_c9464_row34_col1\" class=\"data row34 col1\" >None</td>\n",
       "    </tr>\n",
       "    <tr>\n",
       "      <th id=\"T_c9464_level0_row35\" class=\"row_heading level0 row35\" >35</th>\n",
       "      <td id=\"T_c9464_row35_col0\" class=\"data row35 col0\" >PCA Components</td>\n",
       "      <td id=\"T_c9464_row35_col1\" class=\"data row35 col1\" >None</td>\n",
       "    </tr>\n",
       "    <tr>\n",
       "      <th id=\"T_c9464_level0_row36\" class=\"row_heading level0 row36\" >36</th>\n",
       "      <td id=\"T_c9464_row36_col0\" class=\"data row36 col0\" >Ignore Low Variance</td>\n",
       "      <td id=\"T_c9464_row36_col1\" class=\"data row36 col1\" >False</td>\n",
       "    </tr>\n",
       "    <tr>\n",
       "      <th id=\"T_c9464_level0_row37\" class=\"row_heading level0 row37\" >37</th>\n",
       "      <td id=\"T_c9464_row37_col0\" class=\"data row37 col0\" >Combine Rare Levels</td>\n",
       "      <td id=\"T_c9464_row37_col1\" class=\"data row37 col1\" >False</td>\n",
       "    </tr>\n",
       "    <tr>\n",
       "      <th id=\"T_c9464_level0_row38\" class=\"row_heading level0 row38\" >38</th>\n",
       "      <td id=\"T_c9464_row38_col0\" class=\"data row38 col0\" >Rare Level Threshold</td>\n",
       "      <td id=\"T_c9464_row38_col1\" class=\"data row38 col1\" >None</td>\n",
       "    </tr>\n",
       "    <tr>\n",
       "      <th id=\"T_c9464_level0_row39\" class=\"row_heading level0 row39\" >39</th>\n",
       "      <td id=\"T_c9464_row39_col0\" class=\"data row39 col0\" >Numeric Binning</td>\n",
       "      <td id=\"T_c9464_row39_col1\" class=\"data row39 col1\" >False</td>\n",
       "    </tr>\n",
       "    <tr>\n",
       "      <th id=\"T_c9464_level0_row40\" class=\"row_heading level0 row40\" >40</th>\n",
       "      <td id=\"T_c9464_row40_col0\" class=\"data row40 col0\" >Remove Outliers</td>\n",
       "      <td id=\"T_c9464_row40_col1\" class=\"data row40 col1\" >False</td>\n",
       "    </tr>\n",
       "    <tr>\n",
       "      <th id=\"T_c9464_level0_row41\" class=\"row_heading level0 row41\" >41</th>\n",
       "      <td id=\"T_c9464_row41_col0\" class=\"data row41 col0\" >Outliers Threshold</td>\n",
       "      <td id=\"T_c9464_row41_col1\" class=\"data row41 col1\" >None</td>\n",
       "    </tr>\n",
       "    <tr>\n",
       "      <th id=\"T_c9464_level0_row42\" class=\"row_heading level0 row42\" >42</th>\n",
       "      <td id=\"T_c9464_row42_col0\" class=\"data row42 col0\" >Remove Multicollinearity</td>\n",
       "      <td id=\"T_c9464_row42_col1\" class=\"data row42 col1\" >False</td>\n",
       "    </tr>\n",
       "    <tr>\n",
       "      <th id=\"T_c9464_level0_row43\" class=\"row_heading level0 row43\" >43</th>\n",
       "      <td id=\"T_c9464_row43_col0\" class=\"data row43 col0\" >Multicollinearity Threshold</td>\n",
       "      <td id=\"T_c9464_row43_col1\" class=\"data row43 col1\" >None</td>\n",
       "    </tr>\n",
       "    <tr>\n",
       "      <th id=\"T_c9464_level0_row44\" class=\"row_heading level0 row44\" >44</th>\n",
       "      <td id=\"T_c9464_row44_col0\" class=\"data row44 col0\" >Remove Perfect Collinearity</td>\n",
       "      <td id=\"T_c9464_row44_col1\" class=\"data row44 col1\" >True</td>\n",
       "    </tr>\n",
       "    <tr>\n",
       "      <th id=\"T_c9464_level0_row45\" class=\"row_heading level0 row45\" >45</th>\n",
       "      <td id=\"T_c9464_row45_col0\" class=\"data row45 col0\" >Clustering</td>\n",
       "      <td id=\"T_c9464_row45_col1\" class=\"data row45 col1\" >False</td>\n",
       "    </tr>\n",
       "    <tr>\n",
       "      <th id=\"T_c9464_level0_row46\" class=\"row_heading level0 row46\" >46</th>\n",
       "      <td id=\"T_c9464_row46_col0\" class=\"data row46 col0\" >Clustering Iteration</td>\n",
       "      <td id=\"T_c9464_row46_col1\" class=\"data row46 col1\" >None</td>\n",
       "    </tr>\n",
       "    <tr>\n",
       "      <th id=\"T_c9464_level0_row47\" class=\"row_heading level0 row47\" >47</th>\n",
       "      <td id=\"T_c9464_row47_col0\" class=\"data row47 col0\" >Polynomial Features</td>\n",
       "      <td id=\"T_c9464_row47_col1\" class=\"data row47 col1\" >False</td>\n",
       "    </tr>\n",
       "    <tr>\n",
       "      <th id=\"T_c9464_level0_row48\" class=\"row_heading level0 row48\" >48</th>\n",
       "      <td id=\"T_c9464_row48_col0\" class=\"data row48 col0\" >Polynomial Degree</td>\n",
       "      <td id=\"T_c9464_row48_col1\" class=\"data row48 col1\" >None</td>\n",
       "    </tr>\n",
       "    <tr>\n",
       "      <th id=\"T_c9464_level0_row49\" class=\"row_heading level0 row49\" >49</th>\n",
       "      <td id=\"T_c9464_row49_col0\" class=\"data row49 col0\" >Trignometry Features</td>\n",
       "      <td id=\"T_c9464_row49_col1\" class=\"data row49 col1\" >False</td>\n",
       "    </tr>\n",
       "    <tr>\n",
       "      <th id=\"T_c9464_level0_row50\" class=\"row_heading level0 row50\" >50</th>\n",
       "      <td id=\"T_c9464_row50_col0\" class=\"data row50 col0\" >Polynomial Threshold</td>\n",
       "      <td id=\"T_c9464_row50_col1\" class=\"data row50 col1\" >None</td>\n",
       "    </tr>\n",
       "    <tr>\n",
       "      <th id=\"T_c9464_level0_row51\" class=\"row_heading level0 row51\" >51</th>\n",
       "      <td id=\"T_c9464_row51_col0\" class=\"data row51 col0\" >Group Features</td>\n",
       "      <td id=\"T_c9464_row51_col1\" class=\"data row51 col1\" >False</td>\n",
       "    </tr>\n",
       "    <tr>\n",
       "      <th id=\"T_c9464_level0_row52\" class=\"row_heading level0 row52\" >52</th>\n",
       "      <td id=\"T_c9464_row52_col0\" class=\"data row52 col0\" >Feature Selection</td>\n",
       "      <td id=\"T_c9464_row52_col1\" class=\"data row52 col1\" >False</td>\n",
       "    </tr>\n",
       "    <tr>\n",
       "      <th id=\"T_c9464_level0_row53\" class=\"row_heading level0 row53\" >53</th>\n",
       "      <td id=\"T_c9464_row53_col0\" class=\"data row53 col0\" >Feature Selection Method</td>\n",
       "      <td id=\"T_c9464_row53_col1\" class=\"data row53 col1\" >classic</td>\n",
       "    </tr>\n",
       "    <tr>\n",
       "      <th id=\"T_c9464_level0_row54\" class=\"row_heading level0 row54\" >54</th>\n",
       "      <td id=\"T_c9464_row54_col0\" class=\"data row54 col0\" >Features Selection Threshold</td>\n",
       "      <td id=\"T_c9464_row54_col1\" class=\"data row54 col1\" >None</td>\n",
       "    </tr>\n",
       "    <tr>\n",
       "      <th id=\"T_c9464_level0_row55\" class=\"row_heading level0 row55\" >55</th>\n",
       "      <td id=\"T_c9464_row55_col0\" class=\"data row55 col0\" >Feature Interaction</td>\n",
       "      <td id=\"T_c9464_row55_col1\" class=\"data row55 col1\" >False</td>\n",
       "    </tr>\n",
       "    <tr>\n",
       "      <th id=\"T_c9464_level0_row56\" class=\"row_heading level0 row56\" >56</th>\n",
       "      <td id=\"T_c9464_row56_col0\" class=\"data row56 col0\" >Feature Ratio</td>\n",
       "      <td id=\"T_c9464_row56_col1\" class=\"data row56 col1\" >False</td>\n",
       "    </tr>\n",
       "    <tr>\n",
       "      <th id=\"T_c9464_level0_row57\" class=\"row_heading level0 row57\" >57</th>\n",
       "      <td id=\"T_c9464_row57_col0\" class=\"data row57 col0\" >Interaction Threshold</td>\n",
       "      <td id=\"T_c9464_row57_col1\" class=\"data row57 col1\" >None</td>\n",
       "    </tr>\n",
       "    <tr>\n",
       "      <th id=\"T_c9464_level0_row58\" class=\"row_heading level0 row58\" >58</th>\n",
       "      <td id=\"T_c9464_row58_col0\" class=\"data row58 col0\" >Fix Imbalance</td>\n",
       "      <td id=\"T_c9464_row58_col1\" class=\"data row58 col1\" >True</td>\n",
       "    </tr>\n",
       "    <tr>\n",
       "      <th id=\"T_c9464_level0_row59\" class=\"row_heading level0 row59\" >59</th>\n",
       "      <td id=\"T_c9464_row59_col0\" class=\"data row59 col0\" >Fix Imbalance Method</td>\n",
       "      <td id=\"T_c9464_row59_col1\" class=\"data row59 col1\" >SMOTE</td>\n",
       "    </tr>\n",
       "  </tbody>\n",
       "</table>\n"
      ],
      "text/plain": [
       "<pandas.io.formats.style.Styler at 0x1f5a80eadf0>"
      ]
     },
     "metadata": {},
     "output_type": "display_data"
    }
   ],
   "source": [
    "experiment =setup(df,target='y', categorical_features=cat_features, fix_imbalance=True)"
   ]
  },
  {
   "cell_type": "code",
   "execution_count": 18,
   "metadata": {},
   "outputs": [
    {
     "data": {
      "text/html": [
       "<style type=\"text/css\">\n",
       "#T_7c565 th {\n",
       "  text-align: left;\n",
       "}\n",
       "#T_7c565_row0_col0, #T_7c565_row0_col3, #T_7c565_row0_col4, #T_7c565_row1_col0, #T_7c565_row1_col1, #T_7c565_row1_col2, #T_7c565_row1_col3, #T_7c565_row1_col5, #T_7c565_row1_col6, #T_7c565_row1_col7, #T_7c565_row2_col0, #T_7c565_row2_col1, #T_7c565_row2_col2, #T_7c565_row2_col3, #T_7c565_row2_col4, #T_7c565_row2_col5, #T_7c565_row2_col6, #T_7c565_row2_col7, #T_7c565_row3_col0, #T_7c565_row3_col1, #T_7c565_row3_col2, #T_7c565_row3_col3, #T_7c565_row3_col4, #T_7c565_row3_col5, #T_7c565_row3_col6, #T_7c565_row3_col7, #T_7c565_row4_col0, #T_7c565_row4_col1, #T_7c565_row4_col2, #T_7c565_row4_col3, #T_7c565_row4_col4, #T_7c565_row4_col5, #T_7c565_row4_col6, #T_7c565_row4_col7, #T_7c565_row5_col0, #T_7c565_row5_col1, #T_7c565_row5_col2, #T_7c565_row5_col3, #T_7c565_row5_col4, #T_7c565_row5_col5, #T_7c565_row5_col6, #T_7c565_row5_col7, #T_7c565_row6_col0, #T_7c565_row6_col1, #T_7c565_row6_col2, #T_7c565_row6_col3, #T_7c565_row6_col4, #T_7c565_row6_col5, #T_7c565_row6_col6, #T_7c565_row6_col7, #T_7c565_row7_col0, #T_7c565_row7_col1, #T_7c565_row7_col2, #T_7c565_row7_col3, #T_7c565_row7_col4, #T_7c565_row7_col5, #T_7c565_row7_col6, #T_7c565_row7_col7, #T_7c565_row8_col0, #T_7c565_row8_col1, #T_7c565_row8_col2, #T_7c565_row8_col3, #T_7c565_row8_col4, #T_7c565_row8_col5, #T_7c565_row8_col6, #T_7c565_row8_col7, #T_7c565_row9_col0, #T_7c565_row9_col1, #T_7c565_row9_col2, #T_7c565_row9_col3, #T_7c565_row9_col4, #T_7c565_row9_col5, #T_7c565_row9_col6, #T_7c565_row9_col7, #T_7c565_row10_col0, #T_7c565_row10_col1, #T_7c565_row10_col2, #T_7c565_row10_col3, #T_7c565_row10_col4, #T_7c565_row10_col5, #T_7c565_row10_col6, #T_7c565_row10_col7, #T_7c565_row11_col0, #T_7c565_row11_col1, #T_7c565_row11_col2, #T_7c565_row11_col3, #T_7c565_row11_col4, #T_7c565_row11_col5, #T_7c565_row11_col6, #T_7c565_row11_col7, #T_7c565_row12_col0, #T_7c565_row12_col1, #T_7c565_row12_col2, #T_7c565_row12_col3, #T_7c565_row12_col4, #T_7c565_row12_col5, #T_7c565_row12_col6, #T_7c565_row12_col7, #T_7c565_row13_col0, #T_7c565_row13_col1, #T_7c565_row13_col2, #T_7c565_row13_col3, #T_7c565_row13_col4, #T_7c565_row13_col5, #T_7c565_row13_col6, #T_7c565_row13_col7, #T_7c565_row14_col0, #T_7c565_row14_col1, #T_7c565_row14_col2, #T_7c565_row14_col3, #T_7c565_row14_col4, #T_7c565_row14_col5, #T_7c565_row14_col6, #T_7c565_row14_col7, #T_7c565_row15_col0, #T_7c565_row15_col1, #T_7c565_row15_col2, #T_7c565_row15_col4, #T_7c565_row15_col5, #T_7c565_row15_col6, #T_7c565_row15_col7 {\n",
       "  text-align: left;\n",
       "}\n",
       "#T_7c565_row0_col1, #T_7c565_row0_col2, #T_7c565_row0_col5, #T_7c565_row0_col6, #T_7c565_row0_col7, #T_7c565_row1_col4, #T_7c565_row15_col3 {\n",
       "  text-align: left;\n",
       "  background-color: yellow;\n",
       "}\n",
       "#T_7c565_row0_col8, #T_7c565_row1_col8, #T_7c565_row2_col8, #T_7c565_row3_col8, #T_7c565_row4_col8, #T_7c565_row5_col8, #T_7c565_row6_col8, #T_7c565_row8_col8, #T_7c565_row9_col8, #T_7c565_row10_col8, #T_7c565_row11_col8, #T_7c565_row12_col8, #T_7c565_row13_col8, #T_7c565_row14_col8, #T_7c565_row15_col8 {\n",
       "  text-align: left;\n",
       "  background-color: lightgrey;\n",
       "}\n",
       "#T_7c565_row7_col8 {\n",
       "  text-align: left;\n",
       "  background-color: yellow;\n",
       "  background-color: lightgrey;\n",
       "}\n",
       "</style>\n",
       "<table id=\"T_7c565\">\n",
       "  <thead>\n",
       "    <tr>\n",
       "      <th class=\"blank level0\" >&nbsp;</th>\n",
       "      <th id=\"T_7c565_level0_col0\" class=\"col_heading level0 col0\" >Model</th>\n",
       "      <th id=\"T_7c565_level0_col1\" class=\"col_heading level0 col1\" >Accuracy</th>\n",
       "      <th id=\"T_7c565_level0_col2\" class=\"col_heading level0 col2\" >AUC</th>\n",
       "      <th id=\"T_7c565_level0_col3\" class=\"col_heading level0 col3\" >Recall</th>\n",
       "      <th id=\"T_7c565_level0_col4\" class=\"col_heading level0 col4\" >Prec.</th>\n",
       "      <th id=\"T_7c565_level0_col5\" class=\"col_heading level0 col5\" >F1</th>\n",
       "      <th id=\"T_7c565_level0_col6\" class=\"col_heading level0 col6\" >Kappa</th>\n",
       "      <th id=\"T_7c565_level0_col7\" class=\"col_heading level0 col7\" >MCC</th>\n",
       "      <th id=\"T_7c565_level0_col8\" class=\"col_heading level0 col8\" >TT (Sec)</th>\n",
       "    </tr>\n",
       "  </thead>\n",
       "  <tbody>\n",
       "    <tr>\n",
       "      <th id=\"T_7c565_level0_row0\" class=\"row_heading level0 row0\" >lightgbm</th>\n",
       "      <td id=\"T_7c565_row0_col0\" class=\"data row0 col0\" >Light Gradient Boosting Machine</td>\n",
       "      <td id=\"T_7c565_row0_col1\" class=\"data row0 col1\" >0.9149</td>\n",
       "      <td id=\"T_7c565_row0_col2\" class=\"data row0 col2\" >0.9483</td>\n",
       "      <td id=\"T_7c565_row0_col3\" class=\"data row0 col3\" >0.5642</td>\n",
       "      <td id=\"T_7c565_row0_col4\" class=\"data row0 col4\" >0.6403</td>\n",
       "      <td id=\"T_7c565_row0_col5\" class=\"data row0 col5\" >0.5995</td>\n",
       "      <td id=\"T_7c565_row0_col6\" class=\"data row0 col6\" >0.5521</td>\n",
       "      <td id=\"T_7c565_row0_col7\" class=\"data row0 col7\" >0.5537</td>\n",
       "      <td id=\"T_7c565_row0_col8\" class=\"data row0 col8\" >0.4770</td>\n",
       "    </tr>\n",
       "    <tr>\n",
       "      <th id=\"T_7c565_level0_row1\" class=\"row_heading level0 row1\" >catboost</th>\n",
       "      <td id=\"T_7c565_row1_col0\" class=\"data row1 col0\" >CatBoost Classifier</td>\n",
       "      <td id=\"T_7c565_row1_col1\" class=\"data row1 col1\" >0.9148</td>\n",
       "      <td id=\"T_7c565_row1_col2\" class=\"data row1 col2\" >0.9471</td>\n",
       "      <td id=\"T_7c565_row1_col3\" class=\"data row1 col3\" >0.5600</td>\n",
       "      <td id=\"T_7c565_row1_col4\" class=\"data row1 col4\" >0.6420</td>\n",
       "      <td id=\"T_7c565_row1_col5\" class=\"data row1 col5\" >0.5979</td>\n",
       "      <td id=\"T_7c565_row1_col6\" class=\"data row1 col6\" >0.5505</td>\n",
       "      <td id=\"T_7c565_row1_col7\" class=\"data row1 col7\" >0.5523</td>\n",
       "      <td id=\"T_7c565_row1_col8\" class=\"data row1 col8\" >11.2760</td>\n",
       "    </tr>\n",
       "    <tr>\n",
       "      <th id=\"T_7c565_level0_row2\" class=\"row_heading level0 row2\" >xgboost</th>\n",
       "      <td id=\"T_7c565_row2_col0\" class=\"data row2 col0\" >Extreme Gradient Boosting</td>\n",
       "      <td id=\"T_7c565_row2_col1\" class=\"data row2 col1\" >0.9120</td>\n",
       "      <td id=\"T_7c565_row2_col2\" class=\"data row2 col2\" >0.9443</td>\n",
       "      <td id=\"T_7c565_row2_col3\" class=\"data row2 col3\" >0.5465</td>\n",
       "      <td id=\"T_7c565_row2_col4\" class=\"data row2 col4\" >0.6273</td>\n",
       "      <td id=\"T_7c565_row2_col5\" class=\"data row2 col5\" >0.5839</td>\n",
       "      <td id=\"T_7c565_row2_col6\" class=\"data row2 col6\" >0.5350</td>\n",
       "      <td id=\"T_7c565_row2_col7\" class=\"data row2 col7\" >0.5367</td>\n",
       "      <td id=\"T_7c565_row2_col8\" class=\"data row2 col8\" >4.4150</td>\n",
       "    </tr>\n",
       "    <tr>\n",
       "      <th id=\"T_7c565_level0_row3\" class=\"row_heading level0 row3\" >gbc</th>\n",
       "      <td id=\"T_7c565_row3_col0\" class=\"data row3 col0\" >Gradient Boosting Classifier</td>\n",
       "      <td id=\"T_7c565_row3_col1\" class=\"data row3 col1\" >0.9103</td>\n",
       "      <td id=\"T_7c565_row3_col2\" class=\"data row3 col2\" >0.9420</td>\n",
       "      <td id=\"T_7c565_row3_col3\" class=\"data row3 col3\" >0.5903</td>\n",
       "      <td id=\"T_7c565_row3_col4\" class=\"data row3 col4\" >0.6064</td>\n",
       "      <td id=\"T_7c565_row3_col5\" class=\"data row3 col5\" >0.5980</td>\n",
       "      <td id=\"T_7c565_row3_col6\" class=\"data row3 col6\" >0.5475</td>\n",
       "      <td id=\"T_7c565_row3_col7\" class=\"data row3 col7\" >0.5477</td>\n",
       "      <td id=\"T_7c565_row3_col8\" class=\"data row3 col8\" >4.5340</td>\n",
       "    </tr>\n",
       "    <tr>\n",
       "      <th id=\"T_7c565_level0_row4\" class=\"row_heading level0 row4\" >rf</th>\n",
       "      <td id=\"T_7c565_row4_col0\" class=\"data row4 col0\" >Random Forest Classifier</td>\n",
       "      <td id=\"T_7c565_row4_col1\" class=\"data row4 col1\" >0.9097</td>\n",
       "      <td id=\"T_7c565_row4_col2\" class=\"data row4 col2\" >0.9379</td>\n",
       "      <td id=\"T_7c565_row4_col3\" class=\"data row4 col3\" >0.4735</td>\n",
       "      <td id=\"T_7c565_row4_col4\" class=\"data row4 col4\" >0.6357</td>\n",
       "      <td id=\"T_7c565_row4_col5\" class=\"data row4 col5\" >0.5425</td>\n",
       "      <td id=\"T_7c565_row4_col6\" class=\"data row4 col6\" >0.4937</td>\n",
       "      <td id=\"T_7c565_row4_col7\" class=\"data row4 col7\" >0.5004</td>\n",
       "      <td id=\"T_7c565_row4_col8\" class=\"data row4 col8\" >1.6210</td>\n",
       "    </tr>\n",
       "    <tr>\n",
       "      <th id=\"T_7c565_level0_row5\" class=\"row_heading level0 row5\" >ada</th>\n",
       "      <td id=\"T_7c565_row5_col0\" class=\"data row5 col0\" >Ada Boost Classifier</td>\n",
       "      <td id=\"T_7c565_row5_col1\" class=\"data row5 col1\" >0.9043</td>\n",
       "      <td id=\"T_7c565_row5_col2\" class=\"data row5 col2\" >0.9287</td>\n",
       "      <td id=\"T_7c565_row5_col3\" class=\"data row5 col3\" >0.5259</td>\n",
       "      <td id=\"T_7c565_row5_col4\" class=\"data row5 col4\" >0.5858</td>\n",
       "      <td id=\"T_7c565_row5_col5\" class=\"data row5 col5\" >0.5535</td>\n",
       "      <td id=\"T_7c565_row5_col6\" class=\"data row5 col6\" >0.5002</td>\n",
       "      <td id=\"T_7c565_row5_col7\" class=\"data row5 col7\" >0.5015</td>\n",
       "      <td id=\"T_7c565_row5_col8\" class=\"data row5 col8\" >1.1170</td>\n",
       "    </tr>\n",
       "    <tr>\n",
       "      <th id=\"T_7c565_level0_row6\" class=\"row_heading level0 row6\" >et</th>\n",
       "      <td id=\"T_7c565_row6_col0\" class=\"data row6 col0\" >Extra Trees Classifier</td>\n",
       "      <td id=\"T_7c565_row6_col1\" class=\"data row6 col1\" >0.9025</td>\n",
       "      <td id=\"T_7c565_row6_col2\" class=\"data row6 col2\" >0.9186</td>\n",
       "      <td id=\"T_7c565_row6_col3\" class=\"data row6 col3\" >0.4158</td>\n",
       "      <td id=\"T_7c565_row6_col4\" class=\"data row6 col4\" >0.5987</td>\n",
       "      <td id=\"T_7c565_row6_col5\" class=\"data row6 col5\" >0.4903</td>\n",
       "      <td id=\"T_7c565_row6_col6\" class=\"data row6 col6\" >0.4385</td>\n",
       "      <td id=\"T_7c565_row6_col7\" class=\"data row6 col7\" >0.4476</td>\n",
       "      <td id=\"T_7c565_row6_col8\" class=\"data row6 col8\" >2.2020</td>\n",
       "    </tr>\n",
       "    <tr>\n",
       "      <th id=\"T_7c565_level0_row7\" class=\"row_heading level0 row7\" >dummy</th>\n",
       "      <td id=\"T_7c565_row7_col0\" class=\"data row7 col0\" >Dummy Classifier</td>\n",
       "      <td id=\"T_7c565_row7_col1\" class=\"data row7 col1\" >0.8869</td>\n",
       "      <td id=\"T_7c565_row7_col2\" class=\"data row7 col2\" >0.5000</td>\n",
       "      <td id=\"T_7c565_row7_col3\" class=\"data row7 col3\" >0.0000</td>\n",
       "      <td id=\"T_7c565_row7_col4\" class=\"data row7 col4\" >0.0000</td>\n",
       "      <td id=\"T_7c565_row7_col5\" class=\"data row7 col5\" >0.0000</td>\n",
       "      <td id=\"T_7c565_row7_col6\" class=\"data row7 col6\" >0.0000</td>\n",
       "      <td id=\"T_7c565_row7_col7\" class=\"data row7 col7\" >0.0000</td>\n",
       "      <td id=\"T_7c565_row7_col8\" class=\"data row7 col8\" >0.0970</td>\n",
       "    </tr>\n",
       "    <tr>\n",
       "      <th id=\"T_7c565_level0_row8\" class=\"row_heading level0 row8\" >dt</th>\n",
       "      <td id=\"T_7c565_row8_col0\" class=\"data row8 col0\" >Decision Tree Classifier</td>\n",
       "      <td id=\"T_7c565_row8_col1\" class=\"data row8 col1\" >0.8855</td>\n",
       "      <td id=\"T_7c565_row8_col2\" class=\"data row8 col2\" >0.7301</td>\n",
       "      <td id=\"T_7c565_row8_col3\" class=\"data row8 col3\" >0.5293</td>\n",
       "      <td id=\"T_7c565_row8_col4\" class=\"data row8 col4\" >0.4945</td>\n",
       "      <td id=\"T_7c565_row8_col5\" class=\"data row8 col5\" >0.5111</td>\n",
       "      <td id=\"T_7c565_row8_col6\" class=\"data row8 col6\" >0.4464</td>\n",
       "      <td id=\"T_7c565_row8_col7\" class=\"data row8 col7\" >0.4468</td>\n",
       "      <td id=\"T_7c565_row8_col8\" class=\"data row8 col8\" >0.2930</td>\n",
       "    </tr>\n",
       "    <tr>\n",
       "      <th id=\"T_7c565_level0_row9\" class=\"row_heading level0 row9\" >nb</th>\n",
       "      <td id=\"T_7c565_row9_col0\" class=\"data row9 col0\" >Naive Bayes</td>\n",
       "      <td id=\"T_7c565_row9_col1\" class=\"data row9 col1\" >0.8699</td>\n",
       "      <td id=\"T_7c565_row9_col2\" class=\"data row9 col2\" >0.8149</td>\n",
       "      <td id=\"T_7c565_row9_col3\" class=\"data row9 col3\" >0.4952</td>\n",
       "      <td id=\"T_7c565_row9_col4\" class=\"data row9 col4\" >0.4343</td>\n",
       "      <td id=\"T_7c565_row9_col5\" class=\"data row9 col5\" >0.4627</td>\n",
       "      <td id=\"T_7c565_row9_col6\" class=\"data row9 col6\" >0.3891</td>\n",
       "      <td id=\"T_7c565_row9_col7\" class=\"data row9 col7\" >0.3902</td>\n",
       "      <td id=\"T_7c565_row9_col8\" class=\"data row9 col8\" >0.1070</td>\n",
       "    </tr>\n",
       "    <tr>\n",
       "      <th id=\"T_7c565_level0_row10\" class=\"row_heading level0 row10\" >ridge</th>\n",
       "      <td id=\"T_7c565_row10_col0\" class=\"data row10 col0\" >Ridge Classifier</td>\n",
       "      <td id=\"T_7c565_row10_col1\" class=\"data row10 col1\" >0.8643</td>\n",
       "      <td id=\"T_7c565_row10_col2\" class=\"data row10 col2\" >0.0000</td>\n",
       "      <td id=\"T_7c565_row10_col3\" class=\"data row10 col3\" >0.8326</td>\n",
       "      <td id=\"T_7c565_row10_col4\" class=\"data row10 col4\" >0.4464</td>\n",
       "      <td id=\"T_7c565_row10_col5\" class=\"data row10 col5\" >0.5811</td>\n",
       "      <td id=\"T_7c565_row10_col6\" class=\"data row10 col6\" >0.5088</td>\n",
       "      <td id=\"T_7c565_row10_col7\" class=\"data row10 col7\" >0.5441</td>\n",
       "      <td id=\"T_7c565_row10_col8\" class=\"data row10 col8\" >0.1010</td>\n",
       "    </tr>\n",
       "    <tr>\n",
       "      <th id=\"T_7c565_level0_row11\" class=\"row_heading level0 row11\" >lda</th>\n",
       "      <td id=\"T_7c565_row11_col0\" class=\"data row11 col0\" >Linear Discriminant Analysis</td>\n",
       "      <td id=\"T_7c565_row11_col1\" class=\"data row11 col1\" >0.8643</td>\n",
       "      <td id=\"T_7c565_row11_col2\" class=\"data row11 col2\" >0.9292</td>\n",
       "      <td id=\"T_7c565_row11_col3\" class=\"data row11 col3\" >0.8326</td>\n",
       "      <td id=\"T_7c565_row11_col4\" class=\"data row11 col4\" >0.4464</td>\n",
       "      <td id=\"T_7c565_row11_col5\" class=\"data row11 col5\" >0.5811</td>\n",
       "      <td id=\"T_7c565_row11_col6\" class=\"data row11 col6\" >0.5088</td>\n",
       "      <td id=\"T_7c565_row11_col7\" class=\"data row11 col7\" >0.5441</td>\n",
       "      <td id=\"T_7c565_row11_col8\" class=\"data row11 col8\" >0.3730</td>\n",
       "    </tr>\n",
       "    <tr>\n",
       "      <th id=\"T_7c565_level0_row12\" class=\"row_heading level0 row12\" >lr</th>\n",
       "      <td id=\"T_7c565_row12_col0\" class=\"data row12 col0\" >Logistic Regression</td>\n",
       "      <td id=\"T_7c565_row12_col1\" class=\"data row12 col1\" >0.8560</td>\n",
       "      <td id=\"T_7c565_row12_col2\" class=\"data row12 col2\" >0.9339</td>\n",
       "      <td id=\"T_7c565_row12_col3\" class=\"data row12 col3\" >0.8755</td>\n",
       "      <td id=\"T_7c565_row12_col4\" class=\"data row12 col4\" >0.4327</td>\n",
       "      <td id=\"T_7c565_row12_col5\" class=\"data row12 col5\" >0.5791</td>\n",
       "      <td id=\"T_7c565_row12_col6\" class=\"data row12 col6\" >0.5040</td>\n",
       "      <td id=\"T_7c565_row12_col7\" class=\"data row12 col7\" >0.5496</td>\n",
       "      <td id=\"T_7c565_row12_col8\" class=\"data row12 col8\" >3.8520</td>\n",
       "    </tr>\n",
       "    <tr>\n",
       "      <th id=\"T_7c565_level0_row13\" class=\"row_heading level0 row13\" >knn</th>\n",
       "      <td id=\"T_7c565_row13_col0\" class=\"data row13 col0\" >K Neighbors Classifier</td>\n",
       "      <td id=\"T_7c565_row13_col1\" class=\"data row13 col1\" >0.8509</td>\n",
       "      <td id=\"T_7c565_row13_col2\" class=\"data row13 col2\" >0.8820</td>\n",
       "      <td id=\"T_7c565_row13_col3\" class=\"data row13 col3\" >0.7970</td>\n",
       "      <td id=\"T_7c565_row13_col4\" class=\"data row13 col4\" >0.4171</td>\n",
       "      <td id=\"T_7c565_row13_col5\" class=\"data row13 col5\" >0.5474</td>\n",
       "      <td id=\"T_7c565_row13_col6\" class=\"data row13 col6\" >0.4685</td>\n",
       "      <td id=\"T_7c565_row13_col7\" class=\"data row13 col7\" >0.5039</td>\n",
       "      <td id=\"T_7c565_row13_col8\" class=\"data row13 col8\" >1.1620</td>\n",
       "    </tr>\n",
       "    <tr>\n",
       "      <th id=\"T_7c565_level0_row14\" class=\"row_heading level0 row14\" >svm</th>\n",
       "      <td id=\"T_7c565_row14_col0\" class=\"data row14 col0\" >SVM - Linear Kernel</td>\n",
       "      <td id=\"T_7c565_row14_col1\" class=\"data row14 col1\" >0.6761</td>\n",
       "      <td id=\"T_7c565_row14_col2\" class=\"data row14 col2\" >0.0000</td>\n",
       "      <td id=\"T_7c565_row14_col3\" class=\"data row14 col3\" >0.7184</td>\n",
       "      <td id=\"T_7c565_row14_col4\" class=\"data row14 col4\" >0.4070</td>\n",
       "      <td id=\"T_7c565_row14_col5\" class=\"data row14 col5\" >0.4017</td>\n",
       "      <td id=\"T_7c565_row14_col6\" class=\"data row14 col6\" >0.2987</td>\n",
       "      <td id=\"T_7c565_row14_col7\" class=\"data row14 col7\" >0.3564</td>\n",
       "      <td id=\"T_7c565_row14_col8\" class=\"data row14 col8\" >1.2490</td>\n",
       "    </tr>\n",
       "    <tr>\n",
       "      <th id=\"T_7c565_level0_row15\" class=\"row_heading level0 row15\" >qda</th>\n",
       "      <td id=\"T_7c565_row15_col0\" class=\"data row15 col0\" >Quadratic Discriminant Analysis</td>\n",
       "      <td id=\"T_7c565_row15_col1\" class=\"data row15 col1\" >0.1132</td>\n",
       "      <td id=\"T_7c565_row15_col2\" class=\"data row15 col2\" >0.5001</td>\n",
       "      <td id=\"T_7c565_row15_col3\" class=\"data row15 col3\" >1.0000</td>\n",
       "      <td id=\"T_7c565_row15_col4\" class=\"data row15 col4\" >0.1131</td>\n",
       "      <td id=\"T_7c565_row15_col5\" class=\"data row15 col5\" >0.2032</td>\n",
       "      <td id=\"T_7c565_row15_col6\" class=\"data row15 col6\" >0.0000</td>\n",
       "      <td id=\"T_7c565_row15_col7\" class=\"data row15 col7\" >0.0020</td>\n",
       "      <td id=\"T_7c565_row15_col8\" class=\"data row15 col8\" >0.3040</td>\n",
       "    </tr>\n",
       "  </tbody>\n",
       "</table>\n"
      ],
      "text/plain": [
       "<pandas.io.formats.style.Styler at 0x1f5a7fefd00>"
      ]
     },
     "metadata": {},
     "output_type": "display_data"
    }
   ],
   "source": [
    "best_model = compare_models()"
   ]
  },
  {
   "attachments": {},
   "cell_type": "markdown",
   "metadata": {},
   "source": [
    "# 4. Creating the model"
   ]
  },
  {
   "cell_type": "code",
   "execution_count": 19,
   "metadata": {},
   "outputs": [
    {
     "data": {
      "text/html": [
       "<style type=\"text/css\">\n",
       "#T_26941_row10_col0, #T_26941_row10_col1, #T_26941_row10_col2, #T_26941_row10_col3, #T_26941_row10_col4, #T_26941_row10_col5, #T_26941_row10_col6 {\n",
       "  background: yellow;\n",
       "}\n",
       "</style>\n",
       "<table id=\"T_26941\">\n",
       "  <thead>\n",
       "    <tr>\n",
       "      <th class=\"blank level0\" >&nbsp;</th>\n",
       "      <th id=\"T_26941_level0_col0\" class=\"col_heading level0 col0\" >Accuracy</th>\n",
       "      <th id=\"T_26941_level0_col1\" class=\"col_heading level0 col1\" >AUC</th>\n",
       "      <th id=\"T_26941_level0_col2\" class=\"col_heading level0 col2\" >Recall</th>\n",
       "      <th id=\"T_26941_level0_col3\" class=\"col_heading level0 col3\" >Prec.</th>\n",
       "      <th id=\"T_26941_level0_col4\" class=\"col_heading level0 col4\" >F1</th>\n",
       "      <th id=\"T_26941_level0_col5\" class=\"col_heading level0 col5\" >Kappa</th>\n",
       "      <th id=\"T_26941_level0_col6\" class=\"col_heading level0 col6\" >MCC</th>\n",
       "    </tr>\n",
       "    <tr>\n",
       "      <th class=\"index_name level0\" >Fold</th>\n",
       "      <th class=\"blank col0\" >&nbsp;</th>\n",
       "      <th class=\"blank col1\" >&nbsp;</th>\n",
       "      <th class=\"blank col2\" >&nbsp;</th>\n",
       "      <th class=\"blank col3\" >&nbsp;</th>\n",
       "      <th class=\"blank col4\" >&nbsp;</th>\n",
       "      <th class=\"blank col5\" >&nbsp;</th>\n",
       "      <th class=\"blank col6\" >&nbsp;</th>\n",
       "    </tr>\n",
       "  </thead>\n",
       "  <tbody>\n",
       "    <tr>\n",
       "      <th id=\"T_26941_level0_row0\" class=\"row_heading level0 row0\" >0</th>\n",
       "      <td id=\"T_26941_row0_col0\" class=\"data row0 col0\" >0.9175</td>\n",
       "      <td id=\"T_26941_row0_col1\" class=\"data row0 col1\" >0.9508</td>\n",
       "      <td id=\"T_26941_row0_col2\" class=\"data row0 col2\" >0.5810</td>\n",
       "      <td id=\"T_26941_row0_col3\" class=\"data row0 col3\" >0.6529</td>\n",
       "      <td id=\"T_26941_row0_col4\" class=\"data row0 col4\" >0.6149</td>\n",
       "      <td id=\"T_26941_row0_col5\" class=\"data row0 col5\" >0.5688</td>\n",
       "      <td id=\"T_26941_row0_col6\" class=\"data row0 col6\" >0.5701</td>\n",
       "    </tr>\n",
       "    <tr>\n",
       "      <th id=\"T_26941_level0_row1\" class=\"row_heading level0 row1\" >1</th>\n",
       "      <td id=\"T_26941_row1_col0\" class=\"data row1 col0\" >0.9081</td>\n",
       "      <td id=\"T_26941_row1_col1\" class=\"data row1 col1\" >0.9420</td>\n",
       "      <td id=\"T_26941_row1_col2\" class=\"data row1 col2\" >0.4939</td>\n",
       "      <td id=\"T_26941_row1_col3\" class=\"data row1 col3\" >0.6169</td>\n",
       "      <td id=\"T_26941_row1_col4\" class=\"data row1 col4\" >0.5486</td>\n",
       "      <td id=\"T_26941_row1_col5\" class=\"data row1 col5\" >0.4981</td>\n",
       "      <td id=\"T_26941_row1_col6\" class=\"data row1 col6\" >0.5019</td>\n",
       "    </tr>\n",
       "    <tr>\n",
       "      <th id=\"T_26941_level0_row2\" class=\"row_heading level0 row2\" >2</th>\n",
       "      <td id=\"T_26941_row2_col0\" class=\"data row2 col0\" >0.9122</td>\n",
       "      <td id=\"T_26941_row2_col1\" class=\"data row2 col1\" >0.9468</td>\n",
       "      <td id=\"T_26941_row2_col2\" class=\"data row2 col2\" >0.5583</td>\n",
       "      <td id=\"T_26941_row2_col3\" class=\"data row2 col3\" >0.6254</td>\n",
       "      <td id=\"T_26941_row2_col4\" class=\"data row2 col4\" >0.5900</td>\n",
       "      <td id=\"T_26941_row2_col5\" class=\"data row2 col5\" >0.5410</td>\n",
       "      <td id=\"T_26941_row2_col6\" class=\"data row2 col6\" >0.5421</td>\n",
       "    </tr>\n",
       "    <tr>\n",
       "      <th id=\"T_26941_level0_row3\" class=\"row_heading level0 row3\" >3</th>\n",
       "      <td id=\"T_26941_row3_col0\" class=\"data row3 col0\" >0.9154</td>\n",
       "      <td id=\"T_26941_row3_col1\" class=\"data row3 col1\" >0.9443</td>\n",
       "      <td id=\"T_26941_row3_col2\" class=\"data row3 col2\" >0.5736</td>\n",
       "      <td id=\"T_26941_row3_col3\" class=\"data row3 col3\" >0.6404</td>\n",
       "      <td id=\"T_26941_row3_col4\" class=\"data row3 col4\" >0.6052</td>\n",
       "      <td id=\"T_26941_row3_col5\" class=\"data row3 col5\" >0.5579</td>\n",
       "      <td id=\"T_26941_row3_col6\" class=\"data row3 col6\" >0.5590</td>\n",
       "    </tr>\n",
       "    <tr>\n",
       "      <th id=\"T_26941_level0_row4\" class=\"row_heading level0 row4\" >4</th>\n",
       "      <td id=\"T_26941_row4_col0\" class=\"data row4 col0\" >0.9220</td>\n",
       "      <td id=\"T_26941_row4_col1\" class=\"data row4 col1\" >0.9543</td>\n",
       "      <td id=\"T_26941_row4_col2\" class=\"data row4 col2\" >0.6043</td>\n",
       "      <td id=\"T_26941_row4_col3\" class=\"data row4 col3\" >0.6724</td>\n",
       "      <td id=\"T_26941_row4_col4\" class=\"data row4 col4\" >0.6365</td>\n",
       "      <td id=\"T_26941_row4_col5\" class=\"data row4 col5\" >0.5929</td>\n",
       "      <td id=\"T_26941_row4_col6\" class=\"data row4 col6\" >0.5940</td>\n",
       "    </tr>\n",
       "    <tr>\n",
       "      <th id=\"T_26941_level0_row5\" class=\"row_heading level0 row5\" >5</th>\n",
       "      <td id=\"T_26941_row5_col0\" class=\"data row5 col0\" >0.9105</td>\n",
       "      <td id=\"T_26941_row5_col1\" class=\"data row5 col1\" >0.9449</td>\n",
       "      <td id=\"T_26941_row5_col2\" class=\"data row5 col2\" >0.5092</td>\n",
       "      <td id=\"T_26941_row5_col3\" class=\"data row5 col3\" >0.6288</td>\n",
       "      <td id=\"T_26941_row5_col4\" class=\"data row5 col4\" >0.5627</td>\n",
       "      <td id=\"T_26941_row5_col5\" class=\"data row5 col5\" >0.5135</td>\n",
       "      <td id=\"T_26941_row5_col6\" class=\"data row5 col6\" >0.5170</td>\n",
       "    </tr>\n",
       "    <tr>\n",
       "      <th id=\"T_26941_level0_row6\" class=\"row_heading level0 row6\" >6</th>\n",
       "      <td id=\"T_26941_row6_col0\" class=\"data row6 col0\" >0.9116</td>\n",
       "      <td id=\"T_26941_row6_col1\" class=\"data row6 col1\" >0.9458</td>\n",
       "      <td id=\"T_26941_row6_col2\" class=\"data row6 col2\" >0.5890</td>\n",
       "      <td id=\"T_26941_row6_col3\" class=\"data row6 col3\" >0.6134</td>\n",
       "      <td id=\"T_26941_row6_col4\" class=\"data row6 col4\" >0.6009</td>\n",
       "      <td id=\"T_26941_row6_col5\" class=\"data row6 col5\" >0.5512</td>\n",
       "      <td id=\"T_26941_row6_col6\" class=\"data row6 col6\" >0.5514</td>\n",
       "    </tr>\n",
       "    <tr>\n",
       "      <th id=\"T_26941_level0_row7\" class=\"row_heading level0 row7\" >7</th>\n",
       "      <td id=\"T_26941_row7_col0\" class=\"data row7 col0\" >0.9136</td>\n",
       "      <td id=\"T_26941_row7_col1\" class=\"data row7 col1\" >0.9483</td>\n",
       "      <td id=\"T_26941_row7_col2\" class=\"data row7 col2\" >0.5583</td>\n",
       "      <td id=\"T_26941_row7_col3\" class=\"data row7 col3\" >0.6341</td>\n",
       "      <td id=\"T_26941_row7_col4\" class=\"data row7 col4\" >0.5938</td>\n",
       "      <td id=\"T_26941_row7_col5\" class=\"data row7 col5\" >0.5457</td>\n",
       "      <td id=\"T_26941_row7_col6\" class=\"data row7 col6\" >0.5471</td>\n",
       "    </tr>\n",
       "    <tr>\n",
       "      <th id=\"T_26941_level0_row8\" class=\"row_heading level0 row8\" >8</th>\n",
       "      <td id=\"T_26941_row8_col0\" class=\"data row8 col0\" >0.9174</td>\n",
       "      <td id=\"T_26941_row8_col1\" class=\"data row8 col1\" >0.9536</td>\n",
       "      <td id=\"T_26941_row8_col2\" class=\"data row8 col2\" >0.5798</td>\n",
       "      <td id=\"T_26941_row8_col3\" class=\"data row8 col3\" >0.6517</td>\n",
       "      <td id=\"T_26941_row8_col4\" class=\"data row8 col4\" >0.6136</td>\n",
       "      <td id=\"T_26941_row8_col5\" class=\"data row8 col5\" >0.5676</td>\n",
       "      <td id=\"T_26941_row8_col6\" class=\"data row8 col6\" >0.5688</td>\n",
       "    </tr>\n",
       "    <tr>\n",
       "      <th id=\"T_26941_level0_row9\" class=\"row_heading level0 row9\" >9</th>\n",
       "      <td id=\"T_26941_row9_col0\" class=\"data row9 col0\" >0.9206</td>\n",
       "      <td id=\"T_26941_row9_col1\" class=\"data row9 col1\" >0.9520</td>\n",
       "      <td id=\"T_26941_row9_col2\" class=\"data row9 col2\" >0.5951</td>\n",
       "      <td id=\"T_26941_row9_col3\" class=\"data row9 col3\" >0.6667</td>\n",
       "      <td id=\"T_26941_row9_col4\" class=\"data row9 col4\" >0.6288</td>\n",
       "      <td id=\"T_26941_row9_col5\" class=\"data row9 col5\" >0.5845</td>\n",
       "      <td id=\"T_26941_row9_col6\" class=\"data row9 col6\" >0.5857</td>\n",
       "    </tr>\n",
       "    <tr>\n",
       "      <th id=\"T_26941_level0_row10\" class=\"row_heading level0 row10\" >Mean</th>\n",
       "      <td id=\"T_26941_row10_col0\" class=\"data row10 col0\" >0.9149</td>\n",
       "      <td id=\"T_26941_row10_col1\" class=\"data row10 col1\" >0.9483</td>\n",
       "      <td id=\"T_26941_row10_col2\" class=\"data row10 col2\" >0.5642</td>\n",
       "      <td id=\"T_26941_row10_col3\" class=\"data row10 col3\" >0.6403</td>\n",
       "      <td id=\"T_26941_row10_col4\" class=\"data row10 col4\" >0.5995</td>\n",
       "      <td id=\"T_26941_row10_col5\" class=\"data row10 col5\" >0.5521</td>\n",
       "      <td id=\"T_26941_row10_col6\" class=\"data row10 col6\" >0.5537</td>\n",
       "    </tr>\n",
       "    <tr>\n",
       "      <th id=\"T_26941_level0_row11\" class=\"row_heading level0 row11\" >Std</th>\n",
       "      <td id=\"T_26941_row11_col0\" class=\"data row11 col0\" >0.0043</td>\n",
       "      <td id=\"T_26941_row11_col1\" class=\"data row11 col1\" >0.0040</td>\n",
       "      <td id=\"T_26941_row11_col2\" class=\"data row11 col2\" >0.0344</td>\n",
       "      <td id=\"T_26941_row11_col3\" class=\"data row11 col3\" >0.0192</td>\n",
       "      <td id=\"T_26941_row11_col4\" class=\"data row11 col4\" >0.0260</td>\n",
       "      <td id=\"T_26941_row11_col5\" class=\"data row11 col5\" >0.0280</td>\n",
       "      <td id=\"T_26941_row11_col6\" class=\"data row11 col6\" >0.0272</td>\n",
       "    </tr>\n",
       "  </tbody>\n",
       "</table>\n"
      ],
      "text/plain": [
       "<pandas.io.formats.style.Styler at 0x1f5a7fef6a0>"
      ]
     },
     "metadata": {},
     "output_type": "display_data"
    }
   ],
   "source": [
    "model_lgb = create_model('lightgbm')"
   ]
  },
  {
   "cell_type": "code",
   "execution_count": 20,
   "metadata": {},
   "outputs": [
    {
     "data": {
      "text/html": [
       "<style type=\"text/css\">\n",
       "#T_79577_row10_col0, #T_79577_row10_col1, #T_79577_row10_col2, #T_79577_row10_col3, #T_79577_row10_col4, #T_79577_row10_col5, #T_79577_row10_col6 {\n",
       "  background: yellow;\n",
       "}\n",
       "</style>\n",
       "<table id=\"T_79577\">\n",
       "  <thead>\n",
       "    <tr>\n",
       "      <th class=\"blank level0\" >&nbsp;</th>\n",
       "      <th id=\"T_79577_level0_col0\" class=\"col_heading level0 col0\" >Accuracy</th>\n",
       "      <th id=\"T_79577_level0_col1\" class=\"col_heading level0 col1\" >AUC</th>\n",
       "      <th id=\"T_79577_level0_col2\" class=\"col_heading level0 col2\" >Recall</th>\n",
       "      <th id=\"T_79577_level0_col3\" class=\"col_heading level0 col3\" >Prec.</th>\n",
       "      <th id=\"T_79577_level0_col4\" class=\"col_heading level0 col4\" >F1</th>\n",
       "      <th id=\"T_79577_level0_col5\" class=\"col_heading level0 col5\" >Kappa</th>\n",
       "      <th id=\"T_79577_level0_col6\" class=\"col_heading level0 col6\" >MCC</th>\n",
       "    </tr>\n",
       "    <tr>\n",
       "      <th class=\"index_name level0\" >Fold</th>\n",
       "      <th class=\"blank col0\" >&nbsp;</th>\n",
       "      <th class=\"blank col1\" >&nbsp;</th>\n",
       "      <th class=\"blank col2\" >&nbsp;</th>\n",
       "      <th class=\"blank col3\" >&nbsp;</th>\n",
       "      <th class=\"blank col4\" >&nbsp;</th>\n",
       "      <th class=\"blank col5\" >&nbsp;</th>\n",
       "      <th class=\"blank col6\" >&nbsp;</th>\n",
       "    </tr>\n",
       "  </thead>\n",
       "  <tbody>\n",
       "    <tr>\n",
       "      <th id=\"T_79577_level0_row0\" class=\"row_heading level0 row0\" >0</th>\n",
       "      <td id=\"T_79577_row0_col0\" class=\"data row0 col0\" >0.9154</td>\n",
       "      <td id=\"T_79577_row0_col1\" class=\"data row0 col1\" >0.9506</td>\n",
       "      <td id=\"T_79577_row0_col2\" class=\"data row0 col2\" >0.5566</td>\n",
       "      <td id=\"T_79577_row0_col3\" class=\"data row0 col3\" >0.6477</td>\n",
       "      <td id=\"T_79577_row0_col4\" class=\"data row0 col4\" >0.5987</td>\n",
       "      <td id=\"T_79577_row0_col5\" class=\"data row0 col5\" >0.5517</td>\n",
       "      <td id=\"T_79577_row0_col6\" class=\"data row0 col6\" >0.5537</td>\n",
       "    </tr>\n",
       "    <tr>\n",
       "      <th id=\"T_79577_level0_row1\" class=\"row_heading level0 row1\" >1</th>\n",
       "      <td id=\"T_79577_row1_col0\" class=\"data row1 col0\" >0.9119</td>\n",
       "      <td id=\"T_79577_row1_col1\" class=\"data row1 col1\" >0.9429</td>\n",
       "      <td id=\"T_79577_row1_col2\" class=\"data row1 col2\" >0.5368</td>\n",
       "      <td id=\"T_79577_row1_col3\" class=\"data row1 col3\" >0.6295</td>\n",
       "      <td id=\"T_79577_row1_col4\" class=\"data row1 col4\" >0.5795</td>\n",
       "      <td id=\"T_79577_row1_col5\" class=\"data row1 col5\" >0.5306</td>\n",
       "      <td id=\"T_79577_row1_col6\" class=\"data row1 col6\" >0.5327</td>\n",
       "    </tr>\n",
       "    <tr>\n",
       "      <th id=\"T_79577_level0_row2\" class=\"row_heading level0 row2\" >2</th>\n",
       "      <td id=\"T_79577_row2_col0\" class=\"data row2 col0\" >0.9126</td>\n",
       "      <td id=\"T_79577_row2_col1\" class=\"data row2 col1\" >0.9450</td>\n",
       "      <td id=\"T_79577_row2_col2\" class=\"data row2 col2\" >0.5399</td>\n",
       "      <td id=\"T_79577_row2_col3\" class=\"data row2 col3\" >0.6331</td>\n",
       "      <td id=\"T_79577_row2_col4\" class=\"data row2 col4\" >0.5828</td>\n",
       "      <td id=\"T_79577_row2_col5\" class=\"data row2 col5\" >0.5343</td>\n",
       "      <td id=\"T_79577_row2_col6\" class=\"data row2 col6\" >0.5364</td>\n",
       "    </tr>\n",
       "    <tr>\n",
       "      <th id=\"T_79577_level0_row3\" class=\"row_heading level0 row3\" >3</th>\n",
       "      <td id=\"T_79577_row3_col0\" class=\"data row3 col0\" >0.9116</td>\n",
       "      <td id=\"T_79577_row3_col1\" class=\"data row3 col1\" >0.9424</td>\n",
       "      <td id=\"T_79577_row3_col2\" class=\"data row3 col2\" >0.5583</td>\n",
       "      <td id=\"T_79577_row3_col3\" class=\"data row3 col3\" >0.6212</td>\n",
       "      <td id=\"T_79577_row3_col4\" class=\"data row3 col4\" >0.5880</td>\n",
       "      <td id=\"T_79577_row3_col5\" class=\"data row3 col5\" >0.5387</td>\n",
       "      <td id=\"T_79577_row3_col6\" class=\"data row3 col6\" >0.5396</td>\n",
       "    </tr>\n",
       "    <tr>\n",
       "      <th id=\"T_79577_level0_row4\" class=\"row_heading level0 row4\" >4</th>\n",
       "      <td id=\"T_79577_row4_col0\" class=\"data row4 col0\" >0.9122</td>\n",
       "      <td id=\"T_79577_row4_col1\" class=\"data row4 col1\" >0.9487</td>\n",
       "      <td id=\"T_79577_row4_col2\" class=\"data row4 col2\" >0.5767</td>\n",
       "      <td id=\"T_79577_row4_col3\" class=\"data row4 col3\" >0.6205</td>\n",
       "      <td id=\"T_79577_row4_col4\" class=\"data row4 col4\" >0.5978</td>\n",
       "      <td id=\"T_79577_row4_col5\" class=\"data row4 col5\" >0.5486</td>\n",
       "      <td id=\"T_79577_row4_col6\" class=\"data row4 col6\" >0.5491</td>\n",
       "    </tr>\n",
       "    <tr>\n",
       "      <th id=\"T_79577_level0_row5\" class=\"row_heading level0 row5\" >5</th>\n",
       "      <td id=\"T_79577_row5_col0\" class=\"data row5 col0\" >0.9140</td>\n",
       "      <td id=\"T_79577_row5_col1\" class=\"data row5 col1\" >0.9447</td>\n",
       "      <td id=\"T_79577_row5_col2\" class=\"data row5 col2\" >0.5307</td>\n",
       "      <td id=\"T_79577_row5_col3\" class=\"data row5 col3\" >0.6455</td>\n",
       "      <td id=\"T_79577_row5_col4\" class=\"data row5 col4\" >0.5825</td>\n",
       "      <td id=\"T_79577_row5_col5\" class=\"data row5 col5\" >0.5351</td>\n",
       "      <td id=\"T_79577_row5_col6\" class=\"data row5 col6\" >0.5382</td>\n",
       "    </tr>\n",
       "    <tr>\n",
       "      <th id=\"T_79577_level0_row6\" class=\"row_heading level0 row6\" >6</th>\n",
       "      <td id=\"T_79577_row6_col0\" class=\"data row6 col0\" >0.9126</td>\n",
       "      <td id=\"T_79577_row6_col1\" class=\"data row6 col1\" >0.9451</td>\n",
       "      <td id=\"T_79577_row6_col2\" class=\"data row6 col2\" >0.5767</td>\n",
       "      <td id=\"T_79577_row6_col3\" class=\"data row6 col3\" >0.6225</td>\n",
       "      <td id=\"T_79577_row6_col4\" class=\"data row6 col4\" >0.5987</td>\n",
       "      <td id=\"T_79577_row6_col5\" class=\"data row6 col5\" >0.5498</td>\n",
       "      <td id=\"T_79577_row6_col6\" class=\"data row6 col6\" >0.5503</td>\n",
       "    </tr>\n",
       "    <tr>\n",
       "      <th id=\"T_79577_level0_row7\" class=\"row_heading level0 row7\" >7</th>\n",
       "      <td id=\"T_79577_row7_col0\" class=\"data row7 col0\" >0.9206</td>\n",
       "      <td id=\"T_79577_row7_col1\" class=\"data row7 col1\" >0.9488</td>\n",
       "      <td id=\"T_79577_row7_col2\" class=\"data row7 col2\" >0.5675</td>\n",
       "      <td id=\"T_79577_row7_col3\" class=\"data row7 col3\" >0.6777</td>\n",
       "      <td id=\"T_79577_row7_col4\" class=\"data row7 col4\" >0.6177</td>\n",
       "      <td id=\"T_79577_row7_col5\" class=\"data row7 col5\" >0.5738</td>\n",
       "      <td id=\"T_79577_row7_col6\" class=\"data row7 col6\" >0.5766</td>\n",
       "    </tr>\n",
       "    <tr>\n",
       "      <th id=\"T_79577_level0_row8\" class=\"row_heading level0 row8\" >8</th>\n",
       "      <td id=\"T_79577_row8_col0\" class=\"data row8 col0\" >0.9150</td>\n",
       "      <td id=\"T_79577_row8_col1\" class=\"data row8 col1\" >0.9514</td>\n",
       "      <td id=\"T_79577_row8_col2\" class=\"data row8 col2\" >0.5767</td>\n",
       "      <td id=\"T_79577_row8_col3\" class=\"data row8 col3\" >0.6373</td>\n",
       "      <td id=\"T_79577_row8_col4\" class=\"data row8 col4\" >0.6055</td>\n",
       "      <td id=\"T_79577_row8_col5\" class=\"data row8 col5\" >0.5580</td>\n",
       "      <td id=\"T_79577_row8_col6\" class=\"data row8 col6\" >0.5589</td>\n",
       "    </tr>\n",
       "    <tr>\n",
       "      <th id=\"T_79577_level0_row9\" class=\"row_heading level0 row9\" >9</th>\n",
       "      <td id=\"T_79577_row9_col0\" class=\"data row9 col0\" >0.9223</td>\n",
       "      <td id=\"T_79577_row9_col1\" class=\"data row9 col1\" >0.9514</td>\n",
       "      <td id=\"T_79577_row9_col2\" class=\"data row9 col2\" >0.5798</td>\n",
       "      <td id=\"T_79577_row9_col3\" class=\"data row9 col3\" >0.6848</td>\n",
       "      <td id=\"T_79577_row9_col4\" class=\"data row9 col4\" >0.6279</td>\n",
       "      <td id=\"T_79577_row9_col5\" class=\"data row9 col5\" >0.5849</td>\n",
       "      <td id=\"T_79577_row9_col6\" class=\"data row9 col6\" >0.5874</td>\n",
       "    </tr>\n",
       "    <tr>\n",
       "      <th id=\"T_79577_level0_row10\" class=\"row_heading level0 row10\" >Mean</th>\n",
       "      <td id=\"T_79577_row10_col0\" class=\"data row10 col0\" >0.9148</td>\n",
       "      <td id=\"T_79577_row10_col1\" class=\"data row10 col1\" >0.9471</td>\n",
       "      <td id=\"T_79577_row10_col2\" class=\"data row10 col2\" >0.5600</td>\n",
       "      <td id=\"T_79577_row10_col3\" class=\"data row10 col3\" >0.6420</td>\n",
       "      <td id=\"T_79577_row10_col4\" class=\"data row10 col4\" >0.5979</td>\n",
       "      <td id=\"T_79577_row10_col5\" class=\"data row10 col5\" >0.5505</td>\n",
       "      <td id=\"T_79577_row10_col6\" class=\"data row10 col6\" >0.5523</td>\n",
       "    </tr>\n",
       "    <tr>\n",
       "      <th id=\"T_79577_level0_row11\" class=\"row_heading level0 row11\" >Std</th>\n",
       "      <td id=\"T_79577_row11_col0\" class=\"data row11 col0\" >0.0035</td>\n",
       "      <td id=\"T_79577_row11_col1\" class=\"data row11 col1\" >0.0033</td>\n",
       "      <td id=\"T_79577_row11_col2\" class=\"data row11 col2\" >0.0176</td>\n",
       "      <td id=\"T_79577_row11_col3\" class=\"data row11 col3\" >0.0216</td>\n",
       "      <td id=\"T_79577_row11_col4\" class=\"data row11 col4\" >0.0150</td>\n",
       "      <td id=\"T_79577_row11_col5\" class=\"data row11 col5\" >0.0168</td>\n",
       "      <td id=\"T_79577_row11_col6\" class=\"data row11 col6\" >0.0170</td>\n",
       "    </tr>\n",
       "  </tbody>\n",
       "</table>\n"
      ],
      "text/plain": [
       "<pandas.io.formats.style.Styler at 0x1f5a80c1940>"
      ]
     },
     "metadata": {},
     "output_type": "display_data"
    }
   ],
   "source": [
    "model_cb = create_model('catboost')"
   ]
  },
  {
   "cell_type": "code",
   "execution_count": 21,
   "metadata": {},
   "outputs": [
    {
     "data": {
      "text/html": [
       "<style type=\"text/css\">\n",
       "#T_de618_row10_col0, #T_de618_row10_col1, #T_de618_row10_col2, #T_de618_row10_col3, #T_de618_row10_col4, #T_de618_row10_col5, #T_de618_row10_col6 {\n",
       "  background: yellow;\n",
       "}\n",
       "</style>\n",
       "<table id=\"T_de618\">\n",
       "  <thead>\n",
       "    <tr>\n",
       "      <th class=\"blank level0\" >&nbsp;</th>\n",
       "      <th id=\"T_de618_level0_col0\" class=\"col_heading level0 col0\" >Accuracy</th>\n",
       "      <th id=\"T_de618_level0_col1\" class=\"col_heading level0 col1\" >AUC</th>\n",
       "      <th id=\"T_de618_level0_col2\" class=\"col_heading level0 col2\" >Recall</th>\n",
       "      <th id=\"T_de618_level0_col3\" class=\"col_heading level0 col3\" >Prec.</th>\n",
       "      <th id=\"T_de618_level0_col4\" class=\"col_heading level0 col4\" >F1</th>\n",
       "      <th id=\"T_de618_level0_col5\" class=\"col_heading level0 col5\" >Kappa</th>\n",
       "      <th id=\"T_de618_level0_col6\" class=\"col_heading level0 col6\" >MCC</th>\n",
       "    </tr>\n",
       "    <tr>\n",
       "      <th class=\"index_name level0\" >Fold</th>\n",
       "      <th class=\"blank col0\" >&nbsp;</th>\n",
       "      <th class=\"blank col1\" >&nbsp;</th>\n",
       "      <th class=\"blank col2\" >&nbsp;</th>\n",
       "      <th class=\"blank col3\" >&nbsp;</th>\n",
       "      <th class=\"blank col4\" >&nbsp;</th>\n",
       "      <th class=\"blank col5\" >&nbsp;</th>\n",
       "      <th class=\"blank col6\" >&nbsp;</th>\n",
       "    </tr>\n",
       "  </thead>\n",
       "  <tbody>\n",
       "    <tr>\n",
       "      <th id=\"T_de618_level0_row0\" class=\"row_heading level0 row0\" >0</th>\n",
       "      <td id=\"T_de618_row0_col0\" class=\"data row0 col0\" >0.9144</td>\n",
       "      <td id=\"T_de618_row0_col1\" class=\"data row0 col1\" >0.9463</td>\n",
       "      <td id=\"T_de618_row0_col2\" class=\"data row0 col2\" >0.6086</td>\n",
       "      <td id=\"T_de618_row0_col3\" class=\"data row0 col3\" >0.6258</td>\n",
       "      <td id=\"T_de618_row0_col4\" class=\"data row0 col4\" >0.6171</td>\n",
       "      <td id=\"T_de618_row0_col5\" class=\"data row0 col5\" >0.5689</td>\n",
       "      <td id=\"T_de618_row0_col6\" class=\"data row0 col6\" >0.5689</td>\n",
       "    </tr>\n",
       "    <tr>\n",
       "      <th id=\"T_de618_level0_row1\" class=\"row_heading level0 row1\" >1</th>\n",
       "      <td id=\"T_de618_row1_col0\" class=\"data row1 col0\" >0.9057</td>\n",
       "      <td id=\"T_de618_row1_col1\" class=\"data row1 col1\" >0.9364</td>\n",
       "      <td id=\"T_de618_row1_col2\" class=\"data row1 col2\" >0.5307</td>\n",
       "      <td id=\"T_de618_row1_col3\" class=\"data row1 col3\" >0.5925</td>\n",
       "      <td id=\"T_de618_row1_col4\" class=\"data row1 col4\" >0.5599</td>\n",
       "      <td id=\"T_de618_row1_col5\" class=\"data row1 col5\" >0.5072</td>\n",
       "      <td id=\"T_de618_row1_col6\" class=\"data row1 col6\" >0.5082</td>\n",
       "    </tr>\n",
       "    <tr>\n",
       "      <th id=\"T_de618_level0_row2\" class=\"row_heading level0 row2\" >2</th>\n",
       "      <td id=\"T_de618_row2_col0\" class=\"data row2 col0\" >0.9067</td>\n",
       "      <td id=\"T_de618_row2_col1\" class=\"data row2 col1\" >0.9374</td>\n",
       "      <td id=\"T_de618_row2_col2\" class=\"data row2 col2\" >0.5613</td>\n",
       "      <td id=\"T_de618_row2_col3\" class=\"data row2 col3\" >0.5922</td>\n",
       "      <td id=\"T_de618_row2_col4\" class=\"data row2 col4\" >0.5764</td>\n",
       "      <td id=\"T_de618_row2_col5\" class=\"data row2 col5\" >0.5240</td>\n",
       "      <td id=\"T_de618_row2_col6\" class=\"data row2 col6\" >0.5242</td>\n",
       "    </tr>\n",
       "    <tr>\n",
       "      <th id=\"T_de618_level0_row3\" class=\"row_heading level0 row3\" >3</th>\n",
       "      <td id=\"T_de618_row3_col0\" class=\"data row3 col0\" >0.9116</td>\n",
       "      <td id=\"T_de618_row3_col1\" class=\"data row3 col1\" >0.9388</td>\n",
       "      <td id=\"T_de618_row3_col2\" class=\"data row3 col2\" >0.6012</td>\n",
       "      <td id=\"T_de618_row3_col3\" class=\"data row3 col3\" >0.6106</td>\n",
       "      <td id=\"T_de618_row3_col4\" class=\"data row3 col4\" >0.6059</td>\n",
       "      <td id=\"T_de618_row3_col5\" class=\"data row3 col5\" >0.5561</td>\n",
       "      <td id=\"T_de618_row3_col6\" class=\"data row3 col6\" >0.5561</td>\n",
       "    </tr>\n",
       "    <tr>\n",
       "      <th id=\"T_de618_level0_row4\" class=\"row_heading level0 row4\" >4</th>\n",
       "      <td id=\"T_de618_row4_col0\" class=\"data row4 col0\" >0.9143</td>\n",
       "      <td id=\"T_de618_row4_col1\" class=\"data row4 col1\" >0.9493</td>\n",
       "      <td id=\"T_de618_row4_col2\" class=\"data row4 col2\" >0.6380</td>\n",
       "      <td id=\"T_de618_row4_col3\" class=\"data row4 col3\" >0.6172</td>\n",
       "      <td id=\"T_de618_row4_col4\" class=\"data row4 col4\" >0.6275</td>\n",
       "      <td id=\"T_de618_row4_col5\" class=\"data row4 col5\" >0.5791</td>\n",
       "      <td id=\"T_de618_row4_col6\" class=\"data row4 col6\" >0.5792</td>\n",
       "    </tr>\n",
       "    <tr>\n",
       "      <th id=\"T_de618_level0_row5\" class=\"row_heading level0 row5\" >5</th>\n",
       "      <td id=\"T_de618_row5_col0\" class=\"data row5 col0\" >0.9057</td>\n",
       "      <td id=\"T_de618_row5_col1\" class=\"data row5 col1\" >0.9364</td>\n",
       "      <td id=\"T_de618_row5_col2\" class=\"data row5 col2\" >0.5736</td>\n",
       "      <td id=\"T_de618_row5_col3\" class=\"data row5 col3\" >0.5844</td>\n",
       "      <td id=\"T_de618_row5_col4\" class=\"data row5 col4\" >0.5789</td>\n",
       "      <td id=\"T_de618_row5_col5\" class=\"data row5 col5\" >0.5258</td>\n",
       "      <td id=\"T_de618_row5_col6\" class=\"data row5 col6\" >0.5259</td>\n",
       "    </tr>\n",
       "    <tr>\n",
       "      <th id=\"T_de618_level0_row6\" class=\"row_heading level0 row6\" >6</th>\n",
       "      <td id=\"T_de618_row6_col0\" class=\"data row6 col0\" >0.9053</td>\n",
       "      <td id=\"T_de618_row6_col1\" class=\"data row6 col1\" >0.9397</td>\n",
       "      <td id=\"T_de618_row6_col2\" class=\"data row6 col2\" >0.6074</td>\n",
       "      <td id=\"T_de618_row6_col3\" class=\"data row6 col3\" >0.5773</td>\n",
       "      <td id=\"T_de618_row6_col4\" class=\"data row6 col4\" >0.5919</td>\n",
       "      <td id=\"T_de618_row6_col5\" class=\"data row6 col5\" >0.5384</td>\n",
       "      <td id=\"T_de618_row6_col6\" class=\"data row6 col6\" >0.5386</td>\n",
       "    </tr>\n",
       "    <tr>\n",
       "      <th id=\"T_de618_level0_row7\" class=\"row_heading level0 row7\" >7</th>\n",
       "      <td id=\"T_de618_row7_col0\" class=\"data row7 col0\" >0.9098</td>\n",
       "      <td id=\"T_de618_row7_col1\" class=\"data row7 col1\" >0.9410</td>\n",
       "      <td id=\"T_de618_row7_col2\" class=\"data row7 col2\" >0.5767</td>\n",
       "      <td id=\"T_de618_row7_col3\" class=\"data row7 col3\" >0.6065</td>\n",
       "      <td id=\"T_de618_row7_col4\" class=\"data row7 col4\" >0.5912</td>\n",
       "      <td id=\"T_de618_row7_col5\" class=\"data row7 col5\" >0.5405</td>\n",
       "      <td id=\"T_de618_row7_col6\" class=\"data row7 col6\" >0.5408</td>\n",
       "    </tr>\n",
       "    <tr>\n",
       "      <th id=\"T_de618_level0_row8\" class=\"row_heading level0 row8\" >8</th>\n",
       "      <td id=\"T_de618_row8_col0\" class=\"data row8 col0\" >0.9140</td>\n",
       "      <td id=\"T_de618_row8_col1\" class=\"data row8 col1\" >0.9463</td>\n",
       "      <td id=\"T_de618_row8_col2\" class=\"data row8 col2\" >0.6012</td>\n",
       "      <td id=\"T_de618_row8_col3\" class=\"data row8 col3\" >0.6242</td>\n",
       "      <td id=\"T_de618_row8_col4\" class=\"data row8 col4\" >0.6125</td>\n",
       "      <td id=\"T_de618_row8_col5\" class=\"data row8 col5\" >0.5641</td>\n",
       "      <td id=\"T_de618_row8_col6\" class=\"data row8 col6\" >0.5643</td>\n",
       "    </tr>\n",
       "    <tr>\n",
       "      <th id=\"T_de618_level0_row9\" class=\"row_heading level0 row9\" >9</th>\n",
       "      <td id=\"T_de618_row9_col0\" class=\"data row9 col0\" >0.9157</td>\n",
       "      <td id=\"T_de618_row9_col1\" class=\"data row9 col1\" >0.9490</td>\n",
       "      <td id=\"T_de618_row9_col2\" class=\"data row9 col2\" >0.6043</td>\n",
       "      <td id=\"T_de618_row9_col3\" class=\"data row9 col3\" >0.6334</td>\n",
       "      <td id=\"T_de618_row9_col4\" class=\"data row9 col4\" >0.6185</td>\n",
       "      <td id=\"T_de618_row9_col5\" class=\"data row9 col5\" >0.5712</td>\n",
       "      <td id=\"T_de618_row9_col6\" class=\"data row9 col6\" >0.5714</td>\n",
       "    </tr>\n",
       "    <tr>\n",
       "      <th id=\"T_de618_level0_row10\" class=\"row_heading level0 row10\" >Mean</th>\n",
       "      <td id=\"T_de618_row10_col0\" class=\"data row10 col0\" >0.9103</td>\n",
       "      <td id=\"T_de618_row10_col1\" class=\"data row10 col1\" >0.9420</td>\n",
       "      <td id=\"T_de618_row10_col2\" class=\"data row10 col2\" >0.5903</td>\n",
       "      <td id=\"T_de618_row10_col3\" class=\"data row10 col3\" >0.6064</td>\n",
       "      <td id=\"T_de618_row10_col4\" class=\"data row10 col4\" >0.5980</td>\n",
       "      <td id=\"T_de618_row10_col5\" class=\"data row10 col5\" >0.5475</td>\n",
       "      <td id=\"T_de618_row10_col6\" class=\"data row10 col6\" >0.5477</td>\n",
       "    </tr>\n",
       "    <tr>\n",
       "      <th id=\"T_de618_level0_row11\" class=\"row_heading level0 row11\" >Std</th>\n",
       "      <td id=\"T_de618_row11_col0\" class=\"data row11 col0\" >0.0040</td>\n",
       "      <td id=\"T_de618_row11_col1\" class=\"data row11 col1\" >0.0049</td>\n",
       "      <td id=\"T_de618_row11_col2\" class=\"data row11 col2\" >0.0286</td>\n",
       "      <td id=\"T_de618_row11_col3\" class=\"data row11 col3\" >0.0181</td>\n",
       "      <td id=\"T_de618_row11_col4\" class=\"data row11 col4\" >0.0207</td>\n",
       "      <td id=\"T_de618_row11_col5\" class=\"data row11 col5\" >0.0227</td>\n",
       "      <td id=\"T_de618_row11_col6\" class=\"data row11 col6\" >0.0225</td>\n",
       "    </tr>\n",
       "  </tbody>\n",
       "</table>\n"
      ],
      "text/plain": [
       "<pandas.io.formats.style.Styler at 0x1f5a786e970>"
      ]
     },
     "metadata": {},
     "output_type": "display_data"
    }
   ],
   "source": [
    "model_gbc = create_model('gbc')"
   ]
  },
  {
   "attachments": {},
   "cell_type": "markdown",
   "metadata": {},
   "source": [
    "# Tuning the Model"
   ]
  },
  {
   "cell_type": "code",
   "execution_count": 13,
   "metadata": {},
   "outputs": [
    {
     "data": {
      "text/html": [
       "<style type=\"text/css\">\n",
       "#T_2f2ce_row10_col0, #T_2f2ce_row10_col1, #T_2f2ce_row10_col2, #T_2f2ce_row10_col3, #T_2f2ce_row10_col4, #T_2f2ce_row10_col5, #T_2f2ce_row10_col6 {\n",
       "  background: yellow;\n",
       "}\n",
       "</style>\n",
       "<table id=\"T_2f2ce\">\n",
       "  <thead>\n",
       "    <tr>\n",
       "      <th class=\"blank level0\" >&nbsp;</th>\n",
       "      <th id=\"T_2f2ce_level0_col0\" class=\"col_heading level0 col0\" >Accuracy</th>\n",
       "      <th id=\"T_2f2ce_level0_col1\" class=\"col_heading level0 col1\" >AUC</th>\n",
       "      <th id=\"T_2f2ce_level0_col2\" class=\"col_heading level0 col2\" >Recall</th>\n",
       "      <th id=\"T_2f2ce_level0_col3\" class=\"col_heading level0 col3\" >Prec.</th>\n",
       "      <th id=\"T_2f2ce_level0_col4\" class=\"col_heading level0 col4\" >F1</th>\n",
       "      <th id=\"T_2f2ce_level0_col5\" class=\"col_heading level0 col5\" >Kappa</th>\n",
       "      <th id=\"T_2f2ce_level0_col6\" class=\"col_heading level0 col6\" >MCC</th>\n",
       "    </tr>\n",
       "    <tr>\n",
       "      <th class=\"index_name level0\" >Fold</th>\n",
       "      <th class=\"blank col0\" >&nbsp;</th>\n",
       "      <th class=\"blank col1\" >&nbsp;</th>\n",
       "      <th class=\"blank col2\" >&nbsp;</th>\n",
       "      <th class=\"blank col3\" >&nbsp;</th>\n",
       "      <th class=\"blank col4\" >&nbsp;</th>\n",
       "      <th class=\"blank col5\" >&nbsp;</th>\n",
       "      <th class=\"blank col6\" >&nbsp;</th>\n",
       "    </tr>\n",
       "  </thead>\n",
       "  <tbody>\n",
       "    <tr>\n",
       "      <th id=\"T_2f2ce_level0_row0\" class=\"row_heading level0 row0\" >0</th>\n",
       "      <td id=\"T_2f2ce_row0_col0\" class=\"data row0 col0\" >0.9189</td>\n",
       "      <td id=\"T_2f2ce_row0_col1\" class=\"data row0 col1\" >0.9485</td>\n",
       "      <td id=\"T_2f2ce_row0_col2\" class=\"data row0 col2\" >0.5586</td>\n",
       "      <td id=\"T_2f2ce_row0_col3\" class=\"data row0 col3\" >0.6654</td>\n",
       "      <td id=\"T_2f2ce_row0_col4\" class=\"data row0 col4\" >0.6074</td>\n",
       "      <td id=\"T_2f2ce_row0_col5\" class=\"data row0 col5\" >0.5625</td>\n",
       "      <td id=\"T_2f2ce_row0_col6\" class=\"data row0 col6\" >0.5652</td>\n",
       "    </tr>\n",
       "    <tr>\n",
       "      <th id=\"T_2f2ce_level0_row1\" class=\"row_heading level0 row1\" >1</th>\n",
       "      <td id=\"T_2f2ce_row1_col0\" class=\"data row1 col0\" >0.9181</td>\n",
       "      <td id=\"T_2f2ce_row1_col1\" class=\"data row1 col1\" >0.9551</td>\n",
       "      <td id=\"T_2f2ce_row1_col2\" class=\"data row1 col2\" >0.5820</td>\n",
       "      <td id=\"T_2f2ce_row1_col3\" class=\"data row1 col3\" >0.6505</td>\n",
       "      <td id=\"T_2f2ce_row1_col4\" class=\"data row1 col4\" >0.6144</td>\n",
       "      <td id=\"T_2f2ce_row1_col5\" class=\"data row1 col5\" >0.5687</td>\n",
       "      <td id=\"T_2f2ce_row1_col6\" class=\"data row1 col6\" >0.5698</td>\n",
       "    </tr>\n",
       "    <tr>\n",
       "      <th id=\"T_2f2ce_level0_row2\" class=\"row_heading level0 row2\" >2</th>\n",
       "      <td id=\"T_2f2ce_row2_col0\" class=\"data row2 col0\" >0.9116</td>\n",
       "      <td id=\"T_2f2ce_row2_col1\" class=\"data row2 col1\" >0.9406</td>\n",
       "      <td id=\"T_2f2ce_row2_col2\" class=\"data row2 col2\" >0.5480</td>\n",
       "      <td id=\"T_2f2ce_row2_col3\" class=\"data row2 col3\" >0.6189</td>\n",
       "      <td id=\"T_2f2ce_row2_col4\" class=\"data row2 col4\" >0.5813</td>\n",
       "      <td id=\"T_2f2ce_row2_col5\" class=\"data row2 col5\" >0.5320</td>\n",
       "      <td id=\"T_2f2ce_row2_col6\" class=\"data row2 col6\" >0.5333</td>\n",
       "    </tr>\n",
       "    <tr>\n",
       "      <th id=\"T_2f2ce_level0_row3\" class=\"row_heading level0 row3\" >3</th>\n",
       "      <td id=\"T_2f2ce_row3_col0\" class=\"data row3 col0\" >0.9216</td>\n",
       "      <td id=\"T_2f2ce_row3_col1\" class=\"data row3 col1\" >0.9531</td>\n",
       "      <td id=\"T_2f2ce_row3_col2\" class=\"data row3 col2\" >0.5728</td>\n",
       "      <td id=\"T_2f2ce_row3_col3\" class=\"data row3 col3\" >0.6777</td>\n",
       "      <td id=\"T_2f2ce_row3_col4\" class=\"data row3 col4\" >0.6208</td>\n",
       "      <td id=\"T_2f2ce_row3_col5\" class=\"data row3 col5\" >0.5774</td>\n",
       "      <td id=\"T_2f2ce_row3_col6\" class=\"data row3 col6\" >0.5800</td>\n",
       "    </tr>\n",
       "    <tr>\n",
       "      <th id=\"T_2f2ce_level0_row4\" class=\"row_heading level0 row4\" >4</th>\n",
       "      <td id=\"T_2f2ce_row4_col0\" class=\"data row4 col0\" >0.9178</td>\n",
       "      <td id=\"T_2f2ce_row4_col1\" class=\"data row4 col1\" >0.9570</td>\n",
       "      <td id=\"T_2f2ce_row4_col2\" class=\"data row4 col2\" >0.5851</td>\n",
       "      <td id=\"T_2f2ce_row4_col3\" class=\"data row4 col3\" >0.6473</td>\n",
       "      <td id=\"T_2f2ce_row4_col4\" class=\"data row4 col4\" >0.6146</td>\n",
       "      <td id=\"T_2f2ce_row4_col5\" class=\"data row4 col5\" >0.5688</td>\n",
       "      <td id=\"T_2f2ce_row4_col6\" class=\"data row4 col6\" >0.5697</td>\n",
       "    </tr>\n",
       "    <tr>\n",
       "      <th id=\"T_2f2ce_level0_row5\" class=\"row_heading level0 row5\" >5</th>\n",
       "      <td id=\"T_2f2ce_row5_col0\" class=\"data row5 col0\" >0.9133</td>\n",
       "      <td id=\"T_2f2ce_row5_col1\" class=\"data row5 col1\" >0.9473</td>\n",
       "      <td id=\"T_2f2ce_row5_col2\" class=\"data row5 col2\" >0.5480</td>\n",
       "      <td id=\"T_2f2ce_row5_col3\" class=\"data row5 col3\" >0.6299</td>\n",
       "      <td id=\"T_2f2ce_row5_col4\" class=\"data row5 col4\" >0.5861</td>\n",
       "      <td id=\"T_2f2ce_row5_col5\" class=\"data row5 col5\" >0.5379</td>\n",
       "      <td id=\"T_2f2ce_row5_col6\" class=\"data row5 col6\" >0.5396</td>\n",
       "    </tr>\n",
       "    <tr>\n",
       "      <th id=\"T_2f2ce_level0_row6\" class=\"row_heading level0 row6\" >6</th>\n",
       "      <td id=\"T_2f2ce_row6_col0\" class=\"data row6 col0\" >0.9195</td>\n",
       "      <td id=\"T_2f2ce_row6_col1\" class=\"data row6 col1\" >0.9497</td>\n",
       "      <td id=\"T_2f2ce_row6_col2\" class=\"data row6 col2\" >0.6068</td>\n",
       "      <td id=\"T_2f2ce_row6_col3\" class=\"data row6 col3\" >0.6512</td>\n",
       "      <td id=\"T_2f2ce_row6_col4\" class=\"data row6 col4\" >0.6282</td>\n",
       "      <td id=\"T_2f2ce_row6_col5\" class=\"data row6 col5\" >0.5831</td>\n",
       "      <td id=\"T_2f2ce_row6_col6\" class=\"data row6 col6\" >0.5836</td>\n",
       "    </tr>\n",
       "    <tr>\n",
       "      <th id=\"T_2f2ce_level0_row7\" class=\"row_heading level0 row7\" >7</th>\n",
       "      <td id=\"T_2f2ce_row7_col0\" class=\"data row7 col0\" >0.9095</td>\n",
       "      <td id=\"T_2f2ce_row7_col1\" class=\"data row7 col1\" >0.9392</td>\n",
       "      <td id=\"T_2f2ce_row7_col2\" class=\"data row7 col2\" >0.5356</td>\n",
       "      <td id=\"T_2f2ce_row7_col3\" class=\"data row7 col3\" >0.6092</td>\n",
       "      <td id=\"T_2f2ce_row7_col4\" class=\"data row7 col4\" >0.5700</td>\n",
       "      <td id=\"T_2f2ce_row7_col5\" class=\"data row7 col5\" >0.5197</td>\n",
       "      <td id=\"T_2f2ce_row7_col6\" class=\"data row7 col6\" >0.5210</td>\n",
       "    </tr>\n",
       "    <tr>\n",
       "      <th id=\"T_2f2ce_level0_row8\" class=\"row_heading level0 row8\" >8</th>\n",
       "      <td id=\"T_2f2ce_row8_col0\" class=\"data row8 col0\" >0.9174</td>\n",
       "      <td id=\"T_2f2ce_row8_col1\" class=\"data row8 col1\" >0.9527</td>\n",
       "      <td id=\"T_2f2ce_row8_col2\" class=\"data row8 col2\" >0.5480</td>\n",
       "      <td id=\"T_2f2ce_row8_col3\" class=\"data row8 col3\" >0.6580</td>\n",
       "      <td id=\"T_2f2ce_row8_col4\" class=\"data row8 col4\" >0.5980</td>\n",
       "      <td id=\"T_2f2ce_row8_col5\" class=\"data row8 col5\" >0.5524</td>\n",
       "      <td id=\"T_2f2ce_row8_col6\" class=\"data row8 col6\" >0.5553</td>\n",
       "    </tr>\n",
       "    <tr>\n",
       "      <th id=\"T_2f2ce_level0_row9\" class=\"row_heading level0 row9\" >9</th>\n",
       "      <td id=\"T_2f2ce_row9_col0\" class=\"data row9 col0\" >0.9161</td>\n",
       "      <td id=\"T_2f2ce_row9_col1\" class=\"data row9 col1\" >0.9508</td>\n",
       "      <td id=\"T_2f2ce_row9_col2\" class=\"data row9 col2\" >0.6173</td>\n",
       "      <td id=\"T_2f2ce_row9_col3\" class=\"data row9 col3\" >0.6289</td>\n",
       "      <td id=\"T_2f2ce_row9_col4\" class=\"data row9 col4\" >0.6231</td>\n",
       "      <td id=\"T_2f2ce_row9_col5\" class=\"data row9 col5\" >0.5758</td>\n",
       "      <td id=\"T_2f2ce_row9_col6\" class=\"data row9 col6\" >0.5759</td>\n",
       "    </tr>\n",
       "    <tr>\n",
       "      <th id=\"T_2f2ce_level0_row10\" class=\"row_heading level0 row10\" >Mean</th>\n",
       "      <td id=\"T_2f2ce_row10_col0\" class=\"data row10 col0\" >0.9164</td>\n",
       "      <td id=\"T_2f2ce_row10_col1\" class=\"data row10 col1\" >0.9494</td>\n",
       "      <td id=\"T_2f2ce_row10_col2\" class=\"data row10 col2\" >0.5702</td>\n",
       "      <td id=\"T_2f2ce_row10_col3\" class=\"data row10 col3\" >0.6437</td>\n",
       "      <td id=\"T_2f2ce_row10_col4\" class=\"data row10 col4\" >0.6044</td>\n",
       "      <td id=\"T_2f2ce_row10_col5\" class=\"data row10 col5\" >0.5578</td>\n",
       "      <td id=\"T_2f2ce_row10_col6\" class=\"data row10 col6\" >0.5593</td>\n",
       "    </tr>\n",
       "    <tr>\n",
       "      <th id=\"T_2f2ce_level0_row11\" class=\"row_heading level0 row11\" >Std</th>\n",
       "      <td id=\"T_2f2ce_row11_col0\" class=\"data row11 col0\" >0.0036</td>\n",
       "      <td id=\"T_2f2ce_row11_col1\" class=\"data row11 col1\" >0.0055</td>\n",
       "      <td id=\"T_2f2ce_row11_col2\" class=\"data row11 col2\" >0.0260</td>\n",
       "      <td id=\"T_2f2ce_row11_col3\" class=\"data row11 col3\" >0.0204</td>\n",
       "      <td id=\"T_2f2ce_row11_col4\" class=\"data row11 col4\" >0.0187</td>\n",
       "      <td id=\"T_2f2ce_row11_col5\" class=\"data row11 col5\" >0.0204</td>\n",
       "      <td id=\"T_2f2ce_row11_col6\" class=\"data row11 col6\" >0.0202</td>\n",
       "    </tr>\n",
       "  </tbody>\n",
       "</table>\n"
      ],
      "text/plain": [
       "<pandas.io.formats.style.Styler at 0x1f5ff898be0>"
      ]
     },
     "metadata": {},
     "output_type": "display_data"
    }
   ],
   "source": [
    "import numpy as np\n",
    "\n",
    "\n",
    "\n",
    "tuned_model = tune_model(model_lgb, choose_better=True)"
   ]
  },
  {
   "cell_type": "code",
   "execution_count": 22,
   "metadata": {},
   "outputs": [
    {
     "data": {
      "text/html": [
       "<style type=\"text/css\">\n",
       "#T_06547_row10_col0, #T_06547_row10_col1, #T_06547_row10_col2, #T_06547_row10_col3, #T_06547_row10_col4, #T_06547_row10_col5, #T_06547_row10_col6 {\n",
       "  background: yellow;\n",
       "}\n",
       "</style>\n",
       "<table id=\"T_06547\">\n",
       "  <thead>\n",
       "    <tr>\n",
       "      <th class=\"blank level0\" >&nbsp;</th>\n",
       "      <th id=\"T_06547_level0_col0\" class=\"col_heading level0 col0\" >Accuracy</th>\n",
       "      <th id=\"T_06547_level0_col1\" class=\"col_heading level0 col1\" >AUC</th>\n",
       "      <th id=\"T_06547_level0_col2\" class=\"col_heading level0 col2\" >Recall</th>\n",
       "      <th id=\"T_06547_level0_col3\" class=\"col_heading level0 col3\" >Prec.</th>\n",
       "      <th id=\"T_06547_level0_col4\" class=\"col_heading level0 col4\" >F1</th>\n",
       "      <th id=\"T_06547_level0_col5\" class=\"col_heading level0 col5\" >Kappa</th>\n",
       "      <th id=\"T_06547_level0_col6\" class=\"col_heading level0 col6\" >MCC</th>\n",
       "    </tr>\n",
       "    <tr>\n",
       "      <th class=\"index_name level0\" >Fold</th>\n",
       "      <th class=\"blank col0\" >&nbsp;</th>\n",
       "      <th class=\"blank col1\" >&nbsp;</th>\n",
       "      <th class=\"blank col2\" >&nbsp;</th>\n",
       "      <th class=\"blank col3\" >&nbsp;</th>\n",
       "      <th class=\"blank col4\" >&nbsp;</th>\n",
       "      <th class=\"blank col5\" >&nbsp;</th>\n",
       "      <th class=\"blank col6\" >&nbsp;</th>\n",
       "    </tr>\n",
       "  </thead>\n",
       "  <tbody>\n",
       "    <tr>\n",
       "      <th id=\"T_06547_level0_row0\" class=\"row_heading level0 row0\" >0</th>\n",
       "      <td id=\"T_06547_row0_col0\" class=\"data row0 col0\" >0.9130</td>\n",
       "      <td id=\"T_06547_row0_col1\" class=\"data row0 col1\" >0.9439</td>\n",
       "      <td id=\"T_06547_row0_col2\" class=\"data row0 col2\" >0.5657</td>\n",
       "      <td id=\"T_06547_row0_col3\" class=\"data row0 col3\" >0.6293</td>\n",
       "      <td id=\"T_06547_row0_col4\" class=\"data row0 col4\" >0.5958</td>\n",
       "      <td id=\"T_06547_row0_col5\" class=\"data row0 col5\" >0.5472</td>\n",
       "      <td id=\"T_06547_row0_col6\" class=\"data row0 col6\" >0.5482</td>\n",
       "    </tr>\n",
       "    <tr>\n",
       "      <th id=\"T_06547_level0_row1\" class=\"row_heading level0 row1\" >1</th>\n",
       "      <td id=\"T_06547_row1_col0\" class=\"data row1 col0\" >0.9109</td>\n",
       "      <td id=\"T_06547_row1_col1\" class=\"data row1 col1\" >0.9377</td>\n",
       "      <td id=\"T_06547_row1_col2\" class=\"data row1 col2\" >0.5276</td>\n",
       "      <td id=\"T_06547_row1_col3\" class=\"data row1 col3\" >0.6255</td>\n",
       "      <td id=\"T_06547_row1_col4\" class=\"data row1 col4\" >0.5724</td>\n",
       "      <td id=\"T_06547_row1_col5\" class=\"data row1 col5\" >0.5230</td>\n",
       "      <td id=\"T_06547_row1_col6\" class=\"data row1 col6\" >0.5254</td>\n",
       "    </tr>\n",
       "    <tr>\n",
       "      <th id=\"T_06547_level0_row2\" class=\"row_heading level0 row2\" >2</th>\n",
       "      <td id=\"T_06547_row2_col0\" class=\"data row2 col0\" >0.9053</td>\n",
       "      <td id=\"T_06547_row2_col1\" class=\"data row2 col1\" >0.9394</td>\n",
       "      <td id=\"T_06547_row2_col2\" class=\"data row2 col2\" >0.5123</td>\n",
       "      <td id=\"T_06547_row2_col3\" class=\"data row2 col3\" >0.5943</td>\n",
       "      <td id=\"T_06547_row2_col4\" class=\"data row2 col4\" >0.5502</td>\n",
       "      <td id=\"T_06547_row2_col5\" class=\"data row2 col5\" >0.4977</td>\n",
       "      <td id=\"T_06547_row2_col6\" class=\"data row2 col6\" >0.4994</td>\n",
       "    </tr>\n",
       "    <tr>\n",
       "      <th id=\"T_06547_level0_row3\" class=\"row_heading level0 row3\" >3</th>\n",
       "      <td id=\"T_06547_row3_col0\" class=\"data row3 col0\" >0.9067</td>\n",
       "      <td id=\"T_06547_row3_col1\" class=\"data row3 col1\" >0.9384</td>\n",
       "      <td id=\"T_06547_row3_col2\" class=\"data row3 col2\" >0.5429</td>\n",
       "      <td id=\"T_06547_row3_col3\" class=\"data row3 col3\" >0.5960</td>\n",
       "      <td id=\"T_06547_row3_col4\" class=\"data row3 col4\" >0.5682</td>\n",
       "      <td id=\"T_06547_row3_col5\" class=\"data row3 col5\" >0.5160</td>\n",
       "      <td id=\"T_06547_row3_col6\" class=\"data row3 col6\" >0.5167</td>\n",
       "    </tr>\n",
       "    <tr>\n",
       "      <th id=\"T_06547_level0_row4\" class=\"row_heading level0 row4\" >4</th>\n",
       "      <td id=\"T_06547_row4_col0\" class=\"data row4 col0\" >0.9074</td>\n",
       "      <td id=\"T_06547_row4_col1\" class=\"data row4 col1\" >0.9453</td>\n",
       "      <td id=\"T_06547_row4_col2\" class=\"data row4 col2\" >0.5368</td>\n",
       "      <td id=\"T_06547_row4_col3\" class=\"data row4 col3\" >0.6014</td>\n",
       "      <td id=\"T_06547_row4_col4\" class=\"data row4 col4\" >0.5673</td>\n",
       "      <td id=\"T_06547_row4_col5\" class=\"data row4 col5\" >0.5156</td>\n",
       "      <td id=\"T_06547_row4_col6\" class=\"data row4 col6\" >0.5166</td>\n",
       "    </tr>\n",
       "    <tr>\n",
       "      <th id=\"T_06547_level0_row5\" class=\"row_heading level0 row5\" >5</th>\n",
       "      <td id=\"T_06547_row5_col0\" class=\"data row5 col0\" >0.9057</td>\n",
       "      <td id=\"T_06547_row5_col1\" class=\"data row5 col1\" >0.9379</td>\n",
       "      <td id=\"T_06547_row5_col2\" class=\"data row5 col2\" >0.5000</td>\n",
       "      <td id=\"T_06547_row5_col3\" class=\"data row5 col3\" >0.5993</td>\n",
       "      <td id=\"T_06547_row5_col4\" class=\"data row5 col4\" >0.5452</td>\n",
       "      <td id=\"T_06547_row5_col5\" class=\"data row5 col5\" >0.4930</td>\n",
       "      <td id=\"T_06547_row5_col6\" class=\"data row5 col6\" >0.4955</td>\n",
       "    </tr>\n",
       "    <tr>\n",
       "      <th id=\"T_06547_level0_row6\" class=\"row_heading level0 row6\" >6</th>\n",
       "      <td id=\"T_06547_row6_col0\" class=\"data row6 col0\" >0.9084</td>\n",
       "      <td id=\"T_06547_row6_col1\" class=\"data row6 col1\" >0.9405</td>\n",
       "      <td id=\"T_06547_row6_col2\" class=\"data row6 col2\" >0.5675</td>\n",
       "      <td id=\"T_06547_row6_col3\" class=\"data row6 col3\" >0.6006</td>\n",
       "      <td id=\"T_06547_row6_col4\" class=\"data row6 col4\" >0.5836</td>\n",
       "      <td id=\"T_06547_row6_col5\" class=\"data row6 col5\" >0.5322</td>\n",
       "      <td id=\"T_06547_row6_col6\" class=\"data row6 col6\" >0.5325</td>\n",
       "    </tr>\n",
       "    <tr>\n",
       "      <th id=\"T_06547_level0_row7\" class=\"row_heading level0 row7\" >7</th>\n",
       "      <td id=\"T_06547_row7_col0\" class=\"data row7 col0\" >0.9119</td>\n",
       "      <td id=\"T_06547_row7_col1\" class=\"data row7 col1\" >0.9412</td>\n",
       "      <td id=\"T_06547_row7_col2\" class=\"data row7 col2\" >0.5337</td>\n",
       "      <td id=\"T_06547_row7_col3\" class=\"data row7 col3\" >0.6304</td>\n",
       "      <td id=\"T_06547_row7_col4\" class=\"data row7 col4\" >0.5781</td>\n",
       "      <td id=\"T_06547_row7_col5\" class=\"data row7 col5\" >0.5293</td>\n",
       "      <td id=\"T_06547_row7_col6\" class=\"data row7 col6\" >0.5316</td>\n",
       "    </tr>\n",
       "    <tr>\n",
       "      <th id=\"T_06547_level0_row8\" class=\"row_heading level0 row8\" >8</th>\n",
       "      <td id=\"T_06547_row8_col0\" class=\"data row8 col0\" >0.9143</td>\n",
       "      <td id=\"T_06547_row8_col1\" class=\"data row8 col1\" >0.9493</td>\n",
       "      <td id=\"T_06547_row8_col2\" class=\"data row8 col2\" >0.5828</td>\n",
       "      <td id=\"T_06547_row8_col3\" class=\"data row8 col3\" >0.6312</td>\n",
       "      <td id=\"T_06547_row8_col4\" class=\"data row8 col4\" >0.6061</td>\n",
       "      <td id=\"T_06547_row8_col5\" class=\"data row8 col5\" >0.5581</td>\n",
       "      <td id=\"T_06547_row8_col6\" class=\"data row8 col6\" >0.5586</td>\n",
       "    </tr>\n",
       "    <tr>\n",
       "      <th id=\"T_06547_level0_row9\" class=\"row_heading level0 row9\" >9</th>\n",
       "      <td id=\"T_06547_row9_col0\" class=\"data row9 col0\" >0.9185</td>\n",
       "      <td id=\"T_06547_row9_col1\" class=\"data row9 col1\" >0.9478</td>\n",
       "      <td id=\"T_06547_row9_col2\" class=\"data row9 col2\" >0.6074</td>\n",
       "      <td id=\"T_06547_row9_col3\" class=\"data row9 col3\" >0.6492</td>\n",
       "      <td id=\"T_06547_row9_col4\" class=\"data row9 col4\" >0.6276</td>\n",
       "      <td id=\"T_06547_row9_col5\" class=\"data row9 col5\" >0.5819</td>\n",
       "      <td id=\"T_06547_row9_col6\" class=\"data row9 col6\" >0.5823</td>\n",
       "    </tr>\n",
       "    <tr>\n",
       "      <th id=\"T_06547_level0_row10\" class=\"row_heading level0 row10\" >Mean</th>\n",
       "      <td id=\"T_06547_row10_col0\" class=\"data row10 col0\" >0.9102</td>\n",
       "      <td id=\"T_06547_row10_col1\" class=\"data row10 col1\" >0.9421</td>\n",
       "      <td id=\"T_06547_row10_col2\" class=\"data row10 col2\" >0.5477</td>\n",
       "      <td id=\"T_06547_row10_col3\" class=\"data row10 col3\" >0.6157</td>\n",
       "      <td id=\"T_06547_row10_col4\" class=\"data row10 col4\" >0.5794</td>\n",
       "      <td id=\"T_06547_row10_col5\" class=\"data row10 col5\" >0.5294</td>\n",
       "      <td id=\"T_06547_row10_col6\" class=\"data row10 col6\" >0.5307</td>\n",
       "    </tr>\n",
       "    <tr>\n",
       "      <th id=\"T_06547_level0_row11\" class=\"row_heading level0 row11\" >Std</th>\n",
       "      <td id=\"T_06547_row11_col0\" class=\"data row11 col0\" >0.0041</td>\n",
       "      <td id=\"T_06547_row11_col1\" class=\"data row11 col1\" >0.0040</td>\n",
       "      <td id=\"T_06547_row11_col2\" class=\"data row11 col2\" >0.0313</td>\n",
       "      <td id=\"T_06547_row11_col3\" class=\"data row11 col3\" >0.0185</td>\n",
       "      <td id=\"T_06547_row11_col4\" class=\"data row11 col4\" >0.0238</td>\n",
       "      <td id=\"T_06547_row11_col5\" class=\"data row11 col5\" >0.0258</td>\n",
       "      <td id=\"T_06547_row11_col6\" class=\"data row11 col6\" >0.0253</td>\n",
       "    </tr>\n",
       "  </tbody>\n",
       "</table>\n"
      ],
      "text/plain": [
       "<pandas.io.formats.style.Styler at 0x1f580153e50>"
      ]
     },
     "metadata": {},
     "output_type": "display_data"
    }
   ],
   "source": [
    "# ensemble model\n",
    "boosted_lgb = ensemble_model(model_lgb, method = 'Boosting', choose_better = True)"
   ]
  },
  {
   "cell_type": "code",
   "execution_count": 23,
   "metadata": {},
   "outputs": [
    {
     "name": "stdout",
     "output_type": "stream",
     "text": [
      "LGBMClassifier(boosting_type='gbdt', class_weight=None, colsample_bytree=1.0,\n",
      "               importance_type='split', learning_rate=0.1, max_depth=-1,\n",
      "               min_child_samples=20, min_child_weight=0.001, min_split_gain=0.0,\n",
      "               n_estimators=100, n_jobs=-1, num_leaves=31, objective=None,\n",
      "               random_state=4921, reg_alpha=0.0, reg_lambda=0.0, silent='warn',\n",
      "               subsample=1.0, subsample_for_bin=200000, subsample_freq=0)\n"
     ]
    }
   ],
   "source": [
    "print(boosted_lgb)"
   ]
  },
  {
   "cell_type": "code",
   "execution_count": null,
   "metadata": {},
   "outputs": [
    {
     "data": {
      "text/html": [
       "<style type=\"text/css\">\n",
       "#T_c57ba_row10_col0, #T_c57ba_row10_col1, #T_c57ba_row10_col2, #T_c57ba_row10_col3, #T_c57ba_row10_col4, #T_c57ba_row10_col5, #T_c57ba_row10_col6 {\n",
       "  background: yellow;\n",
       "}\n",
       "</style>\n",
       "<table id=\"T_c57ba\">\n",
       "  <thead>\n",
       "    <tr>\n",
       "      <th class=\"blank level0\" >&nbsp;</th>\n",
       "      <th id=\"T_c57ba_level0_col0\" class=\"col_heading level0 col0\" >Accuracy</th>\n",
       "      <th id=\"T_c57ba_level0_col1\" class=\"col_heading level0 col1\" >AUC</th>\n",
       "      <th id=\"T_c57ba_level0_col2\" class=\"col_heading level0 col2\" >Recall</th>\n",
       "      <th id=\"T_c57ba_level0_col3\" class=\"col_heading level0 col3\" >Prec.</th>\n",
       "      <th id=\"T_c57ba_level0_col4\" class=\"col_heading level0 col4\" >F1</th>\n",
       "      <th id=\"T_c57ba_level0_col5\" class=\"col_heading level0 col5\" >Kappa</th>\n",
       "      <th id=\"T_c57ba_level0_col6\" class=\"col_heading level0 col6\" >MCC</th>\n",
       "    </tr>\n",
       "    <tr>\n",
       "      <th class=\"index_name level0\" >Fold</th>\n",
       "      <th class=\"blank col0\" >&nbsp;</th>\n",
       "      <th class=\"blank col1\" >&nbsp;</th>\n",
       "      <th class=\"blank col2\" >&nbsp;</th>\n",
       "      <th class=\"blank col3\" >&nbsp;</th>\n",
       "      <th class=\"blank col4\" >&nbsp;</th>\n",
       "      <th class=\"blank col5\" >&nbsp;</th>\n",
       "      <th class=\"blank col6\" >&nbsp;</th>\n",
       "    </tr>\n",
       "  </thead>\n",
       "  <tbody>\n",
       "    <tr>\n",
       "      <th id=\"T_c57ba_level0_row0\" class=\"row_heading level0 row0\" >0</th>\n",
       "      <td id=\"T_c57ba_row0_col0\" class=\"data row0 col0\" >0.9128</td>\n",
       "      <td id=\"T_c57ba_row0_col1\" class=\"data row0 col1\" >0.9380</td>\n",
       "      <td id=\"T_c57ba_row0_col2\" class=\"data row0 col2\" >0.5324</td>\n",
       "      <td id=\"T_c57ba_row0_col3\" class=\"data row0 col3\" >0.6567</td>\n",
       "      <td id=\"T_c57ba_row0_col4\" class=\"data row0 col4\" >0.5881</td>\n",
       "      <td id=\"T_c57ba_row0_col5\" class=\"data row0 col5\" >0.5399</td>\n",
       "      <td id=\"T_c57ba_row0_col6\" class=\"data row0 col6\" >0.5436</td>\n",
       "    </tr>\n",
       "    <tr>\n",
       "      <th id=\"T_c57ba_level0_row1\" class=\"row_heading level0 row1\" >1</th>\n",
       "      <td id=\"T_c57ba_row1_col0\" class=\"data row1 col0\" >0.9008</td>\n",
       "      <td id=\"T_c57ba_row1_col1\" class=\"data row1 col1\" >0.9286</td>\n",
       "      <td id=\"T_c57ba_row1_col2\" class=\"data row1 col2\" >0.5108</td>\n",
       "      <td id=\"T_c57ba_row1_col3\" class=\"data row1 col3\" >0.5870</td>\n",
       "      <td id=\"T_c57ba_row1_col4\" class=\"data row1 col4\" >0.5462</td>\n",
       "      <td id=\"T_c57ba_row1_col5\" class=\"data row1 col5\" >0.4908</td>\n",
       "      <td id=\"T_c57ba_row1_col6\" class=\"data row1 col6\" >0.4923</td>\n",
       "    </tr>\n",
       "    <tr>\n",
       "      <th id=\"T_c57ba_level0_row2\" class=\"row_heading level0 row2\" >2</th>\n",
       "      <td id=\"T_c57ba_row2_col0\" class=\"data row2 col0\" >0.9109</td>\n",
       "      <td id=\"T_c57ba_row2_col1\" class=\"data row2 col1\" >0.9338</td>\n",
       "      <td id=\"T_c57ba_row2_col2\" class=\"data row2 col2\" >0.5337</td>\n",
       "      <td id=\"T_c57ba_row2_col3\" class=\"data row2 col3\" >0.6450</td>\n",
       "      <td id=\"T_c57ba_row2_col4\" class=\"data row2 col4\" >0.5841</td>\n",
       "      <td id=\"T_c57ba_row2_col5\" class=\"data row2 col5\" >0.5347</td>\n",
       "      <td id=\"T_c57ba_row2_col6\" class=\"data row2 col6\" >0.5377</td>\n",
       "    </tr>\n",
       "    <tr>\n",
       "      <th id=\"T_c57ba_level0_row3\" class=\"row_heading level0 row3\" >3</th>\n",
       "      <td id=\"T_c57ba_row3_col0\" class=\"data row3 col0\" >0.9049</td>\n",
       "      <td id=\"T_c57ba_row3_col1\" class=\"data row3 col1\" >0.9346</td>\n",
       "      <td id=\"T_c57ba_row3_col2\" class=\"data row3 col2\" >0.4852</td>\n",
       "      <td id=\"T_c57ba_row3_col3\" class=\"data row3 col3\" >0.6207</td>\n",
       "      <td id=\"T_c57ba_row3_col4\" class=\"data row3 col4\" >0.5446</td>\n",
       "      <td id=\"T_c57ba_row3_col5\" class=\"data row3 col5\" >0.4924</td>\n",
       "      <td id=\"T_c57ba_row3_col6\" class=\"data row3 col6\" >0.4971</td>\n",
       "    </tr>\n",
       "    <tr>\n",
       "      <th id=\"T_c57ba_level0_row4\" class=\"row_heading level0 row4\" >4</th>\n",
       "      <td id=\"T_c57ba_row4_col0\" class=\"data row4 col0\" >0.9131</td>\n",
       "      <td id=\"T_c57ba_row4_col1\" class=\"data row4 col1\" >0.9428</td>\n",
       "      <td id=\"T_c57ba_row4_col2\" class=\"data row4 col2\" >0.5121</td>\n",
       "      <td id=\"T_c57ba_row4_col3\" class=\"data row4 col3\" >0.6690</td>\n",
       "      <td id=\"T_c57ba_row4_col4\" class=\"data row4 col4\" >0.5802</td>\n",
       "      <td id=\"T_c57ba_row4_col5\" class=\"data row4 col5\" >0.5326</td>\n",
       "      <td id=\"T_c57ba_row4_col6\" class=\"data row4 col6\" >0.5386</td>\n",
       "    </tr>\n",
       "    <tr>\n",
       "      <th id=\"T_c57ba_level0_row5\" class=\"row_heading level0 row5\" >5</th>\n",
       "      <td id=\"T_c57ba_row5_col0\" class=\"data row5 col0\" >0.9090</td>\n",
       "      <td id=\"T_c57ba_row5_col1\" class=\"data row5 col1\" >0.9344</td>\n",
       "      <td id=\"T_c57ba_row5_col2\" class=\"data row5 col2\" >0.4447</td>\n",
       "      <td id=\"T_c57ba_row5_col3\" class=\"data row5 col3\" >0.6680</td>\n",
       "      <td id=\"T_c57ba_row5_col4\" class=\"data row5 col4\" >0.5340</td>\n",
       "      <td id=\"T_c57ba_row5_col5\" class=\"data row5 col5\" >0.4858</td>\n",
       "      <td id=\"T_c57ba_row5_col6\" class=\"data row5 col6\" >0.4982</td>\n",
       "    </tr>\n",
       "    <tr>\n",
       "      <th id=\"T_c57ba_level0_row6\" class=\"row_heading level0 row6\" >6</th>\n",
       "      <td id=\"T_c57ba_row6_col0\" class=\"data row6 col0\" >0.9090</td>\n",
       "      <td id=\"T_c57ba_row6_col1\" class=\"data row6 col1\" >0.9369</td>\n",
       "      <td id=\"T_c57ba_row6_col2\" class=\"data row6 col2\" >0.4906</td>\n",
       "      <td id=\"T_c57ba_row6_col3\" class=\"data row6 col3\" >0.6477</td>\n",
       "      <td id=\"T_c57ba_row6_col4\" class=\"data row6 col4\" >0.5583</td>\n",
       "      <td id=\"T_c57ba_row6_col5\" class=\"data row6 col5\" >0.5086</td>\n",
       "      <td id=\"T_c57ba_row6_col6\" class=\"data row6 col6\" >0.5147</td>\n",
       "    </tr>\n",
       "    <tr>\n",
       "      <th id=\"T_c57ba_level0_row7\" class=\"row_heading level0 row7\" >7</th>\n",
       "      <td id=\"T_c57ba_row7_col0\" class=\"data row7 col0\" >0.9080</td>\n",
       "      <td id=\"T_c57ba_row7_col1\" class=\"data row7 col1\" >0.9326</td>\n",
       "      <td id=\"T_c57ba_row7_col2\" class=\"data row7 col2\" >0.5135</td>\n",
       "      <td id=\"T_c57ba_row7_col3\" class=\"data row7 col3\" >0.6312</td>\n",
       "      <td id=\"T_c57ba_row7_col4\" class=\"data row7 col4\" >0.5663</td>\n",
       "      <td id=\"T_c57ba_row7_col5\" class=\"data row7 col5\" >0.5155</td>\n",
       "      <td id=\"T_c57ba_row7_col6\" class=\"data row7 col6\" >0.5189</td>\n",
       "    </tr>\n",
       "    <tr>\n",
       "      <th id=\"T_c57ba_level0_row8\" class=\"row_heading level0 row8\" >8</th>\n",
       "      <td id=\"T_c57ba_row8_col0\" class=\"data row8 col0\" >0.9039</td>\n",
       "      <td id=\"T_c57ba_row8_col1\" class=\"data row8 col1\" >0.9317</td>\n",
       "      <td id=\"T_c57ba_row8_col2\" class=\"data row8 col2\" >0.5216</td>\n",
       "      <td id=\"T_c57ba_row8_col3\" class=\"data row8 col3\" >0.6031</td>\n",
       "      <td id=\"T_c57ba_row8_col4\" class=\"data row8 col4\" >0.5594</td>\n",
       "      <td id=\"T_c57ba_row8_col5\" class=\"data row8 col5\" >0.5058</td>\n",
       "      <td id=\"T_c57ba_row8_col6\" class=\"data row8 col6\" >0.5075</td>\n",
       "    </tr>\n",
       "    <tr>\n",
       "      <th id=\"T_c57ba_level0_row9\" class=\"row_heading level0 row9\" >9</th>\n",
       "      <td id=\"T_c57ba_row9_col0\" class=\"data row9 col0\" >0.9102</td>\n",
       "      <td id=\"T_c57ba_row9_col1\" class=\"data row9 col1\" >0.9398</td>\n",
       "      <td id=\"T_c57ba_row9_col2\" class=\"data row9 col2\" >0.4838</td>\n",
       "      <td id=\"T_c57ba_row9_col3\" class=\"data row9 col3\" >0.6581</td>\n",
       "      <td id=\"T_c57ba_row9_col4\" class=\"data row9 col4\" >0.5576</td>\n",
       "      <td id=\"T_c57ba_row9_col5\" class=\"data row9 col5\" >0.5090</td>\n",
       "      <td id=\"T_c57ba_row9_col6\" class=\"data row9 col6\" >0.5164</td>\n",
       "    </tr>\n",
       "    <tr>\n",
       "      <th id=\"T_c57ba_level0_row10\" class=\"row_heading level0 row10\" >Mean</th>\n",
       "      <td id=\"T_c57ba_row10_col0\" class=\"data row10 col0\" >0.9083</td>\n",
       "      <td id=\"T_c57ba_row10_col1\" class=\"data row10 col1\" >0.9353</td>\n",
       "      <td id=\"T_c57ba_row10_col2\" class=\"data row10 col2\" >0.5028</td>\n",
       "      <td id=\"T_c57ba_row10_col3\" class=\"data row10 col3\" >0.6386</td>\n",
       "      <td id=\"T_c57ba_row10_col4\" class=\"data row10 col4\" >0.5619</td>\n",
       "      <td id=\"T_c57ba_row10_col5\" class=\"data row10 col5\" >0.5115</td>\n",
       "      <td id=\"T_c57ba_row10_col6\" class=\"data row10 col6\" >0.5165</td>\n",
       "    </tr>\n",
       "    <tr>\n",
       "      <th id=\"T_c57ba_level0_row11\" class=\"row_heading level0 row11\" >Std</th>\n",
       "      <td id=\"T_c57ba_row11_col0\" class=\"data row11 col0\" >0.0038</td>\n",
       "      <td id=\"T_c57ba_row11_col1\" class=\"data row11 col1\" >0.0039</td>\n",
       "      <td id=\"T_c57ba_row11_col2\" class=\"data row11 col2\" >0.0258</td>\n",
       "      <td id=\"T_c57ba_row11_col3\" class=\"data row11 col3\" >0.0263</td>\n",
       "      <td id=\"T_c57ba_row11_col4\" class=\"data row11 col4\" >0.0170</td>\n",
       "      <td id=\"T_c57ba_row11_col5\" class=\"data row11 col5\" >0.0182</td>\n",
       "      <td id=\"T_c57ba_row11_col6\" class=\"data row11 col6\" >0.0175</td>\n",
       "    </tr>\n",
       "  </tbody>\n",
       "</table>\n"
      ],
      "text/plain": [
       "<pandas.io.formats.style.Styler at 0x2191ace0250>"
      ]
     },
     "metadata": {},
     "output_type": "display_data"
    }
   ],
   "source": [
    "# ensemble model\n",
    "bagged_lgb = ensemble_model(model_lgb, method = 'Bagging', choose_better = True)"
   ]
  },
  {
   "cell_type": "code",
   "execution_count": null,
   "metadata": {},
   "outputs": [
    {
     "name": "stdout",
     "output_type": "stream",
     "text": [
      "BaggingClassifier(base_estimator=LGBMClassifier(boosting_type='gbdt',\n",
      "                                                class_weight=None,\n",
      "                                                colsample_bytree=1.0,\n",
      "                                                importance_type='split',\n",
      "                                                learning_rate=0.1, max_depth=-1,\n",
      "                                                min_child_samples=20,\n",
      "                                                min_child_weight=0.001,\n",
      "                                                min_split_gain=0.0,\n",
      "                                                n_estimators=100, n_jobs=-1,\n",
      "                                                num_leaves=31, objective=None,\n",
      "                                                random_state=6082,\n",
      "                                                reg_alpha=0.0, reg_lambda=0.0,\n",
      "                                                silent='warn', subsample=1.0,\n",
      "                                                subsample_for_bin=200000,\n",
      "                                                subsample_freq=0),\n",
      "                  bootstrap=True, bootstrap_features=False, max_features=1.0,\n",
      "                  max_samples=1.0, n_estimators=10, n_jobs=None,\n",
      "                  oob_score=False, random_state=6082, verbose=0,\n",
      "                  warm_start=False)\n"
     ]
    }
   ],
   "source": [
    "print(bagged_lgb)"
   ]
  },
  {
   "attachments": {},
   "cell_type": "markdown",
   "metadata": {},
   "source": [
    "This function trains a Soft Voting / Majority Rule classifier for select models passed in the estimator_list parameter. The output of this function is a scoring grid with CV scores by fold. Metrics evaluated during CV can be accessed using the get_metrics function. Custom metrics can be added or removed using add_metric and remove_metric function."
   ]
  },
  {
   "cell_type": "code",
   "execution_count": null,
   "metadata": {},
   "outputs": [
    {
     "data": {
      "text/html": [
       "<style type=\"text/css\">\n",
       "#T_18844_row10_col0, #T_18844_row10_col1, #T_18844_row10_col2, #T_18844_row10_col3, #T_18844_row10_col4, #T_18844_row10_col5, #T_18844_row10_col6 {\n",
       "  background: yellow;\n",
       "}\n",
       "</style>\n",
       "<table id=\"T_18844\">\n",
       "  <thead>\n",
       "    <tr>\n",
       "      <th class=\"blank level0\" >&nbsp;</th>\n",
       "      <th id=\"T_18844_level0_col0\" class=\"col_heading level0 col0\" >Accuracy</th>\n",
       "      <th id=\"T_18844_level0_col1\" class=\"col_heading level0 col1\" >AUC</th>\n",
       "      <th id=\"T_18844_level0_col2\" class=\"col_heading level0 col2\" >Recall</th>\n",
       "      <th id=\"T_18844_level0_col3\" class=\"col_heading level0 col3\" >Prec.</th>\n",
       "      <th id=\"T_18844_level0_col4\" class=\"col_heading level0 col4\" >F1</th>\n",
       "      <th id=\"T_18844_level0_col5\" class=\"col_heading level0 col5\" >Kappa</th>\n",
       "      <th id=\"T_18844_level0_col6\" class=\"col_heading level0 col6\" >MCC</th>\n",
       "    </tr>\n",
       "    <tr>\n",
       "      <th class=\"index_name level0\" >Fold</th>\n",
       "      <th class=\"blank col0\" >&nbsp;</th>\n",
       "      <th class=\"blank col1\" >&nbsp;</th>\n",
       "      <th class=\"blank col2\" >&nbsp;</th>\n",
       "      <th class=\"blank col3\" >&nbsp;</th>\n",
       "      <th class=\"blank col4\" >&nbsp;</th>\n",
       "      <th class=\"blank col5\" >&nbsp;</th>\n",
       "      <th class=\"blank col6\" >&nbsp;</th>\n",
       "    </tr>\n",
       "  </thead>\n",
       "  <tbody>\n",
       "    <tr>\n",
       "      <th id=\"T_18844_level0_row0\" class=\"row_heading level0 row0\" >0</th>\n",
       "      <td id=\"T_18844_row0_col0\" class=\"data row0 col0\" >0.9131</td>\n",
       "      <td id=\"T_18844_row0_col1\" class=\"data row0 col1\" >0.9381</td>\n",
       "      <td id=\"T_18844_row0_col2\" class=\"data row0 col2\" >0.5432</td>\n",
       "      <td id=\"T_18844_row0_col3\" class=\"data row0 col3\" >0.6547</td>\n",
       "      <td id=\"T_18844_row0_col4\" class=\"data row0 col4\" >0.5938</td>\n",
       "      <td id=\"T_18844_row0_col5\" class=\"data row0 col5\" >0.5456</td>\n",
       "      <td id=\"T_18844_row0_col6\" class=\"data row0 col6\" >0.5486</td>\n",
       "    </tr>\n",
       "    <tr>\n",
       "      <th id=\"T_18844_level0_row1\" class=\"row_heading level0 row1\" >1</th>\n",
       "      <td id=\"T_18844_row1_col0\" class=\"data row1 col0\" >0.8986</td>\n",
       "      <td id=\"T_18844_row1_col1\" class=\"data row1 col1\" >0.9264</td>\n",
       "      <td id=\"T_18844_row1_col2\" class=\"data row1 col2\" >0.4946</td>\n",
       "      <td id=\"T_18844_row1_col3\" class=\"data row1 col3\" >0.5773</td>\n",
       "      <td id=\"T_18844_row1_col4\" class=\"data row1 col4\" >0.5328</td>\n",
       "      <td id=\"T_18844_row1_col5\" class=\"data row1 col5\" >0.4762</td>\n",
       "      <td id=\"T_18844_row1_col6\" class=\"data row1 col6\" >0.4780</td>\n",
       "    </tr>\n",
       "    <tr>\n",
       "      <th id=\"T_18844_level0_row2\" class=\"row_heading level0 row2\" >2</th>\n",
       "      <td id=\"T_18844_row2_col0\" class=\"data row2 col0\" >0.9090</td>\n",
       "      <td id=\"T_18844_row2_col1\" class=\"data row2 col1\" >0.9362</td>\n",
       "      <td id=\"T_18844_row2_col2\" class=\"data row2 col2\" >0.5337</td>\n",
       "      <td id=\"T_18844_row2_col3\" class=\"data row2 col3\" >0.6326</td>\n",
       "      <td id=\"T_18844_row2_col4\" class=\"data row2 col4\" >0.5789</td>\n",
       "      <td id=\"T_18844_row2_col5\" class=\"data row2 col5\" >0.5283</td>\n",
       "      <td id=\"T_18844_row2_col6\" class=\"data row2 col6\" >0.5307</td>\n",
       "    </tr>\n",
       "    <tr>\n",
       "      <th id=\"T_18844_level0_row3\" class=\"row_heading level0 row3\" >3</th>\n",
       "      <td id=\"T_18844_row3_col0\" class=\"data row3 col0\" >0.9068</td>\n",
       "      <td id=\"T_18844_row3_col1\" class=\"data row3 col1\" >0.9343</td>\n",
       "      <td id=\"T_18844_row3_col2\" class=\"data row3 col2\" >0.4906</td>\n",
       "      <td id=\"T_18844_row3_col3\" class=\"data row3 col3\" >0.6319</td>\n",
       "      <td id=\"T_18844_row3_col4\" class=\"data row3 col4\" >0.5524</td>\n",
       "      <td id=\"T_18844_row3_col5\" class=\"data row3 col5\" >0.5013</td>\n",
       "      <td id=\"T_18844_row3_col6\" class=\"data row3 col6\" >0.5063</td>\n",
       "    </tr>\n",
       "    <tr>\n",
       "      <th id=\"T_18844_level0_row4\" class=\"row_heading level0 row4\" >4</th>\n",
       "      <td id=\"T_18844_row4_col0\" class=\"data row4 col0\" >0.9115</td>\n",
       "      <td id=\"T_18844_row4_col1\" class=\"data row4 col1\" >0.9439</td>\n",
       "      <td id=\"T_18844_row4_col2\" class=\"data row4 col2\" >0.5202</td>\n",
       "      <td id=\"T_18844_row4_col3\" class=\"data row4 col3\" >0.6542</td>\n",
       "      <td id=\"T_18844_row4_col4\" class=\"data row4 col4\" >0.5796</td>\n",
       "      <td id=\"T_18844_row4_col5\" class=\"data row4 col5\" >0.5309</td>\n",
       "      <td id=\"T_18844_row4_col6\" class=\"data row4 col6\" >0.5352</td>\n",
       "    </tr>\n",
       "    <tr>\n",
       "      <th id=\"T_18844_level0_row5\" class=\"row_heading level0 row5\" >5</th>\n",
       "      <td id=\"T_18844_row5_col0\" class=\"data row5 col0\" >0.9125</td>\n",
       "      <td id=\"T_18844_row5_col1\" class=\"data row5 col1\" >0.9321</td>\n",
       "      <td id=\"T_18844_row5_col2\" class=\"data row5 col2\" >0.4690</td>\n",
       "      <td id=\"T_18844_row5_col3\" class=\"data row5 col3\" >0.6850</td>\n",
       "      <td id=\"T_18844_row5_col4\" class=\"data row5 col4\" >0.5568</td>\n",
       "      <td id=\"T_18844_row5_col5\" class=\"data row5 col5\" >0.5101</td>\n",
       "      <td id=\"T_18844_row5_col6\" class=\"data row5 col6\" >0.5214</td>\n",
       "    </tr>\n",
       "    <tr>\n",
       "      <th id=\"T_18844_level0_row6\" class=\"row_heading level0 row6\" >6</th>\n",
       "      <td id=\"T_18844_row6_col0\" class=\"data row6 col0\" >0.9081</td>\n",
       "      <td id=\"T_18844_row6_col1\" class=\"data row6 col1\" >0.9355</td>\n",
       "      <td id=\"T_18844_row6_col2\" class=\"data row6 col2\" >0.4906</td>\n",
       "      <td id=\"T_18844_row6_col3\" class=\"data row6 col3\" >0.6408</td>\n",
       "      <td id=\"T_18844_row6_col4\" class=\"data row6 col4\" >0.5557</td>\n",
       "      <td id=\"T_18844_row6_col5\" class=\"data row6 col5\" >0.5055</td>\n",
       "      <td id=\"T_18844_row6_col6\" class=\"data row6 col6\" >0.5111</td>\n",
       "    </tr>\n",
       "    <tr>\n",
       "      <th id=\"T_18844_level0_row7\" class=\"row_heading level0 row7\" >7</th>\n",
       "      <td id=\"T_18844_row7_col0\" class=\"data row7 col0\" >0.9090</td>\n",
       "      <td id=\"T_18844_row7_col1\" class=\"data row7 col1\" >0.9327</td>\n",
       "      <td id=\"T_18844_row7_col2\" class=\"data row7 col2\" >0.5324</td>\n",
       "      <td id=\"T_18844_row7_col3\" class=\"data row7 col3\" >0.6314</td>\n",
       "      <td id=\"T_18844_row7_col4\" class=\"data row7 col4\" >0.5777</td>\n",
       "      <td id=\"T_18844_row7_col5\" class=\"data row7 col5\" >0.5271</td>\n",
       "      <td id=\"T_18844_row7_col6\" class=\"data row7 col6\" >0.5295</td>\n",
       "    </tr>\n",
       "    <tr>\n",
       "      <th id=\"T_18844_level0_row8\" class=\"row_heading level0 row8\" >8</th>\n",
       "      <td id=\"T_18844_row8_col0\" class=\"data row8 col0\" >0.9064</td>\n",
       "      <td id=\"T_18844_row8_col1\" class=\"data row8 col1\" >0.9317</td>\n",
       "      <td id=\"T_18844_row8_col2\" class=\"data row8 col2\" >0.5324</td>\n",
       "      <td id=\"T_18844_row8_col3\" class=\"data row8 col3\" >0.6156</td>\n",
       "      <td id=\"T_18844_row8_col4\" class=\"data row8 col4\" >0.5710</td>\n",
       "      <td id=\"T_18844_row8_col5\" class=\"data row8 col5\" >0.5188</td>\n",
       "      <td id=\"T_18844_row8_col6\" class=\"data row8 col6\" >0.5205</td>\n",
       "    </tr>\n",
       "    <tr>\n",
       "      <th id=\"T_18844_level0_row9\" class=\"row_heading level0 row9\" >9</th>\n",
       "      <td id=\"T_18844_row9_col0\" class=\"data row9 col0\" >0.9083</td>\n",
       "      <td id=\"T_18844_row9_col1\" class=\"data row9 col1\" >0.9409</td>\n",
       "      <td id=\"T_18844_row9_col2\" class=\"data row9 col2\" >0.4757</td>\n",
       "      <td id=\"T_18844_row9_col3\" class=\"data row9 col3\" >0.6471</td>\n",
       "      <td id=\"T_18844_row9_col4\" class=\"data row9 col4\" >0.5483</td>\n",
       "      <td id=\"T_18844_row9_col5\" class=\"data row9 col5\" >0.4986</td>\n",
       "      <td id=\"T_18844_row9_col6\" class=\"data row9 col6\" >0.5059</td>\n",
       "    </tr>\n",
       "    <tr>\n",
       "      <th id=\"T_18844_level0_row10\" class=\"row_heading level0 row10\" >Mean</th>\n",
       "      <td id=\"T_18844_row10_col0\" class=\"data row10 col0\" >0.9083</td>\n",
       "      <td id=\"T_18844_row10_col1\" class=\"data row10 col1\" >0.9352</td>\n",
       "      <td id=\"T_18844_row10_col2\" class=\"data row10 col2\" >0.5082</td>\n",
       "      <td id=\"T_18844_row10_col3\" class=\"data row10 col3\" >0.6371</td>\n",
       "      <td id=\"T_18844_row10_col4\" class=\"data row10 col4\" >0.5647</td>\n",
       "      <td id=\"T_18844_row10_col5\" class=\"data row10 col5\" >0.5142</td>\n",
       "      <td id=\"T_18844_row10_col6\" class=\"data row10 col6\" >0.5187</td>\n",
       "    </tr>\n",
       "    <tr>\n",
       "      <th id=\"T_18844_level0_row11\" class=\"row_heading level0 row11\" >Std</th>\n",
       "      <td id=\"T_18844_row11_col0\" class=\"data row11 col0\" >0.0039</td>\n",
       "      <td id=\"T_18844_row11_col1\" class=\"data row11 col1\" >0.0047</td>\n",
       "      <td id=\"T_18844_row11_col2\" class=\"data row11 col2\" >0.0257</td>\n",
       "      <td id=\"T_18844_row11_col3\" class=\"data row11 col3\" >0.0267</td>\n",
       "      <td id=\"T_18844_row11_col4\" class=\"data row11 col4\" >0.0175</td>\n",
       "      <td id=\"T_18844_row11_col5\" class=\"data row11 col5\" >0.0190</td>\n",
       "      <td id=\"T_18844_row11_col6\" class=\"data row11 col6\" >0.0186</td>\n",
       "    </tr>\n",
       "  </tbody>\n",
       "</table>\n"
      ],
      "text/plain": [
       "<pandas.io.formats.style.Styler at 0x21942db6190>"
      ]
     },
     "metadata": {},
     "output_type": "display_data"
    }
   ],
   "source": [
    "# blend models\n",
    "#  choose_better set to True, will always return a better performing model meaning that if blending the models doesn't improve the performance, it will return the single best performing input model.\n",
    "blender = blend_models([bagged_lgb, model_cb, model_gbc], choose_better = True)"
   ]
  },
  {
   "cell_type": "code",
   "execution_count": null,
   "metadata": {},
   "outputs": [
    {
     "name": "stdout",
     "output_type": "stream",
     "text": [
      "VotingClassifier(estimators=[('Bagging',\n",
      "                              BaggingClassifier(base_estimator=LGBMClassifier(boosting_type='gbdt',\n",
      "                                                                              class_weight=None,\n",
      "                                                                              colsample_bytree=1.0,\n",
      "                                                                              importance_type='split',\n",
      "                                                                              learning_rate=0.1,\n",
      "                                                                              max_depth=-1,\n",
      "                                                                              min_child_samples=20,\n",
      "                                                                              min_child_weight=0.001,\n",
      "                                                                              min_split_gain=0.0,\n",
      "                                                                              n_estimators=100,\n",
      "                                                                              n_jobs=-1,\n",
      "                                                                              num_leaves=31,\n",
      "                                                                              objective=None,\n",
      "                                                                              random_state=6082,\n",
      "                                                                              reg_alpha=...\n",
      "                                                         max_leaf_nodes=None,\n",
      "                                                         min_impurity_decrease=0.0,\n",
      "                                                         min_impurity_split=None,\n",
      "                                                         min_samples_leaf=1,\n",
      "                                                         min_samples_split=2,\n",
      "                                                         min_weight_fraction_leaf=0.0,\n",
      "                                                         n_estimators=100,\n",
      "                                                         n_iter_no_change=None,\n",
      "                                                         presort='deprecated',\n",
      "                                                         random_state=6082,\n",
      "                                                         subsample=1.0,\n",
      "                                                         tol=0.0001,\n",
      "                                                         validation_fraction=0.1,\n",
      "                                                         verbose=0,\n",
      "                                                         warm_start=False))],\n",
      "                 flatten_transform=True, n_jobs=-1, verbose=False,\n",
      "                 voting='soft', weights=None)\n"
     ]
    }
   ],
   "source": [
    "print(blender)"
   ]
  },
  {
   "cell_type": "code",
   "execution_count": null,
   "metadata": {},
   "outputs": [
    {
     "data": {
      "application/vnd.plotly.v1+json": {
       "config": {
        "plotlyServerURL": "https://plot.ly"
       },
       "data": [
        {
         "hovertemplate": "variable=Accuracy<br>probability_threshold=%{x}<br>value=%{y}<extra></extra>",
         "legendgroup": "Accuracy",
         "line": {
          "color": "#636efa",
          "dash": "solid"
         },
         "marker": {
          "symbol": "circle"
         },
         "mode": "lines",
         "name": "Accuracy",
         "orientation": "v",
         "showlegend": true,
         "type": "scatter",
         "x": [
          0,
          0.1,
          0.2,
          0.30000000000000004,
          0.4,
          0.5,
          0.6000000000000001,
          0.7000000000000001,
          0.8,
          0.9,
          1
         ],
         "xaxis": "x",
         "y": [
          0.9083,
          0.8323,
          0.8787,
          0.8982,
          0.906,
          0.9083,
          0.9066,
          0.9002,
          0.8925,
          0.8853,
          0.8829
         ],
         "yaxis": "y"
        },
        {
         "hovertemplate": "variable=AUC<br>probability_threshold=%{x}<br>value=%{y}<extra></extra>",
         "legendgroup": "AUC",
         "line": {
          "color": "#EF553B",
          "dash": "solid"
         },
         "marker": {
          "symbol": "circle"
         },
         "mode": "lines",
         "name": "AUC",
         "orientation": "v",
         "showlegend": true,
         "type": "scatter",
         "x": [
          0,
          0.1,
          0.2,
          0.30000000000000004,
          0.4,
          0.5,
          0.6000000000000001,
          0.7000000000000001,
          0.8,
          0.9,
          1
         ],
         "xaxis": "x",
         "y": [
          0.9353,
          0.9353,
          0.9353,
          0.9353,
          0.9353,
          0.9353,
          0.9353,
          0.9353,
          0.9353,
          0.9353,
          0.9353
         ],
         "yaxis": "y"
        },
        {
         "hovertemplate": "variable=Recall<br>probability_threshold=%{x}<br>value=%{y}<extra></extra>",
         "legendgroup": "Recall",
         "line": {
          "color": "#00cc96",
          "dash": "solid"
         },
         "marker": {
          "symbol": "circle"
         },
         "mode": "lines",
         "name": "Recall",
         "orientation": "v",
         "showlegend": true,
         "type": "scatter",
         "x": [
          0,
          0.1,
          0.2,
          0.30000000000000004,
          0.4,
          0.5,
          0.6000000000000001,
          0.7000000000000001,
          0.8,
          0.9,
          1
         ],
         "xaxis": "x",
         "y": [
          0.5028,
          0.9225,
          0.8297,
          0.7352,
          0.6275,
          0.5028,
          0.369,
          0.2305,
          0.1131,
          0.0251,
          0
         ],
         "yaxis": "y"
        },
        {
         "hovertemplate": "variable=Prec.<br>probability_threshold=%{x}<br>value=%{y}<extra></extra>",
         "legendgroup": "Prec.",
         "line": {
          "color": "#ab63fa",
          "dash": "solid"
         },
         "marker": {
          "symbol": "circle"
         },
         "mode": "lines",
         "name": "Prec.",
         "orientation": "v",
         "showlegend": true,
         "type": "scatter",
         "x": [
          0,
          0.1,
          0.2,
          0.30000000000000004,
          0.4,
          0.5,
          0.6000000000000001,
          0.7000000000000001,
          0.8,
          0.9,
          1
         ],
         "xaxis": "x",
         "y": [
          0.6386,
          0.4054,
          0.49,
          0.5497,
          0.5941,
          0.6386,
          0.6897,
          0.7368,
          0.7828,
          0.8159,
          0
         ],
         "yaxis": "y"
        },
        {
         "hovertemplate": "variable=F1<br>probability_threshold=%{x}<br>value=%{y}<extra></extra>",
         "legendgroup": "F1",
         "line": {
          "color": "#FFA15A",
          "dash": "solid"
         },
         "marker": {
          "symbol": "circle"
         },
         "mode": "lines",
         "name": "F1",
         "orientation": "v",
         "showlegend": true,
         "type": "scatter",
         "x": [
          0,
          0.1,
          0.2,
          0.30000000000000004,
          0.4,
          0.5,
          0.6000000000000001,
          0.7000000000000001,
          0.8,
          0.9,
          1
         ],
         "xaxis": "x",
         "y": [
          0.5619,
          0.5632,
          0.6159,
          0.6287,
          0.6098,
          0.5619,
          0.4801,
          0.3506,
          0.1974,
          0.0485,
          0
         ],
         "yaxis": "y"
        },
        {
         "hovertemplate": "variable=Kappa<br>probability_threshold=%{x}<br>value=%{y}<extra></extra>",
         "legendgroup": "Kappa",
         "line": {
          "color": "#19d3f3",
          "dash": "solid"
         },
         "marker": {
          "symbol": "circle"
         },
         "mode": "lines",
         "name": "Kappa",
         "orientation": "v",
         "showlegend": true,
         "type": "scatter",
         "x": [
          0,
          0.1,
          0.2,
          0.30000000000000004,
          0.4,
          0.5,
          0.6000000000000001,
          0.7000000000000001,
          0.8,
          0.9,
          1
         ],
         "xaxis": "x",
         "y": [
          0.5115,
          0.4783,
          0.5496,
          0.5712,
          0.5564,
          0.5115,
          0.434,
          0.3123,
          0.173,
          0.0421,
          0
         ],
         "yaxis": "y"
        },
        {
         "hovertemplate": "variable=MCC<br>probability_threshold=%{x}<br>value=%{y}<extra></extra>",
         "legendgroup": "MCC",
         "line": {
          "color": "#FF6692",
          "dash": "solid"
         },
         "marker": {
          "symbol": "circle"
         },
         "mode": "lines",
         "name": "MCC",
         "orientation": "v",
         "showlegend": true,
         "type": "scatter",
         "x": [
          0,
          0.1,
          0.2,
          0.30000000000000004,
          0.4,
          0.5,
          0.6000000000000001,
          0.7000000000000001,
          0.8,
          0.9,
          1
         ],
         "xaxis": "x",
         "y": [
          0.5165,
          0.5403,
          0.5766,
          0.5795,
          0.557,
          0.5165,
          0.46,
          0.3754,
          0.2712,
          0.1286,
          0
         ],
         "yaxis": "y"
        }
       ],
       "layout": {
        "legend": {
         "title": {
          "text": "variable"
         },
         "tracegroupgap": 0
        },
        "template": {
         "data": {
          "bar": [
           {
            "error_x": {
             "color": "#2a3f5f"
            },
            "error_y": {
             "color": "#2a3f5f"
            },
            "marker": {
             "line": {
              "color": "#E5ECF6",
              "width": 0.5
             },
             "pattern": {
              "fillmode": "overlay",
              "size": 10,
              "solidity": 0.2
             }
            },
            "type": "bar"
           }
          ],
          "barpolar": [
           {
            "marker": {
             "line": {
              "color": "#E5ECF6",
              "width": 0.5
             },
             "pattern": {
              "fillmode": "overlay",
              "size": 10,
              "solidity": 0.2
             }
            },
            "type": "barpolar"
           }
          ],
          "carpet": [
           {
            "aaxis": {
             "endlinecolor": "#2a3f5f",
             "gridcolor": "white",
             "linecolor": "white",
             "minorgridcolor": "white",
             "startlinecolor": "#2a3f5f"
            },
            "baxis": {
             "endlinecolor": "#2a3f5f",
             "gridcolor": "white",
             "linecolor": "white",
             "minorgridcolor": "white",
             "startlinecolor": "#2a3f5f"
            },
            "type": "carpet"
           }
          ],
          "choropleth": [
           {
            "colorbar": {
             "outlinewidth": 0,
             "ticks": ""
            },
            "type": "choropleth"
           }
          ],
          "contour": [
           {
            "colorbar": {
             "outlinewidth": 0,
             "ticks": ""
            },
            "colorscale": [
             [
              0,
              "#0d0887"
             ],
             [
              0.1111111111111111,
              "#46039f"
             ],
             [
              0.2222222222222222,
              "#7201a8"
             ],
             [
              0.3333333333333333,
              "#9c179e"
             ],
             [
              0.4444444444444444,
              "#bd3786"
             ],
             [
              0.5555555555555556,
              "#d8576b"
             ],
             [
              0.6666666666666666,
              "#ed7953"
             ],
             [
              0.7777777777777778,
              "#fb9f3a"
             ],
             [
              0.8888888888888888,
              "#fdca26"
             ],
             [
              1,
              "#f0f921"
             ]
            ],
            "type": "contour"
           }
          ],
          "contourcarpet": [
           {
            "colorbar": {
             "outlinewidth": 0,
             "ticks": ""
            },
            "type": "contourcarpet"
           }
          ],
          "heatmap": [
           {
            "colorbar": {
             "outlinewidth": 0,
             "ticks": ""
            },
            "colorscale": [
             [
              0,
              "#0d0887"
             ],
             [
              0.1111111111111111,
              "#46039f"
             ],
             [
              0.2222222222222222,
              "#7201a8"
             ],
             [
              0.3333333333333333,
              "#9c179e"
             ],
             [
              0.4444444444444444,
              "#bd3786"
             ],
             [
              0.5555555555555556,
              "#d8576b"
             ],
             [
              0.6666666666666666,
              "#ed7953"
             ],
             [
              0.7777777777777778,
              "#fb9f3a"
             ],
             [
              0.8888888888888888,
              "#fdca26"
             ],
             [
              1,
              "#f0f921"
             ]
            ],
            "type": "heatmap"
           }
          ],
          "heatmapgl": [
           {
            "colorbar": {
             "outlinewidth": 0,
             "ticks": ""
            },
            "colorscale": [
             [
              0,
              "#0d0887"
             ],
             [
              0.1111111111111111,
              "#46039f"
             ],
             [
              0.2222222222222222,
              "#7201a8"
             ],
             [
              0.3333333333333333,
              "#9c179e"
             ],
             [
              0.4444444444444444,
              "#bd3786"
             ],
             [
              0.5555555555555556,
              "#d8576b"
             ],
             [
              0.6666666666666666,
              "#ed7953"
             ],
             [
              0.7777777777777778,
              "#fb9f3a"
             ],
             [
              0.8888888888888888,
              "#fdca26"
             ],
             [
              1,
              "#f0f921"
             ]
            ],
            "type": "heatmapgl"
           }
          ],
          "histogram": [
           {
            "marker": {
             "pattern": {
              "fillmode": "overlay",
              "size": 10,
              "solidity": 0.2
             }
            },
            "type": "histogram"
           }
          ],
          "histogram2d": [
           {
            "colorbar": {
             "outlinewidth": 0,
             "ticks": ""
            },
            "colorscale": [
             [
              0,
              "#0d0887"
             ],
             [
              0.1111111111111111,
              "#46039f"
             ],
             [
              0.2222222222222222,
              "#7201a8"
             ],
             [
              0.3333333333333333,
              "#9c179e"
             ],
             [
              0.4444444444444444,
              "#bd3786"
             ],
             [
              0.5555555555555556,
              "#d8576b"
             ],
             [
              0.6666666666666666,
              "#ed7953"
             ],
             [
              0.7777777777777778,
              "#fb9f3a"
             ],
             [
              0.8888888888888888,
              "#fdca26"
             ],
             [
              1,
              "#f0f921"
             ]
            ],
            "type": "histogram2d"
           }
          ],
          "histogram2dcontour": [
           {
            "colorbar": {
             "outlinewidth": 0,
             "ticks": ""
            },
            "colorscale": [
             [
              0,
              "#0d0887"
             ],
             [
              0.1111111111111111,
              "#46039f"
             ],
             [
              0.2222222222222222,
              "#7201a8"
             ],
             [
              0.3333333333333333,
              "#9c179e"
             ],
             [
              0.4444444444444444,
              "#bd3786"
             ],
             [
              0.5555555555555556,
              "#d8576b"
             ],
             [
              0.6666666666666666,
              "#ed7953"
             ],
             [
              0.7777777777777778,
              "#fb9f3a"
             ],
             [
              0.8888888888888888,
              "#fdca26"
             ],
             [
              1,
              "#f0f921"
             ]
            ],
            "type": "histogram2dcontour"
           }
          ],
          "mesh3d": [
           {
            "colorbar": {
             "outlinewidth": 0,
             "ticks": ""
            },
            "type": "mesh3d"
           }
          ],
          "parcoords": [
           {
            "line": {
             "colorbar": {
              "outlinewidth": 0,
              "ticks": ""
             }
            },
            "type": "parcoords"
           }
          ],
          "pie": [
           {
            "automargin": true,
            "type": "pie"
           }
          ],
          "scatter": [
           {
            "fillpattern": {
             "fillmode": "overlay",
             "size": 10,
             "solidity": 0.2
            },
            "type": "scatter"
           }
          ],
          "scatter3d": [
           {
            "line": {
             "colorbar": {
              "outlinewidth": 0,
              "ticks": ""
             }
            },
            "marker": {
             "colorbar": {
              "outlinewidth": 0,
              "ticks": ""
             }
            },
            "type": "scatter3d"
           }
          ],
          "scattercarpet": [
           {
            "marker": {
             "colorbar": {
              "outlinewidth": 0,
              "ticks": ""
             }
            },
            "type": "scattercarpet"
           }
          ],
          "scattergeo": [
           {
            "marker": {
             "colorbar": {
              "outlinewidth": 0,
              "ticks": ""
             }
            },
            "type": "scattergeo"
           }
          ],
          "scattergl": [
           {
            "marker": {
             "colorbar": {
              "outlinewidth": 0,
              "ticks": ""
             }
            },
            "type": "scattergl"
           }
          ],
          "scattermapbox": [
           {
            "marker": {
             "colorbar": {
              "outlinewidth": 0,
              "ticks": ""
             }
            },
            "type": "scattermapbox"
           }
          ],
          "scatterpolar": [
           {
            "marker": {
             "colorbar": {
              "outlinewidth": 0,
              "ticks": ""
             }
            },
            "type": "scatterpolar"
           }
          ],
          "scatterpolargl": [
           {
            "marker": {
             "colorbar": {
              "outlinewidth": 0,
              "ticks": ""
             }
            },
            "type": "scatterpolargl"
           }
          ],
          "scatterternary": [
           {
            "marker": {
             "colorbar": {
              "outlinewidth": 0,
              "ticks": ""
             }
            },
            "type": "scatterternary"
           }
          ],
          "surface": [
           {
            "colorbar": {
             "outlinewidth": 0,
             "ticks": ""
            },
            "colorscale": [
             [
              0,
              "#0d0887"
             ],
             [
              0.1111111111111111,
              "#46039f"
             ],
             [
              0.2222222222222222,
              "#7201a8"
             ],
             [
              0.3333333333333333,
              "#9c179e"
             ],
             [
              0.4444444444444444,
              "#bd3786"
             ],
             [
              0.5555555555555556,
              "#d8576b"
             ],
             [
              0.6666666666666666,
              "#ed7953"
             ],
             [
              0.7777777777777778,
              "#fb9f3a"
             ],
             [
              0.8888888888888888,
              "#fdca26"
             ],
             [
              1,
              "#f0f921"
             ]
            ],
            "type": "surface"
           }
          ],
          "table": [
           {
            "cells": {
             "fill": {
              "color": "#EBF0F8"
             },
             "line": {
              "color": "white"
             }
            },
            "header": {
             "fill": {
              "color": "#C8D4E3"
             },
             "line": {
              "color": "white"
             }
            },
            "type": "table"
           }
          ]
         },
         "layout": {
          "annotationdefaults": {
           "arrowcolor": "#2a3f5f",
           "arrowhead": 0,
           "arrowwidth": 1
          },
          "autotypenumbers": "strict",
          "coloraxis": {
           "colorbar": {
            "outlinewidth": 0,
            "ticks": ""
           }
          },
          "colorscale": {
           "diverging": [
            [
             0,
             "#8e0152"
            ],
            [
             0.1,
             "#c51b7d"
            ],
            [
             0.2,
             "#de77ae"
            ],
            [
             0.3,
             "#f1b6da"
            ],
            [
             0.4,
             "#fde0ef"
            ],
            [
             0.5,
             "#f7f7f7"
            ],
            [
             0.6,
             "#e6f5d0"
            ],
            [
             0.7,
             "#b8e186"
            ],
            [
             0.8,
             "#7fbc41"
            ],
            [
             0.9,
             "#4d9221"
            ],
            [
             1,
             "#276419"
            ]
           ],
           "sequential": [
            [
             0,
             "#0d0887"
            ],
            [
             0.1111111111111111,
             "#46039f"
            ],
            [
             0.2222222222222222,
             "#7201a8"
            ],
            [
             0.3333333333333333,
             "#9c179e"
            ],
            [
             0.4444444444444444,
             "#bd3786"
            ],
            [
             0.5555555555555556,
             "#d8576b"
            ],
            [
             0.6666666666666666,
             "#ed7953"
            ],
            [
             0.7777777777777778,
             "#fb9f3a"
            ],
            [
             0.8888888888888888,
             "#fdca26"
            ],
            [
             1,
             "#f0f921"
            ]
           ],
           "sequentialminus": [
            [
             0,
             "#0d0887"
            ],
            [
             0.1111111111111111,
             "#46039f"
            ],
            [
             0.2222222222222222,
             "#7201a8"
            ],
            [
             0.3333333333333333,
             "#9c179e"
            ],
            [
             0.4444444444444444,
             "#bd3786"
            ],
            [
             0.5555555555555556,
             "#d8576b"
            ],
            [
             0.6666666666666666,
             "#ed7953"
            ],
            [
             0.7777777777777778,
             "#fb9f3a"
            ],
            [
             0.8888888888888888,
             "#fdca26"
            ],
            [
             1,
             "#f0f921"
            ]
           ]
          },
          "colorway": [
           "#636efa",
           "#EF553B",
           "#00cc96",
           "#ab63fa",
           "#FFA15A",
           "#19d3f3",
           "#FF6692",
           "#B6E880",
           "#FF97FF",
           "#FECB52"
          ],
          "font": {
           "color": "#2a3f5f"
          },
          "geo": {
           "bgcolor": "white",
           "lakecolor": "white",
           "landcolor": "#E5ECF6",
           "showlakes": true,
           "showland": true,
           "subunitcolor": "white"
          },
          "hoverlabel": {
           "align": "left"
          },
          "hovermode": "closest",
          "mapbox": {
           "style": "light"
          },
          "paper_bgcolor": "white",
          "plot_bgcolor": "#E5ECF6",
          "polar": {
           "angularaxis": {
            "gridcolor": "white",
            "linecolor": "white",
            "ticks": ""
           },
           "bgcolor": "#E5ECF6",
           "radialaxis": {
            "gridcolor": "white",
            "linecolor": "white",
            "ticks": ""
           }
          },
          "scene": {
           "xaxis": {
            "backgroundcolor": "#E5ECF6",
            "gridcolor": "white",
            "gridwidth": 2,
            "linecolor": "white",
            "showbackground": true,
            "ticks": "",
            "zerolinecolor": "white"
           },
           "yaxis": {
            "backgroundcolor": "#E5ECF6",
            "gridcolor": "white",
            "gridwidth": 2,
            "linecolor": "white",
            "showbackground": true,
            "ticks": "",
            "zerolinecolor": "white"
           },
           "zaxis": {
            "backgroundcolor": "#E5ECF6",
            "gridcolor": "white",
            "gridwidth": 2,
            "linecolor": "white",
            "showbackground": true,
            "ticks": "",
            "zerolinecolor": "white"
           }
          },
          "shapedefaults": {
           "line": {
            "color": "#2a3f5f"
           }
          },
          "ternary": {
           "aaxis": {
            "gridcolor": "white",
            "linecolor": "white",
            "ticks": ""
           },
           "baxis": {
            "gridcolor": "white",
            "linecolor": "white",
            "ticks": ""
           },
           "bgcolor": "#E5ECF6",
           "caxis": {
            "gridcolor": "white",
            "linecolor": "white",
            "ticks": ""
           }
          },
          "title": {
           "x": 0.05
          },
          "xaxis": {
           "automargin": true,
           "gridcolor": "white",
           "linecolor": "white",
           "ticks": "",
           "title": {
            "standoff": 15
           },
           "zerolinecolor": "white",
           "zerolinewidth": 2
          },
          "yaxis": {
           "automargin": true,
           "gridcolor": "white",
           "linecolor": "white",
           "ticks": "",
           "title": {
            "standoff": 15
           },
           "zerolinecolor": "white",
           "zerolinewidth": 2
          }
         }
        },
        "title": {
         "text": "Light Gradient Boosting Machine Probability Threshold Optimization (default = 0.5)"
        },
        "xaxis": {
         "anchor": "y",
         "domain": [
          0,
          1
         ],
         "title": {
          "text": "probability_threshold"
         }
        },
        "yaxis": {
         "anchor": "x",
         "domain": [
          0,
          1
         ],
         "title": {
          "text": "value"
         }
        }
       }
      }
     },
     "metadata": {},
     "output_type": "display_data"
    }
   ],
   "source": [
    "# optimize threshold\n",
    "optimized_lgb = optimize_threshold(bagged_lgb)"
   ]
  },
  {
   "cell_type": "code",
   "execution_count": null,
   "metadata": {},
   "outputs": [
    {
     "ename": "NameError",
     "evalue": "name 'optimized_lgb' is not defined",
     "output_type": "error",
     "traceback": [
      "\u001b[1;31m---------------------------------------------------------------------------\u001b[0m",
      "\u001b[1;31mNameError\u001b[0m                                 Traceback (most recent call last)",
      "Cell \u001b[1;32mIn[30], line 1\u001b[0m\n\u001b[1;32m----> 1\u001b[0m \u001b[39mprint\u001b[39m(optimized_lgb)\n",
      "\u001b[1;31mNameError\u001b[0m: name 'optimized_lgb' is not defined"
     ]
    }
   ],
   "source": [
    "print(optimized_lgb)"
   ]
  },
  {
   "cell_type": "code",
   "execution_count": null,
   "metadata": {},
   "outputs": [
    {
     "data": {
      "text/html": [
       "<style type=\"text/css\">\n",
       "#T_51aa4_row10_col0, #T_51aa4_row10_col1, #T_51aa4_row10_col2, #T_51aa4_row10_col3, #T_51aa4_row10_col4, #T_51aa4_row10_col5, #T_51aa4_row10_col6 {\n",
       "  background: yellow;\n",
       "}\n",
       "</style>\n",
       "<table id=\"T_51aa4\">\n",
       "  <thead>\n",
       "    <tr>\n",
       "      <th class=\"blank level0\" >&nbsp;</th>\n",
       "      <th id=\"T_51aa4_level0_col0\" class=\"col_heading level0 col0\" >Accuracy</th>\n",
       "      <th id=\"T_51aa4_level0_col1\" class=\"col_heading level0 col1\" >AUC</th>\n",
       "      <th id=\"T_51aa4_level0_col2\" class=\"col_heading level0 col2\" >Recall</th>\n",
       "      <th id=\"T_51aa4_level0_col3\" class=\"col_heading level0 col3\" >Prec.</th>\n",
       "      <th id=\"T_51aa4_level0_col4\" class=\"col_heading level0 col4\" >F1</th>\n",
       "      <th id=\"T_51aa4_level0_col5\" class=\"col_heading level0 col5\" >Kappa</th>\n",
       "      <th id=\"T_51aa4_level0_col6\" class=\"col_heading level0 col6\" >MCC</th>\n",
       "    </tr>\n",
       "    <tr>\n",
       "      <th class=\"index_name level0\" >Fold</th>\n",
       "      <th class=\"blank col0\" >&nbsp;</th>\n",
       "      <th class=\"blank col1\" >&nbsp;</th>\n",
       "      <th class=\"blank col2\" >&nbsp;</th>\n",
       "      <th class=\"blank col3\" >&nbsp;</th>\n",
       "      <th class=\"blank col4\" >&nbsp;</th>\n",
       "      <th class=\"blank col5\" >&nbsp;</th>\n",
       "      <th class=\"blank col6\" >&nbsp;</th>\n",
       "    </tr>\n",
       "  </thead>\n",
       "  <tbody>\n",
       "    <tr>\n",
       "      <th id=\"T_51aa4_level0_row0\" class=\"row_heading level0 row0\" >0</th>\n",
       "      <td id=\"T_51aa4_row0_col0\" class=\"data row0 col0\" >0.9049</td>\n",
       "      <td id=\"T_51aa4_row0_col1\" class=\"data row0 col1\" >0.9305</td>\n",
       "      <td id=\"T_51aa4_row0_col2\" class=\"data row0 col2\" >0.7216</td>\n",
       "      <td id=\"T_51aa4_row0_col3\" class=\"data row0 col3\" >0.5742</td>\n",
       "      <td id=\"T_51aa4_row0_col4\" class=\"data row0 col4\" >0.6395</td>\n",
       "      <td id=\"T_51aa4_row0_col5\" class=\"data row0 col5\" >0.5856</td>\n",
       "      <td id=\"T_51aa4_row0_col6\" class=\"data row0 col6\" >0.5906</td>\n",
       "    </tr>\n",
       "    <tr>\n",
       "      <th id=\"T_51aa4_level0_row1\" class=\"row_heading level0 row1\" >1</th>\n",
       "      <td id=\"T_51aa4_row1_col0\" class=\"data row1 col0\" >0.8882</td>\n",
       "      <td id=\"T_51aa4_row1_col1\" class=\"data row1 col1\" >0.9166</td>\n",
       "      <td id=\"T_51aa4_row1_col2\" class=\"data row1 col2\" >0.6757</td>\n",
       "      <td id=\"T_51aa4_row1_col3\" class=\"data row1 col3\" >0.5165</td>\n",
       "      <td id=\"T_51aa4_row1_col4\" class=\"data row1 col4\" >0.5855</td>\n",
       "      <td id=\"T_51aa4_row1_col5\" class=\"data row1 col5\" >0.5222</td>\n",
       "      <td id=\"T_51aa4_row1_col6\" class=\"data row1 col6\" >0.5285</td>\n",
       "    </tr>\n",
       "    <tr>\n",
       "      <th id=\"T_51aa4_level0_row2\" class=\"row_heading level0 row2\" >2</th>\n",
       "      <td id=\"T_51aa4_row2_col0\" class=\"data row2 col0\" >0.9033</td>\n",
       "      <td id=\"T_51aa4_row2_col1\" class=\"data row2 col1\" >0.9315</td>\n",
       "      <td id=\"T_51aa4_row2_col2\" class=\"data row2 col2\" >0.7305</td>\n",
       "      <td id=\"T_51aa4_row2_col3\" class=\"data row2 col3\" >0.5681</td>\n",
       "      <td id=\"T_51aa4_row2_col4\" class=\"data row2 col4\" >0.6392</td>\n",
       "      <td id=\"T_51aa4_row2_col5\" class=\"data row2 col5\" >0.5843</td>\n",
       "      <td id=\"T_51aa4_row2_col6\" class=\"data row2 col6\" >0.5905</td>\n",
       "    </tr>\n",
       "    <tr>\n",
       "      <th id=\"T_51aa4_level0_row3\" class=\"row_heading level0 row3\" >3</th>\n",
       "      <td id=\"T_51aa4_row3_col0\" class=\"data row3 col0\" >0.9036</td>\n",
       "      <td id=\"T_51aa4_row3_col1\" class=\"data row3 col1\" >0.9263</td>\n",
       "      <td id=\"T_51aa4_row3_col2\" class=\"data row3 col2\" >0.7170</td>\n",
       "      <td id=\"T_51aa4_row3_col3\" class=\"data row3 col3\" >0.5708</td>\n",
       "      <td id=\"T_51aa4_row3_col4\" class=\"data row3 col4\" >0.6356</td>\n",
       "      <td id=\"T_51aa4_row3_col5\" class=\"data row3 col5\" >0.5809</td>\n",
       "      <td id=\"T_51aa4_row3_col6\" class=\"data row3 col6\" >0.5859</td>\n",
       "    </tr>\n",
       "    <tr>\n",
       "      <th id=\"T_51aa4_level0_row4\" class=\"row_heading level0 row4\" >4</th>\n",
       "      <td id=\"T_51aa4_row4_col0\" class=\"data row4 col0\" >0.9084</td>\n",
       "      <td id=\"T_51aa4_row4_col1\" class=\"data row4 col1\" >0.9354</td>\n",
       "      <td id=\"T_51aa4_row4_col2\" class=\"data row4 col2\" >0.7035</td>\n",
       "      <td id=\"T_51aa4_row4_col3\" class=\"data row4 col3\" >0.5918</td>\n",
       "      <td id=\"T_51aa4_row4_col4\" class=\"data row4 col4\" >0.6429</td>\n",
       "      <td id=\"T_51aa4_row4_col5\" class=\"data row4 col5\" >0.5907</td>\n",
       "      <td id=\"T_51aa4_row4_col6\" class=\"data row4 col6\" >0.5937</td>\n",
       "    </tr>\n",
       "    <tr>\n",
       "      <th id=\"T_51aa4_level0_row5\" class=\"row_heading level0 row5\" >5</th>\n",
       "      <td id=\"T_51aa4_row5_col0\" class=\"data row5 col0\" >0.9030</td>\n",
       "      <td id=\"T_51aa4_row5_col1\" class=\"data row5 col1\" >0.9179</td>\n",
       "      <td id=\"T_51aa4_row5_col2\" class=\"data row5 col2\" >0.6469</td>\n",
       "      <td id=\"T_51aa4_row5_col3\" class=\"data row5 col3\" >0.5769</td>\n",
       "      <td id=\"T_51aa4_row5_col4\" class=\"data row5 col4\" >0.6099</td>\n",
       "      <td id=\"T_51aa4_row5_col5\" class=\"data row5 col5\" >0.5547</td>\n",
       "      <td id=\"T_51aa4_row5_col6\" class=\"data row5 col6\" >0.5559</td>\n",
       "    </tr>\n",
       "    <tr>\n",
       "      <th id=\"T_51aa4_level0_row6\" class=\"row_heading level0 row6\" >6</th>\n",
       "      <td id=\"T_51aa4_row6_col0\" class=\"data row6 col0\" >0.8995</td>\n",
       "      <td id=\"T_51aa4_row6_col1\" class=\"data row6 col1\" >0.9261</td>\n",
       "      <td id=\"T_51aa4_row6_col2\" class=\"data row6 col2\" >0.6981</td>\n",
       "      <td id=\"T_51aa4_row6_col3\" class=\"data row6 col3\" >0.5570</td>\n",
       "      <td id=\"T_51aa4_row6_col4\" class=\"data row6 col4\" >0.6196</td>\n",
       "      <td id=\"T_51aa4_row6_col5\" class=\"data row6 col5\" >0.5626</td>\n",
       "      <td id=\"T_51aa4_row6_col6\" class=\"data row6 col6\" >0.5673</td>\n",
       "    </tr>\n",
       "    <tr>\n",
       "      <th id=\"T_51aa4_level0_row7\" class=\"row_heading level0 row7\" >7</th>\n",
       "      <td id=\"T_51aa4_row7_col0\" class=\"data row7 col0\" >0.8982</td>\n",
       "      <td id=\"T_51aa4_row7_col1\" class=\"data row7 col1\" >0.9290</td>\n",
       "      <td id=\"T_51aa4_row7_col2\" class=\"data row7 col2\" >0.6784</td>\n",
       "      <td id=\"T_51aa4_row7_col3\" class=\"data row7 col3\" >0.5529</td>\n",
       "      <td id=\"T_51aa4_row7_col4\" class=\"data row7 col4\" >0.6092</td>\n",
       "      <td id=\"T_51aa4_row7_col5\" class=\"data row7 col5\" >0.5514</td>\n",
       "      <td id=\"T_51aa4_row7_col6\" class=\"data row7 col6\" >0.5552</td>\n",
       "    </tr>\n",
       "    <tr>\n",
       "      <th id=\"T_51aa4_level0_row8\" class=\"row_heading level0 row8\" >8</th>\n",
       "      <td id=\"T_51aa4_row8_col0\" class=\"data row8 col0\" >0.8976</td>\n",
       "      <td id=\"T_51aa4_row8_col1\" class=\"data row8 col1\" >0.9225</td>\n",
       "      <td id=\"T_51aa4_row8_col2\" class=\"data row8 col2\" >0.6973</td>\n",
       "      <td id=\"T_51aa4_row8_col3\" class=\"data row8 col3\" >0.5489</td>\n",
       "      <td id=\"T_51aa4_row8_col4\" class=\"data row8 col4\" >0.6143</td>\n",
       "      <td id=\"T_51aa4_row8_col5\" class=\"data row8 col5\" >0.5562</td>\n",
       "      <td id=\"T_51aa4_row8_col6\" class=\"data row8 col6\" >0.5615</td>\n",
       "    </tr>\n",
       "    <tr>\n",
       "      <th id=\"T_51aa4_level0_row9\" class=\"row_heading level0 row9\" >9</th>\n",
       "      <td id=\"T_51aa4_row9_col0\" class=\"data row9 col0\" >0.9030</td>\n",
       "      <td id=\"T_51aa4_row9_col1\" class=\"data row9 col1\" >0.9310</td>\n",
       "      <td id=\"T_51aa4_row9_col2\" class=\"data row9 col2\" >0.6676</td>\n",
       "      <td id=\"T_51aa4_row9_col3\" class=\"data row9 col3\" >0.5731</td>\n",
       "      <td id=\"T_51aa4_row9_col4\" class=\"data row9 col4\" >0.6167</td>\n",
       "      <td id=\"T_51aa4_row9_col5\" class=\"data row9 col5\" >0.5616</td>\n",
       "      <td id=\"T_51aa4_row9_col6\" class=\"data row9 col6\" >0.5637</td>\n",
       "    </tr>\n",
       "    <tr>\n",
       "      <th id=\"T_51aa4_level0_row10\" class=\"row_heading level0 row10\" >Mean</th>\n",
       "      <td id=\"T_51aa4_row10_col0\" class=\"data row10 col0\" >0.9010</td>\n",
       "      <td id=\"T_51aa4_row10_col1\" class=\"data row10 col1\" >0.9267</td>\n",
       "      <td id=\"T_51aa4_row10_col2\" class=\"data row10 col2\" >0.6936</td>\n",
       "      <td id=\"T_51aa4_row10_col3\" class=\"data row10 col3\" >0.5630</td>\n",
       "      <td id=\"T_51aa4_row10_col4\" class=\"data row10 col4\" >0.6212</td>\n",
       "      <td id=\"T_51aa4_row10_col5\" class=\"data row10 col5\" >0.5650</td>\n",
       "      <td id=\"T_51aa4_row10_col6\" class=\"data row10 col6\" >0.5693</td>\n",
       "    </tr>\n",
       "    <tr>\n",
       "      <th id=\"T_51aa4_level0_row11\" class=\"row_heading level0 row11\" >Std</th>\n",
       "      <td id=\"T_51aa4_row11_col0\" class=\"data row11 col0\" >0.0053</td>\n",
       "      <td id=\"T_51aa4_row11_col1\" class=\"data row11 col1\" >0.0058</td>\n",
       "      <td id=\"T_51aa4_row11_col2\" class=\"data row11 col2\" >0.0250</td>\n",
       "      <td id=\"T_51aa4_row11_col3\" class=\"data row11 col3\" >0.0196</td>\n",
       "      <td id=\"T_51aa4_row11_col4\" class=\"data row11 col4\" >0.0172</td>\n",
       "      <td id=\"T_51aa4_row11_col5\" class=\"data row11 col5\" >0.0198</td>\n",
       "      <td id=\"T_51aa4_row11_col6\" class=\"data row11 col6\" >0.0198</td>\n",
       "    </tr>\n",
       "  </tbody>\n",
       "</table>\n"
      ],
      "text/plain": [
       "<pandas.io.formats.style.Styler at 0x2194638b580>"
      ]
     },
     "metadata": {},
     "output_type": "display_data"
    }
   ],
   "source": [
    "# stack models\n",
    "stacker = stack_models(compare_models(n_select = 3))"
   ]
  },
  {
   "attachments": {},
   "cell_type": "markdown",
   "metadata": {},
   "source": [
    "No so much improvement of accuracy performance after stacking, but recall increases"
   ]
  },
  {
   "attachments": {},
   "cell_type": "markdown",
   "metadata": {},
   "source": [
    "# Making Predictions"
   ]
  },
  {
   "cell_type": "code",
   "execution_count": null,
   "metadata": {},
   "outputs": [
    {
     "data": {
      "text/html": [
       "<style type=\"text/css\">\n",
       "</style>\n",
       "<table id=\"T_33488\">\n",
       "  <thead>\n",
       "    <tr>\n",
       "      <th class=\"blank level0\" >&nbsp;</th>\n",
       "      <th id=\"T_33488_level0_col0\" class=\"col_heading level0 col0\" >Model</th>\n",
       "      <th id=\"T_33488_level0_col1\" class=\"col_heading level0 col1\" >Accuracy</th>\n",
       "      <th id=\"T_33488_level0_col2\" class=\"col_heading level0 col2\" >AUC</th>\n",
       "      <th id=\"T_33488_level0_col3\" class=\"col_heading level0 col3\" >Recall</th>\n",
       "      <th id=\"T_33488_level0_col4\" class=\"col_heading level0 col4\" >Prec.</th>\n",
       "      <th id=\"T_33488_level0_col5\" class=\"col_heading level0 col5\" >F1</th>\n",
       "      <th id=\"T_33488_level0_col6\" class=\"col_heading level0 col6\" >Kappa</th>\n",
       "      <th id=\"T_33488_level0_col7\" class=\"col_heading level0 col7\" >MCC</th>\n",
       "    </tr>\n",
       "  </thead>\n",
       "  <tbody>\n",
       "    <tr>\n",
       "      <th id=\"T_33488_level0_row0\" class=\"row_heading level0 row0\" >0</th>\n",
       "      <td id=\"T_33488_row0_col0\" class=\"data row0 col0\" >CatBoost Classifier</td>\n",
       "      <td id=\"T_33488_row0_col1\" class=\"data row0 col1\" >0.9053</td>\n",
       "      <td id=\"T_33488_row0_col2\" class=\"data row0 col2\" >0.9350</td>\n",
       "      <td id=\"T_33488_row0_col3\" class=\"data row0 col3\" >0.4800</td>\n",
       "      <td id=\"T_33488_row0_col4\" class=\"data row0 col4\" >0.6192</td>\n",
       "      <td id=\"T_33488_row0_col5\" class=\"data row0 col5\" >0.5408</td>\n",
       "      <td id=\"T_33488_row0_col6\" class=\"data row0 col6\" >0.4889</td>\n",
       "      <td id=\"T_33488_row0_col7\" class=\"data row0 col7\" >0.4939</td>\n",
       "    </tr>\n",
       "  </tbody>\n",
       "</table>\n"
      ],
      "text/plain": [
       "<pandas.io.formats.style.Styler at 0x22e58f7dc10>"
      ]
     },
     "metadata": {},
     "output_type": "display_data"
    },
    {
     "data": {
      "text/html": [
       "<div>\n",
       "<style scoped>\n",
       "    .dataframe tbody tr th:only-of-type {\n",
       "        vertical-align: middle;\n",
       "    }\n",
       "\n",
       "    .dataframe tbody tr th {\n",
       "        vertical-align: top;\n",
       "    }\n",
       "\n",
       "    .dataframe thead th {\n",
       "        text-align: right;\n",
       "    }\n",
       "</style>\n",
       "<table border=\"1\" class=\"dataframe\">\n",
       "  <thead>\n",
       "    <tr style=\"text-align: right;\">\n",
       "      <th></th>\n",
       "      <th>age</th>\n",
       "      <th>balance</th>\n",
       "      <th>day</th>\n",
       "      <th>duration</th>\n",
       "      <th>campaign</th>\n",
       "      <th>pdays</th>\n",
       "      <th>previous</th>\n",
       "      <th>job_admin.</th>\n",
       "      <th>job_blue-collar</th>\n",
       "      <th>job_entrepreneur</th>\n",
       "      <th>...</th>\n",
       "      <th>month_nov</th>\n",
       "      <th>month_oct</th>\n",
       "      <th>month_sep</th>\n",
       "      <th>poutcome_failure</th>\n",
       "      <th>poutcome_other</th>\n",
       "      <th>poutcome_success</th>\n",
       "      <th>poutcome_unknown</th>\n",
       "      <th>y</th>\n",
       "      <th>Label</th>\n",
       "      <th>Score</th>\n",
       "    </tr>\n",
       "  </thead>\n",
       "  <tbody>\n",
       "    <tr>\n",
       "      <th>0</th>\n",
       "      <td>27.0</td>\n",
       "      <td>691.0</td>\n",
       "      <td>6.0</td>\n",
       "      <td>357.0</td>\n",
       "      <td>12.0</td>\n",
       "      <td>-1.0</td>\n",
       "      <td>0.0</td>\n",
       "      <td>0.0</td>\n",
       "      <td>0.0</td>\n",
       "      <td>0.0</td>\n",
       "      <td>...</td>\n",
       "      <td>0.0</td>\n",
       "      <td>0.0</td>\n",
       "      <td>0.0</td>\n",
       "      <td>0.0</td>\n",
       "      <td>0.0</td>\n",
       "      <td>0.0</td>\n",
       "      <td>1.0</td>\n",
       "      <td>no</td>\n",
       "      <td>no</td>\n",
       "      <td>0.9453</td>\n",
       "    </tr>\n",
       "    <tr>\n",
       "      <th>1</th>\n",
       "      <td>23.0</td>\n",
       "      <td>1062.0</td>\n",
       "      <td>27.0</td>\n",
       "      <td>379.0</td>\n",
       "      <td>3.0</td>\n",
       "      <td>-1.0</td>\n",
       "      <td>0.0</td>\n",
       "      <td>0.0</td>\n",
       "      <td>0.0</td>\n",
       "      <td>0.0</td>\n",
       "      <td>...</td>\n",
       "      <td>0.0</td>\n",
       "      <td>0.0</td>\n",
       "      <td>1.0</td>\n",
       "      <td>0.0</td>\n",
       "      <td>0.0</td>\n",
       "      <td>0.0</td>\n",
       "      <td>1.0</td>\n",
       "      <td>no</td>\n",
       "      <td>no</td>\n",
       "      <td>0.7496</td>\n",
       "    </tr>\n",
       "    <tr>\n",
       "      <th>2</th>\n",
       "      <td>39.0</td>\n",
       "      <td>401.0</td>\n",
       "      <td>17.0</td>\n",
       "      <td>396.0</td>\n",
       "      <td>1.0</td>\n",
       "      <td>129.0</td>\n",
       "      <td>2.0</td>\n",
       "      <td>1.0</td>\n",
       "      <td>0.0</td>\n",
       "      <td>0.0</td>\n",
       "      <td>...</td>\n",
       "      <td>1.0</td>\n",
       "      <td>0.0</td>\n",
       "      <td>0.0</td>\n",
       "      <td>1.0</td>\n",
       "      <td>0.0</td>\n",
       "      <td>0.0</td>\n",
       "      <td>0.0</td>\n",
       "      <td>no</td>\n",
       "      <td>no</td>\n",
       "      <td>0.9274</td>\n",
       "    </tr>\n",
       "    <tr>\n",
       "      <th>3</th>\n",
       "      <td>40.0</td>\n",
       "      <td>340.0</td>\n",
       "      <td>29.0</td>\n",
       "      <td>146.0</td>\n",
       "      <td>1.0</td>\n",
       "      <td>-1.0</td>\n",
       "      <td>0.0</td>\n",
       "      <td>0.0</td>\n",
       "      <td>0.0</td>\n",
       "      <td>0.0</td>\n",
       "      <td>...</td>\n",
       "      <td>0.0</td>\n",
       "      <td>0.0</td>\n",
       "      <td>0.0</td>\n",
       "      <td>0.0</td>\n",
       "      <td>0.0</td>\n",
       "      <td>0.0</td>\n",
       "      <td>1.0</td>\n",
       "      <td>no</td>\n",
       "      <td>no</td>\n",
       "      <td>0.9979</td>\n",
       "    </tr>\n",
       "    <tr>\n",
       "      <th>4</th>\n",
       "      <td>41.0</td>\n",
       "      <td>4517.0</td>\n",
       "      <td>20.0</td>\n",
       "      <td>137.0</td>\n",
       "      <td>1.0</td>\n",
       "      <td>-1.0</td>\n",
       "      <td>0.0</td>\n",
       "      <td>0.0</td>\n",
       "      <td>0.0</td>\n",
       "      <td>0.0</td>\n",
       "      <td>...</td>\n",
       "      <td>1.0</td>\n",
       "      <td>0.0</td>\n",
       "      <td>0.0</td>\n",
       "      <td>0.0</td>\n",
       "      <td>0.0</td>\n",
       "      <td>0.0</td>\n",
       "      <td>1.0</td>\n",
       "      <td>no</td>\n",
       "      <td>no</td>\n",
       "      <td>0.9886</td>\n",
       "    </tr>\n",
       "    <tr>\n",
       "      <th>5</th>\n",
       "      <td>56.0</td>\n",
       "      <td>881.0</td>\n",
       "      <td>14.0</td>\n",
       "      <td>225.0</td>\n",
       "      <td>2.0</td>\n",
       "      <td>-1.0</td>\n",
       "      <td>0.0</td>\n",
       "      <td>0.0</td>\n",
       "      <td>1.0</td>\n",
       "      <td>0.0</td>\n",
       "      <td>...</td>\n",
       "      <td>0.0</td>\n",
       "      <td>0.0</td>\n",
       "      <td>0.0</td>\n",
       "      <td>0.0</td>\n",
       "      <td>0.0</td>\n",
       "      <td>0.0</td>\n",
       "      <td>1.0</td>\n",
       "      <td>no</td>\n",
       "      <td>no</td>\n",
       "      <td>0.9984</td>\n",
       "    </tr>\n",
       "    <tr>\n",
       "      <th>6</th>\n",
       "      <td>34.0</td>\n",
       "      <td>0.0</td>\n",
       "      <td>7.0</td>\n",
       "      <td>181.0</td>\n",
       "      <td>3.0</td>\n",
       "      <td>-1.0</td>\n",
       "      <td>0.0</td>\n",
       "      <td>0.0</td>\n",
       "      <td>0.0</td>\n",
       "      <td>0.0</td>\n",
       "      <td>...</td>\n",
       "      <td>0.0</td>\n",
       "      <td>0.0</td>\n",
       "      <td>0.0</td>\n",
       "      <td>0.0</td>\n",
       "      <td>0.0</td>\n",
       "      <td>0.0</td>\n",
       "      <td>1.0</td>\n",
       "      <td>no</td>\n",
       "      <td>no</td>\n",
       "      <td>0.9781</td>\n",
       "    </tr>\n",
       "    <tr>\n",
       "      <th>7</th>\n",
       "      <td>67.0</td>\n",
       "      <td>701.0</td>\n",
       "      <td>6.0</td>\n",
       "      <td>254.0</td>\n",
       "      <td>2.0</td>\n",
       "      <td>-1.0</td>\n",
       "      <td>0.0</td>\n",
       "      <td>0.0</td>\n",
       "      <td>0.0</td>\n",
       "      <td>0.0</td>\n",
       "      <td>...</td>\n",
       "      <td>0.0</td>\n",
       "      <td>0.0</td>\n",
       "      <td>0.0</td>\n",
       "      <td>0.0</td>\n",
       "      <td>0.0</td>\n",
       "      <td>0.0</td>\n",
       "      <td>1.0</td>\n",
       "      <td>yes</td>\n",
       "      <td>no</td>\n",
       "      <td>0.6865</td>\n",
       "    </tr>\n",
       "    <tr>\n",
       "      <th>8</th>\n",
       "      <td>28.0</td>\n",
       "      <td>459.0</td>\n",
       "      <td>3.0</td>\n",
       "      <td>178.0</td>\n",
       "      <td>1.0</td>\n",
       "      <td>-1.0</td>\n",
       "      <td>0.0</td>\n",
       "      <td>0.0</td>\n",
       "      <td>1.0</td>\n",
       "      <td>0.0</td>\n",
       "      <td>...</td>\n",
       "      <td>0.0</td>\n",
       "      <td>0.0</td>\n",
       "      <td>0.0</td>\n",
       "      <td>0.0</td>\n",
       "      <td>0.0</td>\n",
       "      <td>0.0</td>\n",
       "      <td>1.0</td>\n",
       "      <td>no</td>\n",
       "      <td>no</td>\n",
       "      <td>0.9960</td>\n",
       "    </tr>\n",
       "    <tr>\n",
       "      <th>9</th>\n",
       "      <td>30.0</td>\n",
       "      <td>1.0</td>\n",
       "      <td>18.0</td>\n",
       "      <td>119.0</td>\n",
       "      <td>2.0</td>\n",
       "      <td>-1.0</td>\n",
       "      <td>0.0</td>\n",
       "      <td>0.0</td>\n",
       "      <td>0.0</td>\n",
       "      <td>0.0</td>\n",
       "      <td>...</td>\n",
       "      <td>1.0</td>\n",
       "      <td>0.0</td>\n",
       "      <td>0.0</td>\n",
       "      <td>0.0</td>\n",
       "      <td>0.0</td>\n",
       "      <td>0.0</td>\n",
       "      <td>1.0</td>\n",
       "      <td>no</td>\n",
       "      <td>no</td>\n",
       "      <td>0.9966</td>\n",
       "    </tr>\n",
       "  </tbody>\n",
       "</table>\n",
       "<p>10 rows × 51 columns</p>\n",
       "</div>"
      ],
      "text/plain": [
       "    age  balance   day  duration  campaign  pdays  previous  job_admin.  \\\n",
       "0  27.0    691.0   6.0     357.0      12.0   -1.0       0.0         0.0   \n",
       "1  23.0   1062.0  27.0     379.0       3.0   -1.0       0.0         0.0   \n",
       "2  39.0    401.0  17.0     396.0       1.0  129.0       2.0         1.0   \n",
       "3  40.0    340.0  29.0     146.0       1.0   -1.0       0.0         0.0   \n",
       "4  41.0   4517.0  20.0     137.0       1.0   -1.0       0.0         0.0   \n",
       "5  56.0    881.0  14.0     225.0       2.0   -1.0       0.0         0.0   \n",
       "6  34.0      0.0   7.0     181.0       3.0   -1.0       0.0         0.0   \n",
       "7  67.0    701.0   6.0     254.0       2.0   -1.0       0.0         0.0   \n",
       "8  28.0    459.0   3.0     178.0       1.0   -1.0       0.0         0.0   \n",
       "9  30.0      1.0  18.0     119.0       2.0   -1.0       0.0         0.0   \n",
       "\n",
       "   job_blue-collar  job_entrepreneur  ...  month_nov  month_oct  month_sep  \\\n",
       "0              0.0               0.0  ...        0.0        0.0        0.0   \n",
       "1              0.0               0.0  ...        0.0        0.0        1.0   \n",
       "2              0.0               0.0  ...        1.0        0.0        0.0   \n",
       "3              0.0               0.0  ...        0.0        0.0        0.0   \n",
       "4              0.0               0.0  ...        1.0        0.0        0.0   \n",
       "5              1.0               0.0  ...        0.0        0.0        0.0   \n",
       "6              0.0               0.0  ...        0.0        0.0        0.0   \n",
       "7              0.0               0.0  ...        0.0        0.0        0.0   \n",
       "8              1.0               0.0  ...        0.0        0.0        0.0   \n",
       "9              0.0               0.0  ...        1.0        0.0        0.0   \n",
       "\n",
       "   poutcome_failure  poutcome_other  poutcome_success  poutcome_unknown    y  \\\n",
       "0               0.0             0.0               0.0               1.0   no   \n",
       "1               0.0             0.0               0.0               1.0   no   \n",
       "2               1.0             0.0               0.0               0.0   no   \n",
       "3               0.0             0.0               0.0               1.0   no   \n",
       "4               0.0             0.0               0.0               1.0   no   \n",
       "5               0.0             0.0               0.0               1.0   no   \n",
       "6               0.0             0.0               0.0               1.0   no   \n",
       "7               0.0             0.0               0.0               1.0  yes   \n",
       "8               0.0             0.0               0.0               1.0   no   \n",
       "9               0.0             0.0               0.0               1.0   no   \n",
       "\n",
       "   Label   Score  \n",
       "0     no  0.9453  \n",
       "1     no  0.7496  \n",
       "2     no  0.9274  \n",
       "3     no  0.9979  \n",
       "4     no  0.9886  \n",
       "5     no  0.9984  \n",
       "6     no  0.9781  \n",
       "7     no  0.6865  \n",
       "8     no  0.9960  \n",
       "9     no  0.9966  \n",
       "\n",
       "[10 rows x 51 columns]"
      ]
     },
     "execution_count": 16,
     "metadata": {},
     "output_type": "execute_result"
    }
   ],
   "source": [
    "predictions = predict_model(model_cat)\n",
    "\n",
    "predictions.head(10)"
   ]
  },
  {
   "cell_type": "code",
   "execution_count": null,
   "metadata": {},
   "outputs": [],
   "source": []
  },
  {
   "attachments": {},
   "cell_type": "markdown",
   "metadata": {},
   "source": [
    "# Plotting the Model"
   ]
  },
  {
   "cell_type": "code",
   "execution_count": null,
   "metadata": {},
   "outputs": [
    {
     "data": {
      "image/png": "[encoded data removed]",
      "text/plain": [
       "<Figure size 800x550 with 1 Axes>"
      ]
     },
     "metadata": {},
     "output_type": "display_data"
    }
   ],
   "source": [
    "plot_model(model_cat, 'confusion_matrix')"
   ]
  },
  {
   "cell_type": "code",
   "execution_count": null,
   "metadata": {},
   "outputs": [
    {
     "data": {
      "image/png": "[encoded data removed]",
      "text/plain": [
       "<Figure size 1600x1100 with 1 Axes>"
      ]
     },
     "metadata": {},
     "output_type": "display_data"
    }
   ],
   "source": [
    "plot_model(model_cat, 'boundary', scale = 2)"
   ]
  },
  {
   "attachments": {},
   "cell_type": "markdown",
   "metadata": {},
   "source": [
    "# Finalizing and Saving the Model\n"
   ]
  },
  {
   "cell_type": "code",
   "execution_count": null,
   "metadata": {},
   "outputs": [
    {
     "name": "stdout",
     "output_type": "stream",
     "text": [
      "Transformation Pipeline and Model Successfully Saved\n"
     ]
    },
    {
     "data": {
      "text/plain": [
       "(Pipeline(memory=None,\n",
       "          steps=[('dtypes',\n",
       "                  DataTypes_Auto_infer(categorical_features=['job', 'marital',\n",
       "                                                             'education',\n",
       "                                                             'default',\n",
       "                                                             'housing', 'loan',\n",
       "                                                             'contact', 'month',\n",
       "                                                             'poutcome'],\n",
       "                                       display_types=True, features_todrop=[],\n",
       "                                       id_columns=[],\n",
       "                                       ml_usecase='classification',\n",
       "                                       numerical_features=[], target='y',\n",
       "                                       time_features=[])),\n",
       "                 ('imputer',\n",
       "                  Simple_Imputer(categorical_strategy='not_...\n",
       "                 ('binn', 'passthrough'), ('rem_outliers', 'passthrough'),\n",
       "                 ('cluster_all', 'passthrough'), ('dummy', Dummify(target='y')),\n",
       "                 ('fix_perfect', Remove_100(target='y')),\n",
       "                 ('clean_names', Clean_Colum_Names()),\n",
       "                 ('feature_select', 'passthrough'), ('fix_multi', 'passthrough'),\n",
       "                 ('dfs', 'passthrough'), ('pca', 'passthrough'),\n",
       "                 ['trained_model',\n",
       "                  <catboost.core.CatBoostClassifier object at 0x0000022E5902D4F0>]],\n",
       "          verbose=False),\n",
       " 'catboost_model.pkl')"
      ]
     },
     "execution_count": 19,
     "metadata": {},
     "output_type": "execute_result"
    }
   ],
   "source": [
    "final_model = finalize_model(model_cat)\n",
    "\n",
    "save_model(final_model, 'catboost_model')"
   ]
  },
  {
   "attachments": {},
   "cell_type": "markdown",
   "metadata": {},
   "source": [
    "# Load saved model"
   ]
  },
  {
   "cell_type": "code",
   "execution_count": null,
   "metadata": {},
   "outputs": [
    {
     "name": "stdout",
     "output_type": "stream",
     "text": [
      "Transformation Pipeline and Model Successfully Loaded\n"
     ]
    },
    {
     "data": {
      "text/plain": [
       "Pipeline(memory=None,\n",
       "         steps=[('dtypes',\n",
       "                 DataTypes_Auto_infer(categorical_features=['job', 'marital',\n",
       "                                                            'education',\n",
       "                                                            'default',\n",
       "                                                            'housing', 'loan',\n",
       "                                                            'contact', 'month',\n",
       "                                                            'poutcome'],\n",
       "                                      display_types=True, features_todrop=[],\n",
       "                                      id_columns=[],\n",
       "                                      ml_usecase='classification',\n",
       "                                      numerical_features=[], target='y',\n",
       "                                      time_features=[])),\n",
       "                ('imputer',\n",
       "                 Simple_Imputer(categorical_strategy='not_...\n",
       "                ('binn', 'passthrough'), ('rem_outliers', 'passthrough'),\n",
       "                ('cluster_all', 'passthrough'), ('dummy', Dummify(target='y')),\n",
       "                ('fix_perfect', Remove_100(target='y')),\n",
       "                ('clean_names', Clean_Colum_Names()),\n",
       "                ('feature_select', 'passthrough'), ('fix_multi', 'passthrough'),\n",
       "                ('dfs', 'passthrough'), ('pca', 'passthrough'),\n",
       "                ['trained_model',\n",
       "                 <catboost.core.CatBoostClassifier object at 0x000002790D8A6F10>]],\n",
       "         verbose=False)"
      ]
     },
     "execution_count": 22,
     "metadata": {},
     "output_type": "execute_result"
    }
   ],
   "source": [
    "# load pipeline\n",
    "loaded_best_pipeline = load_model('../catboost_model')\n",
    "loaded_best_pipeline"
   ]
  }
 ],
 "metadata": {
  "kernelspec": {
   "display_name": "Python 3",
   "language": "python",
   "name": "python3"
  },
  "language_info": {
   "codemirror_mode": {
    "name": "ipython",
    "version": 3
   },
   "file_extension": ".py",
   "mimetype": "text/x-python",
   "name": "python",
   "nbconvert_exporter": "python",
   "pygments_lexer": "ipython3",
   "version": "3.8.5"
  },
  "orig_nbformat": 4
 },
 "nbformat": 4,
 "nbformat_minor": 2
}
